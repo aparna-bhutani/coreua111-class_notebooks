{
 "cells": [
  {
   "cell_type": "code",
   "execution_count": 4,
   "metadata": {
    "slideshow": {
     "slide_type": "skip"
    }
   },
   "outputs": [],
   "source": [
    "# ignore the next two lines; these just make sure plots fit on the screen\n",
    "library('repr')\n",
    "options(repr.plot.width=3, repr.plot.height=3)"
   ]
  },
  {
   "cell_type": "markdown",
   "metadata": {
    "slideshow": {
     "slide_type": "slide"
    }
   },
   "source": [
    "# Warm-up Question (clicker)\n",
    "\n",
    "\n",
    "Suppose we have a data frame called `my_pets_new` consisting of 6 rows and 4 columns:\n",
    "\n",
    "\n",
    "<table>\n",
    "    <tr> \n",
    "        <th>Name</th>\n",
    "        <th>Species</th>\n",
    "        <th>Weight_lb</th>\n",
    "        <th>Age</th>\n",
    "    </tr>\n",
    "    <tr>\n",
    "        <td>Alex</td>\n",
    "        <td>Cat</td>\n",
    "        <td>25</td>\n",
    "        <td>8</td>\n",
    "    </tr>\n",
    "    <tr>\n",
    "        <td>Bert</td>\n",
    "        <td>Cat</td>\n",
    "        <td>15</td>\n",
    "        <td>3</td>\n",
    "    </tr>\n",
    "    <tr>\n",
    "        <td>Cate</td>\n",
    "        <td>Dog</td>\n",
    "        <td>100</td>\n",
    "        <td>4</td>\n",
    "    </tr>\n",
    "    <tr>\n",
    "        <td>Doug</td>\n",
    "        <td>Cat</td>\n",
    "        <td>20</td>\n",
    "        <td>7</td>\n",
    "    </tr>\n",
    "    <tr>\n",
    "        <td>Evan</td>\n",
    "        <td>Dog</td>\n",
    "        <td>20</td>\n",
    "        <td>1</td>\n",
    "    </tr>\n",
    "    <tr>\n",
    "        <td>Finn</td>\n",
    "        <td>Rabbit</td>\n",
    "        <td>4</td>\n",
    "        <td>2</td>\n",
    "    </tr>\n",
    "    <tr>\n",
    "        <td>Gregor</td>\n",
    "        <td>Rabbit</td>\n",
    "        <td>2</td>\n",
    "        <td>1</td>\n",
    "    </tr>\n",
    "    <tr>\n",
    "        <td>Hummus</td>\n",
    "        <td>Rabbit</td>\n",
    "        <td>5</td>\n",
    "        <td>3</td>\n",
    "    </tr>\n",
    "    <tr>\n",
    "        <td>Iliad</td>\n",
    "        <td>Rabbit</td>\n",
    "        <td>3</td>\n",
    "        <td>2</td>\n",
    "    </tr>\n",
    "    <tr>\n",
    "        <td>Jamal</td>\n",
    "        <td>Rabbit</td>\n",
    "        <td>1</td>\n",
    "        <td>2</td>\n",
    "    </tr>\n",
    "</table>\n",
    "\n",
    "We would like to produce a histogram for the Age column, with the following Bins, and with **density** on the y-axis.\n",
    "+ Bin 1: 0 <= Age <= 2\n",
    "+ Bin 2: 2 < Age <= 4\n",
    "+ Bin 3: 4 < Age <= 8\n",
    "\n",
    "What is the height of the bar (the density) of Bin 3?\n",
    "\n",
    "A. $\\frac{0.2}{4} = 0.05 \\quad$ B. $\\frac{2}{4} = 0.5 \\quad$ C. $2 \\quad$ D. $\\frac{0.5}{2} = 0.25$\n",
    "\n",
    "E. None of the above"
   ]
  },
  {
   "cell_type": "code",
   "execution_count": 1,
   "metadata": {
    "slideshow": {
     "slide_type": "subslide"
    }
   },
   "outputs": [
    {
     "data": {
      "text/html": [
       "<table>\n",
       "<thead><tr><th scope=col>Name</th><th scope=col>Species</th><th scope=col>Weight_lb</th><th scope=col>Age</th><th scope=col>Spayed_Neutered</th></tr></thead>\n",
       "<tbody>\n",
       "\t<tr><td>Alex  </td><td>Cat   </td><td> 25   </td><td>8     </td><td> TRUE </td></tr>\n",
       "\t<tr><td>Bert  </td><td>Cat   </td><td> 15   </td><td>3     </td><td>FALSE </td></tr>\n",
       "\t<tr><td>Cate  </td><td>Dog   </td><td>100   </td><td>4     </td><td> TRUE </td></tr>\n",
       "\t<tr><td>Doug  </td><td>Cat   </td><td> 20   </td><td>7     </td><td> TRUE </td></tr>\n",
       "\t<tr><td>Evan  </td><td>Dog   </td><td> 20   </td><td>1     </td><td>FALSE </td></tr>\n",
       "\t<tr><td>Finn  </td><td>Rabbit</td><td>  4   </td><td>2     </td><td> TRUE </td></tr>\n",
       "\t<tr><td>Gregor</td><td>Rabbit</td><td>  2   </td><td>1     </td><td>FALSE </td></tr>\n",
       "\t<tr><td>Hummus</td><td>Rabbit</td><td>  5   </td><td>3     </td><td>FALSE </td></tr>\n",
       "\t<tr><td>Iliad </td><td>Rabbit</td><td>  3   </td><td>2     </td><td> TRUE </td></tr>\n",
       "\t<tr><td>Jamal </td><td>Rabbit</td><td>  1   </td><td>2     </td><td> TRUE </td></tr>\n",
       "</tbody>\n",
       "</table>\n"
      ],
      "text/latex": [
       "\\begin{tabular}{r|lllll}\n",
       " Name & Species & Weight\\_lb & Age & Spayed\\_Neutered\\\\\n",
       "\\hline\n",
       "\t Alex   & Cat    &  25    & 8      &  TRUE \\\\\n",
       "\t Bert   & Cat    &  15    & 3      & FALSE \\\\\n",
       "\t Cate   & Dog    & 100    & 4      &  TRUE \\\\\n",
       "\t Doug   & Cat    &  20    & 7      &  TRUE \\\\\n",
       "\t Evan   & Dog    &  20    & 1      & FALSE \\\\\n",
       "\t Finn   & Rabbit &   4    & 2      &  TRUE \\\\\n",
       "\t Gregor & Rabbit &   2    & 1      & FALSE \\\\\n",
       "\t Hummus & Rabbit &   5    & 3      & FALSE \\\\\n",
       "\t Iliad  & Rabbit &   3    & 2      &  TRUE \\\\\n",
       "\t Jamal  & Rabbit &   1    & 2      &  TRUE \\\\\n",
       "\\end{tabular}\n"
      ],
      "text/markdown": [
       "\n",
       "Name | Species | Weight_lb | Age | Spayed_Neutered | \n",
       "|---|---|---|---|---|---|---|---|---|---|\n",
       "| Alex   | Cat    |  25    | 8      |  TRUE  | \n",
       "| Bert   | Cat    |  15    | 3      | FALSE  | \n",
       "| Cate   | Dog    | 100    | 4      |  TRUE  | \n",
       "| Doug   | Cat    |  20    | 7      |  TRUE  | \n",
       "| Evan   | Dog    |  20    | 1      | FALSE  | \n",
       "| Finn   | Rabbit |   4    | 2      |  TRUE  | \n",
       "| Gregor | Rabbit |   2    | 1      | FALSE  | \n",
       "| Hummus | Rabbit |   5    | 3      | FALSE  | \n",
       "| Iliad  | Rabbit |   3    | 2      |  TRUE  | \n",
       "| Jamal  | Rabbit |   1    | 2      |  TRUE  | \n",
       "\n",
       "\n"
      ],
      "text/plain": [
       "   Name   Species Weight_lb Age Spayed_Neutered\n",
       "1  Alex   Cat      25       8    TRUE          \n",
       "2  Bert   Cat      15       3   FALSE          \n",
       "3  Cate   Dog     100       4    TRUE          \n",
       "4  Doug   Cat      20       7    TRUE          \n",
       "5  Evan   Dog      20       1   FALSE          \n",
       "6  Finn   Rabbit    4       2    TRUE          \n",
       "7  Gregor Rabbit    2       1   FALSE          \n",
       "8  Hummus Rabbit    5       3   FALSE          \n",
       "9  Iliad  Rabbit    3       2    TRUE          \n",
       "10 Jamal  Rabbit    1       2    TRUE          "
      ]
     },
     "metadata": {},
     "output_type": "display_data"
    }
   ],
   "source": [
    "my_pets_new <- data.frame( Name = c('Alex', 'Bert', 'Cate', 'Doug', 'Evan', 'Finn', 'Gregor', 'Hummus', 'Iliad', 'Jamal') ,\n",
    "                       Species = c('Cat', 'Cat', 'Dog', 'Cat', 'Dog', 'Rabbit', 'Rabbit', 'Rabbit', 'Rabbit', 'Rabbit' ),\n",
    "                       Weight_lb = c(25, 15, 100, 20, 20, 4, 2, 5, 3, 1),\n",
    "                       Age = c( 8, 3, 4, 7, 1, 2, 1, 3, 2, 2 ),\n",
    "                       Spayed_Neutered = c( TRUE, FALSE, TRUE, TRUE, FALSE, TRUE, FALSE, FALSE, TRUE, TRUE  )\n",
    "                     )\n",
    "\n",
    "my_pets_new"
   ]
  },
  {
   "cell_type": "code",
   "execution_count": null,
   "metadata": {
    "slideshow": {
     "slide_type": "subslide"
    }
   },
   "outputs": [],
   "source": [
    "\n"
   ]
  },
  {
   "cell_type": "markdown",
   "metadata": {
    "slideshow": {
     "slide_type": "slide"
    }
   },
   "source": [
    "# Lesson 8: Models\n",
    "\n",
    "Today:\n",
    "1. Review of Data Exploration and Visualization\n",
    "2. Introduction to Models"
   ]
  },
  {
   "cell_type": "markdown",
   "metadata": {
    "slideshow": {
     "slide_type": "slide"
    }
   },
   "source": [
    "# 1. Review\n",
    "\n"
   ]
  },
  {
   "cell_type": "markdown",
   "metadata": {
    "slideshow": {
     "slide_type": "subslide"
    }
   },
   "source": [
    "#### 1. Introduction to R (and Jupyter Notebooks)\n",
    "+ Arithmetic operations in R\n",
    "+ Working with lists\n",
    "    + Arithmetic operations on lists"
   ]
  },
  {
   "cell_type": "markdown",
   "metadata": {
    "slideshow": {
     "slide_type": "subslide"
    }
   },
   "source": [
    "\n",
    "#### 2. Understanding datasets\n",
    "+ Observations and variables\n",
    "+ Types of data\n",
    "\n"
   ]
  },
  {
   "cell_type": "markdown",
   "metadata": {
    "slideshow": {
     "slide_type": "subslide"
    }
   },
   "source": [
    "\n",
    "\n",
    "#### 3. Working with R data frames\n",
    "+ Accessing a column/row/entry of an R data frame\n",
    "+ Adding new columns to a data frame\n",
    "+ Filtering\n",
    "+ Sorting\n",
    "+ Grouping and Summarizing"
   ]
  },
  {
   "cell_type": "markdown",
   "metadata": {
    "slideshow": {
     "slide_type": "subslide"
    }
   },
   "source": [
    "\n",
    "#### 4. Understanding data visualizations\n",
    "+ Interpreting/understanding a given plot\n",
    "+ Critiquing good/bad data visualizations\n",
    "+ Understanding which type of visualization is appropriate for a givent type of data"
   ]
  },
  {
   "cell_type": "markdown",
   "metadata": {
    "slideshow": {
     "slide_type": "subslide"
    }
   },
   "source": [
    "\n",
    "#### 5. Creating data visualizations in R\n",
    "+ Bar plot, histogram, scatterplot\n",
    "+ Understanding area of bars in a histogram as proportion (and height as density)"
   ]
  },
  {
   "cell_type": "markdown",
   "metadata": {
    "slideshow": {
     "slide_type": "subslide"
    }
   },
   "source": [
    "**Review Exercise**\n",
    "\n",
    "Import the `babyweight.csv` dataset (currently located in `class_share/datasets/`) as an R data frame called `babyweight`.  This dataset contains the weights and gestation periods of babies of mothers who were smokers and non-smokers.\n",
    "\n",
    "**Question.** Does smoking during pregnancy have an effect on the weight and gestation period of the baby?\n",
    "\n",
    "Use any of the tools we have learned about to investigate this question."
   ]
  },
  {
   "cell_type": "code",
   "execution_count": null,
   "metadata": {
    "slideshow": {
     "slide_type": "subslide"
    }
   },
   "outputs": [],
   "source": []
  },
  {
   "cell_type": "markdown",
   "metadata": {
    "slideshow": {
     "slide_type": "slide"
    }
   },
   "source": [
    "# 2. Models"
   ]
  },
  {
   "cell_type": "markdown",
   "metadata": {
    "slideshow": {
     "slide_type": "subslide"
    }
   },
   "source": [
    "## What Are Models?\n",
    "+ A model is a simplification of a phenomenon (object, process, relationship, etc.) in the real world\n",
    "+ Helps us understand the real phenomenon\n",
    "\n",
    "<img src=\"images/architectural_model.jpg\" width=\"500\">\n",
    "\n",
    "<font size=1>image source: https://www.behance.net/gallery/25801349/Wooden-architecture-model</font>\n",
    "\n"
   ]
  },
  {
   "cell_type": "markdown",
   "metadata": {
    "slideshow": {
     "slide_type": "subslide"
    }
   },
   "source": [
    "\n",
    "### Mathematical Models\n",
    "A **mathematical model** is a representation of a real-world object/process/relationship in terms of mathematical objects (formulas, lines, graphs, etc.)."
   ]
  },
  {
   "cell_type": "markdown",
   "metadata": {
    "slideshow": {
     "slide_type": "fragment"
    }
   },
   "source": [
    "+ Usually simplified; less complex than the real-world process;"
   ]
  },
  {
   "cell_type": "markdown",
   "metadata": {
    "slideshow": {
     "slide_type": "fragment"
    }
   },
   "source": [
    "+ Involves the process of **quantifying** a qualitative question"
   ]
  },
  {
   "cell_type": "markdown",
   "metadata": {
    "slideshow": {
     "slide_type": "subslide"
    }
   },
   "source": [
    "\n",
    "\n",
    "### Example\n",
    "**Real-world question**: Is Elizabeth Warren likely to become the Democratic presidential nominee in 2020? <br>\n",
    "The answer might be: \"Very likely\", \"somewhat unlikely\", etc."
   ]
  },
  {
   "cell_type": "markdown",
   "metadata": {
    "slideshow": {
     "slide_type": "fragment"
    }
   },
   "source": [
    "**Mathematical model**: What is the **probability** that Elizabeth Warren will be the Democratic presidential nominee in 2020?<br>"
   ]
  },
  {
   "cell_type": "markdown",
   "metadata": {
    "slideshow": {
     "slide_type": "fragment"
    }
   },
   "source": [
    "The answer might be: \"There is a 85% chance Elizabeth Warren will be the nominee.\""
   ]
  },
  {
   "cell_type": "markdown",
   "metadata": {
    "slideshow": {
     "slide_type": "fragment"
    }
   },
   "source": [
    "+ Simplified: as though elections are as simple as flippling a coin\n",
    "+ Quantified: a 85% chance quantifies how likely it is (e.g., very crudely: more likely than 51%, less likely than 99%)"
   ]
  },
  {
   "cell_type": "markdown",
   "metadata": {
    "slideshow": {
     "slide_type": "subslide"
    }
   },
   "source": [
    "\n",
    "### \"All models are wrong, but some are useful\"\n",
    "\n",
    "(This quote is due to George Box, a statistician who stated this in a 1976 paper.)"
   ]
  },
  {
   "cell_type": "markdown",
   "metadata": {
    "slideshow": {
     "slide_type": "fragment"
    }
   },
   "source": [
    "In the context of our course (a quantitative reasoning course in a liberal arts curriculum):\n",
    "+ Ability to use quantitative tools and understand math models empowers us!"
   ]
  },
  {
   "cell_type": "markdown",
   "metadata": {
    "slideshow": {
     "slide_type": "fragment"
    }
   },
   "source": [
    "+ Models and quantitative methods are useful, but they are just tools.  \n",
    "+ Humans create the models and interpret the outcomes of any quantitative methods.  "
   ]
  },
  {
   "cell_type": "markdown",
   "metadata": {
    "slideshow": {
     "slide_type": "fragment"
    }
   },
   "source": [
    "+ It is important that decision makers have the ability to critically evaluate outcomes from models and to decide what decision and conclusions to take away from them."
   ]
  },
  {
   "cell_type": "markdown",
   "metadata": {
    "slideshow": {
     "slide_type": "subslide"
    }
   },
   "source": [
    "\n",
    "## Using data to create models and to make decisions and/or predictions\n"
   ]
  },
  {
   "cell_type": "markdown",
   "metadata": {
    "slideshow": {
     "slide_type": "subslide"
    }
   },
   "source": [
    "\n",
    "<img src=\"images/models-bigpicture.png\" width=\"500\">\n"
   ]
  },
  {
   "cell_type": "markdown",
   "metadata": {
    "slideshow": {
     "slide_type": "subslide"
    }
   },
   "source": [
    "\n",
    "Models attempt to immitate the real-world process.  \n",
    "+ To create a model, we start with observations or data.  \n",
    "+ Then, we examine data to identify patterns, which will then inform our model."
   ]
  },
  {
   "cell_type": "markdown",
   "metadata": {
    "slideshow": {
     "slide_type": "skip"
    }
   },
   "source": [
    "One of the most familiar mathematical objects that we have dealt with in the past are formulas, functions, and graphs.  We have also spent the past few weeks learning how to \"get a feel\" of data -- in other words, identifying some sort of \"pattern\" from data, by creating summary tables and data visualizations.  Data visualizations are a great tool for identifying patterns.  \\"
   ]
  },
  {
   "cell_type": "markdown",
   "metadata": {
    "slideshow": {
     "slide_type": "subslide"
    }
   },
   "source": [
    "One of the most common types of modeling questions is whether one thing is related to another, and if so, how they are related.\n"
   ]
  },
  {
   "cell_type": "markdown",
   "metadata": {
    "slideshow": {
     "slide_type": "subslide"
    }
   },
   "source": [
    "**Example**\n",
    "\n",
    "How are the height and weight of a dog related?\n",
    "\n",
    "Intuitively, the taller someone is, the more mass they might have.  Is there a mathematical formula that capture this relationship?  If so, this formula is our model.\n",
    "\n",
    "Of course, many other factors influence a dog's weight: some dogs have longer or more muscular bodies, etc.  However, if all we have is information about a dog's height, we may be able to make a \"somewhat decent\" (if rough) estimate of a their weight.  (Our model is definitely simplified, but it might be useful, depending on its use.)\n",
    "\n",
    "<img src='https://upload.wikimedia.org/wikipedia/commons/thumb/f/fb/Welchcorgipembroke.JPG/220px-Welchcorgipembroke.JPG' width=300><img src='https://upload.wikimedia.org/wikipedia/commons/5/5e/WhippetWhiteSaddled_wb.jpg' width=300>\n",
    "\n",
    "<font size=1>image sources: Wikipedia</font>"
   ]
  },
  {
   "cell_type": "markdown",
   "metadata": {
    "slideshow": {
     "slide_type": "slide"
    }
   },
   "source": [
    "## 2.1. Finding Pattern in Data, via Visualizations"
   ]
  },
  {
   "cell_type": "markdown",
   "metadata": {
    "slideshow": {
     "slide_type": "fragment"
    }
   },
   "source": [
    "Scatterplots\n",
    "+ To visualize relationships/association between **two numerical variables**."
   ]
  },
  {
   "cell_type": "markdown",
   "metadata": {
    "slideshow": {
     "slide_type": "subslide"
    }
   },
   "source": [
    "### Example: Height vs. Weight"
   ]
  },
  {
   "cell_type": "markdown",
   "metadata": {},
   "source": []
  },
  {
   "cell_type": "markdown",
   "metadata": {
    "slideshow": {
     "slide_type": "subslide"
    }
   },
   "source": [
    "### Example: Baby weight vs. Gestation period"
   ]
  },
  {
   "cell_type": "code",
   "execution_count": 6,
   "metadata": {},
   "outputs": [],
   "source": [
    "babyweight <- read.csv('babyweight.csv')"
   ]
  },
  {
   "cell_type": "code",
   "execution_count": 7,
   "metadata": {},
   "outputs": [
    {
     "data": {
      "text/html": [
       "<table>\n",
       "<thead><tr><th scope=col>X</th><th scope=col>Wgt</th><th scope=col>Gest</th><th scope=col>Smoke</th></tr></thead>\n",
       "<tbody>\n",
       "\t<tr><td>1   </td><td>2940</td><td>38  </td><td>yes </td></tr>\n",
       "\t<tr><td>2   </td><td>3130</td><td>38  </td><td>no  </td></tr>\n",
       "\t<tr><td>3   </td><td>2420</td><td>36  </td><td>yes </td></tr>\n",
       "\t<tr><td>4   </td><td>2450</td><td>34  </td><td>no  </td></tr>\n",
       "\t<tr><td>5   </td><td>2760</td><td>39  </td><td>yes </td></tr>\n",
       "\t<tr><td>6   </td><td>2440</td><td>35  </td><td>yes </td></tr>\n",
       "</tbody>\n",
       "</table>\n"
      ],
      "text/latex": [
       "\\begin{tabular}{r|llll}\n",
       " X & Wgt & Gest & Smoke\\\\\n",
       "\\hline\n",
       "\t 1    & 2940 & 38   & yes \\\\\n",
       "\t 2    & 3130 & 38   & no  \\\\\n",
       "\t 3    & 2420 & 36   & yes \\\\\n",
       "\t 4    & 2450 & 34   & no  \\\\\n",
       "\t 5    & 2760 & 39   & yes \\\\\n",
       "\t 6    & 2440 & 35   & yes \\\\\n",
       "\\end{tabular}\n"
      ],
      "text/markdown": [
       "\n",
       "X | Wgt | Gest | Smoke | \n",
       "|---|---|---|---|---|---|\n",
       "| 1    | 2940 | 38   | yes  | \n",
       "| 2    | 3130 | 38   | no   | \n",
       "| 3    | 2420 | 36   | yes  | \n",
       "| 4    | 2450 | 34   | no   | \n",
       "| 5    | 2760 | 39   | yes  | \n",
       "| 6    | 2440 | 35   | yes  | \n",
       "\n",
       "\n"
      ],
      "text/plain": [
       "  X Wgt  Gest Smoke\n",
       "1 1 2940 38   yes  \n",
       "2 2 3130 38   no   \n",
       "3 3 2420 36   yes  \n",
       "4 4 2450 34   no   \n",
       "5 5 2760 39   yes  \n",
       "6 6 2440 35   yes  "
      ]
     },
     "metadata": {},
     "output_type": "display_data"
    }
   ],
   "source": [
    "head(babyweight)"
   ]
  },
  {
   "cell_type": "markdown",
   "metadata": {
    "slideshow": {
     "slide_type": "subslide"
    }
   },
   "source": [
    "### Example: Time vs. Population"
   ]
  },
  {
   "cell_type": "code",
   "execution_count": 9,
   "metadata": {},
   "outputs": [
    {
     "data": {},
     "metadata": {},
     "output_type": "display_data"
    },
    {
     "data": {
      "image/png": "[encoded data removed]",
      "text/plain": [
       "plot without title"
      ]
     },
     "metadata": {},
     "output_type": "display_data"
    }
   ],
   "source": [
    "# don't worry about the code below\n",
    "# we are doing some processing simply to create an example plot\n",
    "\n",
    "population <- read.csv('nst-est2017-alldata.csv')\n",
    "uspopulation <- population[1,]\n",
    "uspopulation <- uspopulation[,8:15]\n",
    "years <- 2010:2017\n",
    "pop_data <- data.frame( Year = years, Population = t(uspopulation) )\n",
    "rownames(pop_data) <- NULL\n",
    "uspopulation <- pop_data\n",
    "names(uspopulation) <- c('Year', 'Population')\n",
    "ggplot( uspopulation, aes(x = Year, y = Population) ) + geom_point() \n",
    "#+ geom_smooth(method='lm',formula=y~x, se = FALSE)"
   ]
  },
  {
   "cell_type": "code",
   "execution_count": 8,
   "metadata": {},
   "outputs": [
    {
     "data": {
      "text/html": [
       "<table>\n",
       "<thead><tr><th scope=col>SUMLEV</th><th scope=col>REGION</th><th scope=col>DIVISION</th><th scope=col>STATE</th><th scope=col>NAME</th><th scope=col>CENSUS2010POP</th><th scope=col>ESTIMATESBASE2010</th><th scope=col>POPESTIMATE2010</th><th scope=col>POPESTIMATE2011</th><th scope=col>POPESTIMATE2012</th><th scope=col>...</th><th scope=col>RDOMESTICMIG2015</th><th scope=col>RDOMESTICMIG2016</th><th scope=col>RDOMESTICMIG2017</th><th scope=col>RNETMIG2011</th><th scope=col>RNETMIG2012</th><th scope=col>RNETMIG2013</th><th scope=col>RNETMIG2014</th><th scope=col>RNETMIG2015</th><th scope=col>RNETMIG2016</th><th scope=col>RNETMIG2017</th></tr></thead>\n",
       "<tbody>\n",
       "\t<tr><td>10              </td><td>0               </td><td>0               </td><td>0               </td><td>United States   </td><td>308745538       </td><td>308758105       </td><td>309338421       </td><td>311644280       </td><td>313993272       </td><td>...             </td><td> 0.000000       </td><td> 0.000000       </td><td> 0.0000000      </td><td> 2.7209003      </td><td> 2.9203714      </td><td> 2.8836431      </td><td> 3.17322784     </td><td> 3.5167428      </td><td> 3.5133941      </td><td> 3.4239409      </td></tr>\n",
       "\t<tr><td>20              </td><td>1               </td><td>0               </td><td>0               </td><td>Northeast Region</td><td> 55317240       </td><td> 55318350       </td><td> 55388349       </td><td> 55642659       </td><td> 55860261       </td><td>...             </td><td>-6.103092       </td><td>-6.619089       </td><td>-5.5595704      </td><td> 1.4679503      </td><td> 0.7791365      </td><td> 0.6058727      </td><td>-0.08283236     </td><td>-0.9039313      </td><td>-1.3075026      </td><td>-0.2889304      </td></tr>\n",
       "\t<tr><td>20              </td><td>2               </td><td>0               </td><td>0               </td><td>Midwest Region  </td><td> 66927001       </td><td> 66929794       </td><td> 66973360       </td><td> 67141501       </td><td> 67318295       </td><td>...             </td><td>-3.458531       </td><td>-3.307295       </td><td>-2.3046395      </td><td>-1.1875194      </td><td>-1.0106962      </td><td>-0.1203535      </td><td>-0.75247734     </td><td>-1.3239519      </td><td>-1.1607353      </td><td>-0.1913225      </td></tr>\n",
       "\t<tr><td>20              </td><td>3               </td><td>0               </td><td>0               </td><td>South Region    </td><td>114555744       </td><td>114563024       </td><td>114869241       </td><td>116060993       </td><td>117291728       </td><td>...             </td><td> 3.788037       </td><td> 3.592695       </td><td> 2.9005281      </td><td> 5.5442892      </td><td> 5.8317469      </td><td> 5.3620829      </td><td> 6.31731010     </td><td> 7.3361623      </td><td> 7.1138177      </td><td> 6.3040104      </td></tr>\n",
       "\t<tr><td>20              </td><td>4               </td><td>0               </td><td>0               </td><td>West Region     </td><td> 71945553       </td><td> 71946937       </td><td> 72107471       </td><td> 72799127       </td><td> 73522988       </td><td>...             </td><td> 1.613450       </td><td> 2.099001       </td><td> 1.4755195      </td><td> 2.7987960      </td><td> 3.5214226      </td><td> 3.3966272      </td><td> 4.16357596     </td><td> 5.0674521      </td><td> 5.4889646      </td><td> 4.7379786      </td></tr>\n",
       "\t<tr><td>40              </td><td>3               </td><td>6               </td><td>1               </td><td>Alabama         </td><td>  4779736       </td><td>  4780135       </td><td>  4785579       </td><td>  4798649       </td><td>  4813946       </td><td>...             </td><td>-0.317205       </td><td>-0.404473       </td><td> 0.7888823      </td><td> 0.4507405      </td><td> 0.9393925      </td><td> 1.3642955      </td><td> 0.69427083     </td><td> 0.6785751      </td><td> 0.5589306      </td><td> 1.7082179      </td></tr>\n",
       "</tbody>\n",
       "</table>\n"
      ],
      "text/latex": [
       "\\begin{tabular}{r|lllllllllllllllllllllllllllllllllllllllllllllllllllllllllllllllllllllllllllllllllllllllllllllllllllllllllllllllllllllllll}\n",
       " SUMLEV & REGION & DIVISION & STATE & NAME & CENSUS2010POP & ESTIMATESBASE2010 & POPESTIMATE2010 & POPESTIMATE2011 & POPESTIMATE2012 & ... & RDOMESTICMIG2015 & RDOMESTICMIG2016 & RDOMESTICMIG2017 & RNETMIG2011 & RNETMIG2012 & RNETMIG2013 & RNETMIG2014 & RNETMIG2015 & RNETMIG2016 & RNETMIG2017\\\\\n",
       "\\hline\n",
       "\t 10               & 0                & 0                & 0                & United States    & 308745538        & 308758105        & 309338421        & 311644280        & 313993272        & ...              &  0.000000        &  0.000000        &  0.0000000       &  2.7209003       &  2.9203714       &  2.8836431       &  3.17322784      &  3.5167428       &  3.5133941       &  3.4239409      \\\\\n",
       "\t 20               & 1                & 0                & 0                & Northeast Region &  55317240        &  55318350        &  55388349        &  55642659        &  55860261        & ...              & -6.103092        & -6.619089        & -5.5595704       &  1.4679503       &  0.7791365       &  0.6058727       & -0.08283236      & -0.9039313       & -1.3075026       & -0.2889304      \\\\\n",
       "\t 20               & 2                & 0                & 0                & Midwest Region   &  66927001        &  66929794        &  66973360        &  67141501        &  67318295        & ...              & -3.458531        & -3.307295        & -2.3046395       & -1.1875194       & -1.0106962       & -0.1203535       & -0.75247734      & -1.3239519       & -1.1607353       & -0.1913225      \\\\\n",
       "\t 20               & 3                & 0                & 0                & South Region     & 114555744        & 114563024        & 114869241        & 116060993        & 117291728        & ...              &  3.788037        &  3.592695        &  2.9005281       &  5.5442892       &  5.8317469       &  5.3620829       &  6.31731010      &  7.3361623       &  7.1138177       &  6.3040104      \\\\\n",
       "\t 20               & 4                & 0                & 0                & West Region      &  71945553        &  71946937        &  72107471        &  72799127        &  73522988        & ...              &  1.613450        &  2.099001        &  1.4755195       &  2.7987960       &  3.5214226       &  3.3966272       &  4.16357596      &  5.0674521       &  5.4889646       &  4.7379786      \\\\\n",
       "\t 40               & 3                & 6                & 1                & Alabama          &   4779736        &   4780135        &   4785579        &   4798649        &   4813946        & ...              & -0.317205        & -0.404473        &  0.7888823       &  0.4507405       &  0.9393925       &  1.3642955       &  0.69427083      &  0.6785751       &  0.5589306       &  1.7082179      \\\\\n",
       "\\end{tabular}\n"
      ],
      "text/markdown": [
       "\n",
       "SUMLEV | REGION | DIVISION | STATE | NAME | CENSUS2010POP | ESTIMATESBASE2010 | POPESTIMATE2010 | POPESTIMATE2011 | POPESTIMATE2012 | ... | RDOMESTICMIG2015 | RDOMESTICMIG2016 | RDOMESTICMIG2017 | RNETMIG2011 | RNETMIG2012 | RNETMIG2013 | RNETMIG2014 | RNETMIG2015 | RNETMIG2016 | RNETMIG2017 | \n",
       "|---|---|---|---|---|---|\n",
       "| 10               | 0                | 0                | 0                | United States    | 308745538        | 308758105        | 309338421        | 311644280        | 313993272        | ...              |  0.000000        |  0.000000        |  0.0000000       |  2.7209003       |  2.9203714       |  2.8836431       |  3.17322784      |  3.5167428       |  3.5133941       |  3.4239409       | \n",
       "| 20               | 1                | 0                | 0                | Northeast Region |  55317240        |  55318350        |  55388349        |  55642659        |  55860261        | ...              | -6.103092        | -6.619089        | -5.5595704       |  1.4679503       |  0.7791365       |  0.6058727       | -0.08283236      | -0.9039313       | -1.3075026       | -0.2889304       | \n",
       "| 20               | 2                | 0                | 0                | Midwest Region   |  66927001        |  66929794        |  66973360        |  67141501        |  67318295        | ...              | -3.458531        | -3.307295        | -2.3046395       | -1.1875194       | -1.0106962       | -0.1203535       | -0.75247734      | -1.3239519       | -1.1607353       | -0.1913225       | \n",
       "| 20               | 3                | 0                | 0                | South Region     | 114555744        | 114563024        | 114869241        | 116060993        | 117291728        | ...              |  3.788037        |  3.592695        |  2.9005281       |  5.5442892       |  5.8317469       |  5.3620829       |  6.31731010      |  7.3361623       |  7.1138177       |  6.3040104       | \n",
       "| 20               | 4                | 0                | 0                | West Region      |  71945553        |  71946937        |  72107471        |  72799127        |  73522988        | ...              |  1.613450        |  2.099001        |  1.4755195       |  2.7987960       |  3.5214226       |  3.3966272       |  4.16357596      |  5.0674521       |  5.4889646       |  4.7379786       | \n",
       "| 40               | 3                | 6                | 1                | Alabama          |   4779736        |   4780135        |   4785579        |   4798649        |   4813946        | ...              | -0.317205        | -0.404473        |  0.7888823       |  0.4507405       |  0.9393925       |  1.3642955       |  0.69427083      |  0.6785751       |  0.5589306       |  1.7082179       | \n",
       "\n",
       "\n"
      ],
      "text/plain": [
       "  SUMLEV REGION DIVISION STATE NAME             CENSUS2010POP ESTIMATESBASE2010\n",
       "1 10     0      0        0     United States    308745538     308758105        \n",
       "2 20     1      0        0     Northeast Region  55317240      55318350        \n",
       "3 20     2      0        0     Midwest Region    66927001      66929794        \n",
       "4 20     3      0        0     South Region     114555744     114563024        \n",
       "5 20     4      0        0     West Region       71945553      71946937        \n",
       "6 40     3      6        1     Alabama            4779736       4780135        \n",
       "  POPESTIMATE2010 POPESTIMATE2011 POPESTIMATE2012 ... RDOMESTICMIG2015\n",
       "1 309338421       311644280       313993272       ...  0.000000       \n",
       "2  55388349        55642659        55860261       ... -6.103092       \n",
       "3  66973360        67141501        67318295       ... -3.458531       \n",
       "4 114869241       116060993       117291728       ...  3.788037       \n",
       "5  72107471        72799127        73522988       ...  1.613450       \n",
       "6   4785579         4798649         4813946       ... -0.317205       \n",
       "  RDOMESTICMIG2016 RDOMESTICMIG2017 RNETMIG2011 RNETMIG2012 RNETMIG2013\n",
       "1  0.000000         0.0000000        2.7209003   2.9203714   2.8836431 \n",
       "2 -6.619089        -5.5595704        1.4679503   0.7791365   0.6058727 \n",
       "3 -3.307295        -2.3046395       -1.1875194  -1.0106962  -0.1203535 \n",
       "4  3.592695         2.9005281        5.5442892   5.8317469   5.3620829 \n",
       "5  2.099001         1.4755195        2.7987960   3.5214226   3.3966272 \n",
       "6 -0.404473         0.7888823        0.4507405   0.9393925   1.3642955 \n",
       "  RNETMIG2014 RNETMIG2015 RNETMIG2016 RNETMIG2017\n",
       "1  3.17322784  3.5167428   3.5133941   3.4239409 \n",
       "2 -0.08283236 -0.9039313  -1.3075026  -0.2889304 \n",
       "3 -0.75247734 -1.3239519  -1.1607353  -0.1913225 \n",
       "4  6.31731010  7.3361623   7.1138177   6.3040104 \n",
       "5  4.16357596  5.0674521   5.4889646   4.7379786 \n",
       "6  0.69427083  0.6785751   0.5589306   1.7082179 "
      ]
     },
     "metadata": {},
     "output_type": "display_data"
    }
   ],
   "source": [
    "head(population)"
   ]
  },
  {
   "cell_type": "markdown",
   "metadata": {
    "slideshow": {
     "slide_type": "slide"
    }
   },
   "source": [
    "## 2.2. Modeling Linear Relationships"
   ]
  },
  {
   "cell_type": "markdown",
   "metadata": {
    "slideshow": {
     "slide_type": "subslide"
    }
   },
   "source": [
    "<table>\n",
    "    <tr>\n",
    "        <th>Positive linear relationship</th>\n",
    "        <th>Negative linear relationship</th>\n",
    "        <th>No relationship, or nonlinear relationship</th>        \n",
    "    </tr>\n",
    "    <tr>\n",
    "        <td><img src=\"images/lec18-babyweight.png\" width=\"300\"></td>\n",
    "        <td><img src=\"images/lec18-linear.png\" width=\"300\"></td>\n",
    "        <td><img src=\"images/lec18-random.png\" width=\"300\"></td>\n",
    "    </tr>\n",
    "    <tr>\n",
    "        <td>r = 0.88</td>\n",
    "        <td>r = -0.71</td>\n",
    "        <td>r = -0.17</td>\n",
    "    </tr>\n",
    "    <tr>\n",
    "    </tr>\n",
    "    <tr>\n",
    "        <td><img src=\"images/lec18-uspop.png\" width=\"300\"></td>\n",
    "        <td><img src=\"images/lec18-linear2.png\" width=\"300\"></td>\n",
    "        <td><img src=\"images/lec18-sin.png\" width=\"300\"></td>\n",
    "    </tr>\n",
    "    <tr>\n",
    "        <td>r = 0.99</td>\n",
    "        <td>r = -0.99</td>\n",
    "        <td>r = -0.37</td>\n",
    "    </tr>\n",
    "</table>"
   ]
  },
  {
   "cell_type": "markdown",
   "metadata": {
    "slideshow": {
     "slide_type": "subslide"
    }
   },
   "source": [
    "Two variables, x and y, has a **linear relationship** if  the relationship between y and x can be described using a line/a linear equation.\n",
    "\n",
    "<img src=\"images/lineexample.png\" width=\"300\">"
   ]
  },
  {
   "cell_type": "markdown",
   "metadata": {
    "slideshow": {
     "slide_type": "fragment"
    }
   },
   "source": [
    "+ y = mx + b"
   ]
  },
  {
   "cell_type": "markdown",
   "metadata": {
    "slideshow": {
     "slide_type": "fragment"
    }
   },
   "source": [
    "+ m = slope of the line: how many units up for every unit to the right"
   ]
  },
  {
   "cell_type": "markdown",
   "metadata": {
    "slideshow": {
     "slide_type": "fragment"
    }
   },
   "source": [
    "+ b = y-intercept of the line"
   ]
  },
  {
   "cell_type": "markdown",
   "metadata": {
    "slideshow": {
     "slide_type": "subslide"
    }
   },
   "source": [
    "## Clicker Problem\n",
    "\n",
    "Find the equation of the following line\n",
    "\n",
    "<img src=\"images/lec18-lineexample2.png\" width=\"400\">\n",
    "\n",
    "A. y = 2x + 1<br>\n",
    "A. y = -2x + 1<br>\n",
    "A. y = -2x - 1<br>\n",
    "A. y = -3x - 1<br>\n",
    "E. None of the above"
   ]
  },
  {
   "cell_type": "markdown",
   "metadata": {
    "slideshow": {
     "slide_type": "subslide"
    }
   },
   "source": [
    "#### Task:\n",
    "+ Given data points, find the line that best fits the data"
   ]
  },
  {
   "cell_type": "markdown",
   "metadata": {
    "slideshow": {
     "slide_type": "fragment"
    }
   },
   "source": [
    "+ That is, find m and b so that y = mx + b is a line that **best fits** the data"
   ]
  },
  {
   "cell_type": "markdown",
   "metadata": {
    "slideshow": {
     "slide_type": "fragment"
    }
   },
   "source": [
    "+ But what do we mean by a line that **best fits the data**?"
   ]
  },
  {
   "cell_type": "markdown",
   "metadata": {
    "slideshow": {
     "slide_type": "subslide"
    }
   },
   "source": [
    "<table>\n",
    "    <tr>\n",
    "        <th>Positive linear relationship</th>\n",
    "        <th>Negative linear relationship</th>\n",
    "        <th>No relationship, or nonlinear relationship</th>        \n",
    "    </tr>\n",
    "    <tr>\n",
    "        <td><img src=\"images/lec18-babyweight-linreg.png\" width=\"300\"></td>\n",
    "        <td><img src=\"images/lec18-linear-linreg.png\" width=\"300\"></td>\n",
    "        <td><img src=\"images/lec18-random-linreg.png\" width=\"300\"></td>\n",
    "    </tr>\n",
    "    <tr>\n",
    "        <td>r = 0.88</td>\n",
    "        <td>r = -0.71</td>\n",
    "        <td>r = -0.17</td>\n",
    "    </tr>\n",
    "    <tr>\n",
    "        <td><img src=\"images/lec18-uspop-linreg.png\" width=\"300\"></td>\n",
    "        <td><img src=\"images/lec18-linear2-linreg.png\" width=\"300\"></td>\n",
    "        <td><img src=\"images/lec18-sin-linreg.png\" width=\"300\"></td>\n",
    "    </tr>\n",
    "    <tr>\n",
    "        <td>r = 0.99</td>\n",
    "        <td>r = -0.99</td>\n",
    "        <td>r = -0.37</td>\n",
    "    </tr>\n",
    "</table>"
   ]
  },
  {
   "cell_type": "markdown",
   "metadata": {
    "slideshow": {
     "slide_type": "subslide"
    }
   },
   "source": [
    "Find m and b so that y = mx + b is a line that **best fits** the data.\n",
    "+ We need to **quantify** \"best fit\""
   ]
  },
  {
   "cell_type": "markdown",
   "metadata": {
    "slideshow": {
     "slide_type": "fragment"
    }
   },
   "source": [
    "+ One number that measures the \"distance\" between the model (the line) and the data (the points)"
   ]
  },
  {
   "cell_type": "markdown",
   "metadata": {
    "slideshow": {
     "slide_type": "fragment"
    }
   },
   "source": [
    "##### Example   \n",
    "<table>\n",
    "    <tr><td>\n",
    "<table>\n",
    "    <tr>\n",
    "        <th>X</th>\n",
    "        <th>Y</th>\n",
    "    </tr>\n",
    "    <tr>\n",
    "        <td>0</td>\n",
    "        <td>1</td>\n",
    "    </tr>\n",
    "    <tr>\n",
    "        <td>1</td>\n",
    "        <td>2</td>\n",
    "    </tr>\n",
    "    <tr>\n",
    "        <td>2</td>\n",
    "        <td>6</td>\n",
    "    </tr>\n",
    "    <tr>\n",
    "        <td>3</td>\n",
    "        <td>7</td>\n",
    "    </tr>\n",
    "</table></td>\n",
    "        <td>   </td>\n",
    "        <td><img src=\"images/lec18-linreg1.png\" width=\"450\"></td>\n",
    "</tr>\n",
    "</table>"
   ]
  },
  {
   "cell_type": "code",
   "execution_count": 66,
   "metadata": {
    "slideshow": {
     "slide_type": "skip"
    }
   },
   "outputs": [
    {
     "data": {
      "text/html": [
       "<table>\n",
       "<thead><tr><th scope=col>X</th><th scope=col>Y</th></tr></thead>\n",
       "<tbody>\n",
       "\t<tr><td>0</td><td>1</td></tr>\n",
       "\t<tr><td>1</td><td>2</td></tr>\n",
       "\t<tr><td>2</td><td>6</td></tr>\n",
       "\t<tr><td>3</td><td>7</td></tr>\n",
       "</tbody>\n",
       "</table>\n"
      ],
      "text/latex": [
       "\\begin{tabular}{r|ll}\n",
       " X & Y\\\\\n",
       "\\hline\n",
       "\t 0 & 1\\\\\n",
       "\t 1 & 2\\\\\n",
       "\t 2 & 6\\\\\n",
       "\t 3 & 7\\\\\n",
       "\\end{tabular}\n"
      ],
      "text/markdown": [
       "\n",
       "X | Y | \n",
       "|---|---|---|---|\n",
       "| 0 | 1 | \n",
       "| 1 | 2 | \n",
       "| 2 | 6 | \n",
       "| 3 | 7 | \n",
       "\n",
       "\n"
      ],
      "text/plain": [
       "  X Y\n",
       "1 0 1\n",
       "2 1 2\n",
       "3 2 6\n",
       "4 3 7"
      ]
     },
     "metadata": {},
     "output_type": "display_data"
    }
   ],
   "source": [
    "data <- data.frame( X = c(0, 1, 2, 3), Y = c(1, 2, 6 , 7))\n",
    "data"
   ]
  },
  {
   "cell_type": "markdown",
   "metadata": {},
   "source": [
    "<img src=\"images/lec18-linreg1.png\" width=\"450\">"
   ]
  },
  {
   "cell_type": "markdown",
   "metadata": {
    "slideshow": {
     "slide_type": "subslide"
    }
   },
   "source": [
    "<table>\n",
    "    <tr><td><img src=\"images/lec18-linreg1-line1.png\" width=\"400\"></td>\n",
    "        <td></td>\n",
    "        <td>\n",
    "            <table>\n",
    "    <tr>\n",
    "        <th>X</th>\n",
    "        <th>Y (data)</th>\n",
    "        <th>Y (line)</th>\n",
    "    </tr>\n",
    "    <tr>\n",
    "        <td>0</td>\n",
    "        <td>1</td>\n",
    "        <td>0</td>\n",
    "    </tr>\n",
    "    <tr>\n",
    "        <td>1</td>\n",
    "        <td>2</td>\n",
    "        <td>3</td>\n",
    "    </tr>\n",
    "    <tr>\n",
    "        <td>2</td>\n",
    "        <td>6</td>\n",
    "        <td>6</td>\n",
    "    </tr>\n",
    "    <tr>\n",
    "        <td>3</td>\n",
    "        <td>7</td>\n",
    "        <td>9</td>\n",
    "    </tr>\n",
    "</table>\n",
    "        </td>\n",
    "    </tr>\n",
    "</table>"
   ]
  },
  {
   "cell_type": "markdown",
   "metadata": {
    "slideshow": {
     "slide_type": "fragment"
    }
   },
   "source": [
    "NOTE:\n",
    "+ The difference of the y values can be seen as an \"error\""
   ]
  },
  {
   "cell_type": "markdown",
   "metadata": {
    "slideshow": {
     "slide_type": "subslide"
    }
   },
   "source": [
    "<table>\n",
    "    <tr><td><img src=\"images/lec18-linreg1-line1.png\" width=\"400\"></td>\n",
    "        <td></td>\n",
    "        <td>\n",
    "            <table>\n",
    "    <tr>\n",
    "        <th>X</th>\n",
    "        <th>Y (data)</th>\n",
    "        <th>Y (line)</th>\n",
    "        <th>Difference of Y (abs)<th>\n",
    "    </tr>\n",
    "    <tr>\n",
    "        <td>0</td>\n",
    "        <td>1</td>\n",
    "        <td>0</td>\n",
    "        <td>1</td>\n",
    "    </tr>\n",
    "    <tr>\n",
    "        <td>1</td>\n",
    "        <td>2</td>\n",
    "        <td>3</td>\n",
    "        <td>1</td>\n",
    "    </tr>\n",
    "    <tr>\n",
    "        <td>2</td>\n",
    "        <td>6</td>\n",
    "        <td>6</td>\n",
    "        <td>0</td>\n",
    "    </tr>\n",
    "    <tr>\n",
    "        <td>3</td>\n",
    "        <td>7</td>\n",
    "        <td>9</td>\n",
    "        <td>2</td>\n",
    "    </tr>\n",
    "</table>\n",
    "        </td>\n",
    "    </tr>\n",
    "</table>\n",
    "\n",
    "\n",
    "\n",
    "\n"
   ]
  },
  {
   "cell_type": "markdown",
   "metadata": {
    "slideshow": {
     "slide_type": "subslide"
    }
   },
   "source": [
    "Possible ways to compute distance between data and line:\n",
    "1. Sum of absolute value of the errors\n",
    "\n",
    "\n",
    "2. Average of absolute value of the errors\n",
    "\n",
    "\n",
    "3. Sum of squares of the errors\n",
    "\n",
    "\n",
    "4. Mean of squares of  the errors\n",
    "\n",
    "\n",
    "The above four methods give you different ways to measure how different the line is to the data points.\n",
    "+ Can think of them as using different \"units\" of measurement\n",
    "+ The smaller the distance, the better the fit"
   ]
  },
  {
   "cell_type": "markdown",
   "metadata": {
    "slideshow": {
     "slide_type": "subslide"
    }
   },
   "source": [
    "Possible ways to compute distance between data and line:\n",
    "1. Sum of absolute value of the errors\n",
    "\n",
    "\n",
    "2. Average of absolute value of the errors\n",
    "\n",
    "\n",
    "3. Sum of squares of the errors\n",
    "\n",
    "\n",
    "4. **Mean of squares of the errors** [We will use this one]\n",
    "\n",
    "\n",
    "The above four methods give you different ways to measure how different the line is to the data points.\n",
    "+ Can think of them as using different \"units\" of measurement\n",
    "+ The smaller the distance, the better the fit"
   ]
  },
  {
   "cell_type": "markdown",
   "metadata": {
    "slideshow": {
     "slide_type": "subslide"
    }
   },
   "source": [
    "<table>\n",
    "    <tr><td><img src=\"images/lec18-linreg1-line1.png\" width=\"400\"></td>\n",
    "        <td></td>\n",
    "        <td>\n",
    "            <table>\n",
    "    <tr>\n",
    "        <th>X</th>\n",
    "        <th>Y (data)</th>\n",
    "        <th>Y (line)</th>\n",
    "        <th>Difference of Y (abs)<th>\n",
    "    </tr>\n",
    "    <tr>\n",
    "        <td>0</td>\n",
    "        <td>1</td>\n",
    "        <td>0</td>\n",
    "        <td>1</td>\n",
    "    </tr>\n",
    "    <tr>\n",
    "        <td>1</td>\n",
    "        <td>2</td>\n",
    "        <td>3</td>\n",
    "        <td>1</td>\n",
    "    </tr>\n",
    "    <tr>\n",
    "        <td>2</td>\n",
    "        <td>6</td>\n",
    "        <td>6</td>\n",
    "        <td>0</td>\n",
    "    </tr>\n",
    "    <tr>\n",
    "        <td>3</td>\n",
    "        <td>7</td>\n",
    "        <td>9</td>\n",
    "        <td>2</td>\n",
    "    </tr>\n",
    "</table>\n",
    "        </td>\n",
    "    </tr>\n",
    "</table>\n",
    "\n",
    "\n",
    "\n",
    "\n"
   ]
  },
  {
   "cell_type": "markdown",
   "metadata": {},
   "source": [
    "## Clicker Problem\n",
    "\n",
    "Find the distance between the line and the points, where distance is measured as\n",
    "+ the **mean of the squares of the errors**\n",
    "\n",
    "<img src=\"images/lec18-linreg1-line2.png\" width=\"400\">\n",
    "\n",
    "A. 1<br>\n",
    "A. 2<br>\n",
    "A. 0<br>\n",
    "A. 0.5<br>\n",
    "E. None of the above"
   ]
  },
  {
   "cell_type": "markdown",
   "metadata": {
    "slideshow": {
     "slide_type": "subslide"
    }
   },
   "source": []
  },
  {
   "cell_type": "code",
   "execution_count": null,
   "metadata": {},
   "outputs": [],
   "source": []
  }
 ],
 "metadata": {
  "celltoolbar": "Slideshow",
  "kernelspec": {
   "display_name": "R",
   "language": "R",
   "name": "ir"
  },
  "language_info": {
   "codemirror_mode": "r",
   "file_extension": ".r",
   "mimetype": "text/x-r-source",
   "name": "R",
   "pygments_lexer": "r",
   "version": "3.5.1"
  }
 },
 "nbformat": 4,
 "nbformat_minor": 2
}
