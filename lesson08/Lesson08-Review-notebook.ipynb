{
 "cells": [
  {
   "cell_type": "code",
   "execution_count": null,
   "metadata": {
    "slideshow": {
     "slide_type": "skip"
    }
   },
   "outputs": [],
   "source": [
    "# ignore the next two lines; these just make sure plots fit on the screen\n",
    "library('repr')\n",
    "options(repr.plot.width=3, repr.plot.height=3)"
   ]
  },
  {
   "cell_type": "markdown",
   "metadata": {
    "slideshow": {
     "slide_type": "slide"
    }
   },
   "source": [
    "# Warm-up Question (clicker)\n",
    "\n",
    "\n",
    "Suppose we have a data frame called `my_pets_new` consisting of 6 rows and 4 columns:\n",
    "\n",
    "\n",
    "<table>\n",
    "    <tr> \n",
    "        <th>Name</th>\n",
    "        <th>Species</th>\n",
    "        <th>Weight_lb</th>\n",
    "        <th>Age</th>\n",
    "    </tr>\n",
    "    <tr>\n",
    "        <td>Alex</td>\n",
    "        <td>Cat</td>\n",
    "        <td>25</td>\n",
    "        <td>8</td>\n",
    "    </tr>\n",
    "    <tr>\n",
    "        <td>Bert</td>\n",
    "        <td>Cat</td>\n",
    "        <td>15</td>\n",
    "        <td>3</td>\n",
    "    </tr>\n",
    "    <tr>\n",
    "        <td>Cate</td>\n",
    "        <td>Dog</td>\n",
    "        <td>100</td>\n",
    "        <td>4</td>\n",
    "    </tr>\n",
    "    <tr>\n",
    "        <td>Doug</td>\n",
    "        <td>Cat</td>\n",
    "        <td>20</td>\n",
    "        <td>7</td>\n",
    "    </tr>\n",
    "    <tr>\n",
    "        <td>Evan</td>\n",
    "        <td>Dog</td>\n",
    "        <td>20</td>\n",
    "        <td>1</td>\n",
    "    </tr>\n",
    "    <tr>\n",
    "        <td>Finn</td>\n",
    "        <td>Rabbit</td>\n",
    "        <td>4</td>\n",
    "        <td>2</td>\n",
    "    </tr>\n",
    "    <tr>\n",
    "        <td>Gregor</td>\n",
    "        <td>Rabbit</td>\n",
    "        <td>2</td>\n",
    "        <td>1</td>\n",
    "    </tr>\n",
    "    <tr>\n",
    "        <td>Hummus</td>\n",
    "        <td>Rabbit</td>\n",
    "        <td>5</td>\n",
    "        <td>3</td>\n",
    "    </tr>\n",
    "    <tr>\n",
    "        <td>Iliad</td>\n",
    "        <td>Rabbit</td>\n",
    "        <td>3</td>\n",
    "        <td>2</td>\n",
    "    </tr>\n",
    "    <tr>\n",
    "        <td>Jamal</td>\n",
    "        <td>Rabbit</td>\n",
    "        <td>1</td>\n",
    "        <td>2</td>\n",
    "    </tr>\n",
    "</table>\n",
    "\n",
    "We would like to produce a histogram for the Age column, with the following Bins, and with **density** on the y-axis.\n",
    "+ Bin 1: 0 <= Age <= 2\n",
    "+ Bin 2: 2 < Age <= 4\n",
    "+ Bin 3: 4 < Age <= 8\n",
    "\n",
    "What is the height of the bar (the density) of Bin 3?\n",
    "\n",
    "A. $\\frac{0.2}{4} = 0.05 \\quad$ B. $\\frac{2}{4} = 0.5 \\quad$ C. $2 \\quad$ D. $\\frac{0.5}{2} = 0.25$\n",
    "\n",
    "E. None of the above"
   ]
  },
  {
   "cell_type": "code",
   "execution_count": null,
   "metadata": {
    "slideshow": {
     "slide_type": "subslide"
    }
   },
   "outputs": [],
   "source": [
    "my_pets_new <- data.frame( Name = c('Alex', 'Bert', 'Cate', 'Doug', 'Evan', 'Finn', 'Gregor', 'Hummus', 'Iliad', 'Jamal') ,\n",
    "                       Species = c('Cat', 'Cat', 'Dog', 'Cat', 'Dog', 'Rabbit', 'Rabbit', 'Rabbit', 'Rabbit', 'Rabbit' ),\n",
    "                       Weight_lb = c(25, 15, 100, 20, 20, 4, 2, 5, 3, 1),\n",
    "                       Age = c( 8, 3, 4, 7, 1, 2, 1, 3, 2, 2 ),\n",
    "                       Spayed_Neutered = c( TRUE, FALSE, TRUE, TRUE, FALSE, TRUE, FALSE, FALSE, TRUE, TRUE  )\n",
    "                     )\n",
    "\n",
    "my_pets_new"
   ]
  },
  {
   "cell_type": "code",
   "execution_count": null,
   "metadata": {},
   "outputs": [],
   "source": [
    "library('ggplot2')"
   ]
  },
  {
   "cell_type": "code",
   "execution_count": null,
   "metadata": {
    "slideshow": {
     "slide_type": "subslide"
    }
   },
   "outputs": [],
   "source": []
  },
  {
   "cell_type": "markdown",
   "metadata": {
    "slideshow": {
     "slide_type": "slide"
    }
   },
   "source": [
    "# Lesson 8: Review\n",
    "\n",
    "Today:\n",
    "1. Review of Data Exploration and Visualization\n",
    "2. Review Exercise"
   ]
  },
  {
   "cell_type": "markdown",
   "metadata": {
    "slideshow": {
     "slide_type": "slide"
    }
   },
   "source": [
    "# 1. Review\n",
    "\n"
   ]
  },
  {
   "cell_type": "markdown",
   "metadata": {
    "slideshow": {
     "slide_type": "subslide"
    }
   },
   "source": [
    "#### 1. Introduction to R (and Jupyter Notebooks)\n",
    "+ Arithmetic operations in R\n",
    "+ Working with lists\n",
    "    + Arithmetic operations on lists"
   ]
  },
  {
   "cell_type": "markdown",
   "metadata": {
    "slideshow": {
     "slide_type": "subslide"
    }
   },
   "source": [
    "\n",
    "#### 2. Understanding datasets\n",
    "+ Observations and variables\n",
    "+ Types of data\n",
    "\n"
   ]
  },
  {
   "cell_type": "markdown",
   "metadata": {
    "slideshow": {
     "slide_type": "subslide"
    }
   },
   "source": [
    "\n",
    "\n",
    "#### 3. Working with R data frames\n",
    "+ Accessing a column/row/entry of an R data frame\n",
    "+ Adding new columns to a data frame\n",
    "+ Filtering\n",
    "+ Sorting\n",
    "+ Grouping and summarizing"
   ]
  },
  {
   "cell_type": "markdown",
   "metadata": {
    "slideshow": {
     "slide_type": "subslide"
    }
   },
   "source": [
    "\n",
    "#### 4. Understanding data visualizations\n",
    "+ Interpreting/understanding a given plot\n",
    "+ Critiquing good/bad data visualizations\n",
    "+ Understanding which type of visualization is appropriate for a givent type of data"
   ]
  },
  {
   "cell_type": "markdown",
   "metadata": {
    "slideshow": {
     "slide_type": "subslide"
    }
   },
   "source": [
    "\n",
    "#### 5. Creating data visualizations in R\n",
    "+ Bar plot, histogram, scatterplot\n",
    "+ Understanding area of bars in a histogram as proportion (and height as density)"
   ]
  },
  {
   "cell_type": "markdown",
   "metadata": {
    "slideshow": {
     "slide_type": "subslide"
    }
   },
   "source": [
    "## 2. Review Exercise\n",
    "\n",
    "Import the `babyweight.csv` dataset (currently located in `class_share/datasets/`) as an R data frame called `babyweight`.  This dataset contains the weights and gestation periods of babies of mothers who were smokers and non-smokers.\n",
    "\n",
    "**Question.** \n",
    "Does smoking during pregnancy have an effect on the weight and gestation period of the baby?\n",
    "\n",
    "Use any of the tools we have learned about to investigate this question."
   ]
  },
  {
   "cell_type": "code",
   "execution_count": null,
   "metadata": {},
   "outputs": [],
   "source": [
    "library('dplyr')"
   ]
  },
  {
   "cell_type": "code",
   "execution_count": null,
   "metadata": {
    "slideshow": {
     "slide_type": "subslide"
    }
   },
   "outputs": [],
   "source": [
    "babyweight <- read.csv(  )\n"
   ]
  },
  {
   "cell_type": "code",
   "execution_count": null,
   "metadata": {},
   "outputs": [],
   "source": []
  },
  {
   "cell_type": "code",
   "execution_count": null,
   "metadata": {},
   "outputs": [],
   "source": []
  },
  {
   "cell_type": "code",
   "execution_count": null,
   "metadata": {},
   "outputs": [],
   "source": []
  },
  {
   "cell_type": "markdown",
   "metadata": {
    "slideshow": {
     "slide_type": "slide"
    }
   },
   "source": [
    "## 2. Review Exercise\n",
    "\n",
    "Import the `berkeley73.csv` dataset (currently located in `class_share/datasets/`) as an R data frame called `berkeleydata`.  This dataset contains the admission data of six departments at UC Berkeley in 1973.\n",
    "\n",
    "**Questions.** \n",
    "1. What is the acceptance rate for each department, regardless of gender ?\n",
    "2. What is the overall acceptance rate (across all departments and all gender) ?\n",
    "3. Is there anything that we can conclude from these observations ?"
   ]
  },
  {
   "cell_type": "code",
   "execution_count": null,
   "metadata": {
    "slideshow": {
     "slide_type": "subslide"
    }
   },
   "outputs": [],
   "source": [
    "berkeleydata <- read.csv( ... )\n",
    "\n",
    "# in previous lessons, we have added two more columns to this dataset, \n",
    "#   computing the admission rates for each of the two genders included in this dataset\n",
    "\n",
    "# we have included that here so that we can view this information as well.\n",
    "#  (recall that there is a second way to add new columns to a dataset, using the mutate() function from dplyr)\n",
    "berkeleydata$Men_AdmissionRate <- berkeleydata$Men_Admitted / berkeleydata$Men_Applicants\n",
    "berkeleydata$Women_AdmissionRate <- berkeleydata$Women_Admitted / berkeleydata$Women_Applicants"
   ]
  },
  {
   "cell_type": "code",
   "execution_count": null,
   "metadata": {},
   "outputs": [],
   "source": []
  },
  {
   "cell_type": "code",
   "execution_count": null,
   "metadata": {},
   "outputs": [],
   "source": []
  }
 ],
 "metadata": {
  "celltoolbar": "Slideshow",
  "kernelspec": {
   "display_name": "R",
   "language": "R",
   "name": "ir"
  },
  "language_info": {
   "codemirror_mode": "r",
   "file_extension": ".r",
   "mimetype": "text/x-r-source",
   "name": "R",
   "pygments_lexer": "r",
   "version": "3.5.1"
  }
 },
 "nbformat": 4,
 "nbformat_minor": 2
}
