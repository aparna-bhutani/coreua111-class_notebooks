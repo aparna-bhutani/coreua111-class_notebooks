{
 "cells": [
  {
   "cell_type": "markdown",
   "metadata": {
    "slideshow": {
     "slide_type": "slide"
    }
   },
   "source": [
    "# Warm-up Question (clicker)\n",
    "\n",
    "\n",
    "Suppose we have a data frame called `my_pets` consisting of 6 rows and 4 columns:\n",
    "\n",
    "<table>\n",
    "    <tr> \n",
    "        <th>Name</th>\n",
    "        <th>Species</th>\n",
    "        <th>Weight_lb</th>\n",
    "        <th>Age</th>\n",
    "    </tr>\n",
    "    <tr>\n",
    "        <td>Alex</td>\n",
    "        <td>Cat</td>\n",
    "        <td>25</td>\n",
    "        <td>8</td>\n",
    "    </tr>\n",
    "    <tr>\n",
    "        <td>Bert</td>\n",
    "        <td>Cat</td>\n",
    "        <td>15</td>\n",
    "        <td>3</td>\n",
    "    </tr>\n",
    "    <tr>\n",
    "        <td>Cate</td>\n",
    "        <td>Dog</td>\n",
    "        <td>100</td>\n",
    "        <td>4</td>\n",
    "    </tr>\n",
    "    <tr>\n",
    "        <td>Doug</td>\n",
    "        <td>Cat</td>\n",
    "        <td>20</td>\n",
    "        <td>3</td>\n",
    "    </tr>\n",
    "    <tr>\n",
    "        <td>Evan</td>\n",
    "        <td>Dog</td>\n",
    "        <td>20</td>\n",
    "        <td>1</td>\n",
    "    </tr>\n",
    "    <tr>\n",
    "        <td>Finn</td>\n",
    "        <td>Rabbit</td>\n",
    "        <td>4</td>\n",
    "        <td>2</td>\n",
    "    </tr>\n",
    "</table>\n",
    "\n",
    "We would like to create a summary data frame called `ave_weight_by_species`\n",
    "\n",
    "<table>\n",
    "    <tr> \n",
    "        <th>Species</th>\n",
    "        <th>Average_Weight</th>\n",
    "    </tr>\n",
    "    <tr>\n",
    "        <td>Cat</td>\n",
    "        <td>20</td>\n",
    "    </tr>\n",
    "    <tr>\n",
    "        <td>Dog</td>\n",
    "        <td>60</td>\n",
    "    </tr>\n",
    "    <tr>\n",
    "        <td>Rabbit</td>\n",
    "        <td>4</td>\n",
    "    </tr>\n",
    "</table>\n",
    "\n",
    "Which of the commands below would you use?\n",
    "\n",
    "A\n",
    "\n",
    "    my_pets_by_species <- group_by( my_pets, Average_Weight = mean(Weight_lb) )\n",
    "    ave_weight_by_species <- summarize( my_pets_by_species )\n",
    "\n",
    "B\n",
    "\n",
    "    my_pets_by_species <- group_by( my_pets, Species )\n",
    "    ave_weight_by_species <- summarize( my_pets_by_species, Average_Weight = mean(Weight_lb) )\n",
    "\n",
    "C\n",
    "\n",
    "    my_pets_by_species <- group_by( my_pets, Species )\n",
    "    ave_weight_by_species <- summarize( my_pets, Average_Weight = mean(Weight_lb) )"
   ]
  },
  {
   "cell_type": "code",
   "execution_count": 1,
   "metadata": {
    "slideshow": {
     "slide_type": "subslide"
    }
   },
   "outputs": [
    {
     "data": {
      "text/html": [
       "<table>\n",
       "<thead><tr><th scope=col>Name</th><th scope=col>Species</th><th scope=col>Weight_lb</th><th scope=col>Age</th></tr></thead>\n",
       "<tbody>\n",
       "\t<tr><td>Alex  </td><td>Cat   </td><td> 25   </td><td>8     </td></tr>\n",
       "\t<tr><td>Bert  </td><td>Cat   </td><td> 15   </td><td>3     </td></tr>\n",
       "\t<tr><td>Cate  </td><td>Dog   </td><td>100   </td><td>4     </td></tr>\n",
       "\t<tr><td>Doug  </td><td>Cat   </td><td> 20   </td><td>3     </td></tr>\n",
       "\t<tr><td>Evan  </td><td>Dog   </td><td> 20   </td><td>1     </td></tr>\n",
       "\t<tr><td>Finn  </td><td>Rabbit</td><td>  4   </td><td>2     </td></tr>\n",
       "</tbody>\n",
       "</table>\n"
      ],
      "text/latex": [
       "\\begin{tabular}{r|llll}\n",
       " Name & Species & Weight\\_lb & Age\\\\\n",
       "\\hline\n",
       "\t Alex   & Cat    &  25    & 8     \\\\\n",
       "\t Bert   & Cat    &  15    & 3     \\\\\n",
       "\t Cate   & Dog    & 100    & 4     \\\\\n",
       "\t Doug   & Cat    &  20    & 3     \\\\\n",
       "\t Evan   & Dog    &  20    & 1     \\\\\n",
       "\t Finn   & Rabbit &   4    & 2     \\\\\n",
       "\\end{tabular}\n"
      ],
      "text/markdown": [
       "\n",
       "Name | Species | Weight_lb | Age | \n",
       "|---|---|---|---|---|---|\n",
       "| Alex   | Cat    |  25    | 8      | \n",
       "| Bert   | Cat    |  15    | 3      | \n",
       "| Cate   | Dog    | 100    | 4      | \n",
       "| Doug   | Cat    |  20    | 3      | \n",
       "| Evan   | Dog    |  20    | 1      | \n",
       "| Finn   | Rabbit |   4    | 2      | \n",
       "\n",
       "\n"
      ],
      "text/plain": [
       "  Name Species Weight_lb Age\n",
       "1 Alex Cat      25       8  \n",
       "2 Bert Cat      15       3  \n",
       "3 Cate Dog     100       4  \n",
       "4 Doug Cat      20       3  \n",
       "5 Evan Dog      20       1  \n",
       "6 Finn Rabbit    4       2  "
      ]
     },
     "metadata": {},
     "output_type": "display_data"
    }
   ],
   "source": [
    "my_pets <- data.frame( Name = c('Alex', 'Bert', 'Cate', 'Doug', 'Evan', 'Finn') ,\n",
    "                       Species = c('Cat', 'Cat', 'Dog', 'Cat', 'Dog', 'Rabbit'),\n",
    "                       Weight_lb = c(25, 15, 100, 20, 20, 4),\n",
    "                       Age = c( 8, 3, 4, 3, 1, 2 ) \n",
    "                     )\n",
    "\n",
    "my_pets"
   ]
  },
  {
   "cell_type": "code",
   "execution_count": 3,
   "metadata": {},
   "outputs": [],
   "source": [
    "library('dplyr')"
   ]
  },
  {
   "cell_type": "code",
   "execution_count": 4,
   "metadata": {
    "slideshow": {
     "slide_type": "subslide"
    }
   },
   "outputs": [
    {
     "data": {
      "text/html": [
       "<table>\n",
       "<thead><tr><th scope=col>Species</th><th scope=col>Average_Weight</th></tr></thead>\n",
       "<tbody>\n",
       "\t<tr><td>Cat   </td><td>20    </td></tr>\n",
       "\t<tr><td>Dog   </td><td>60    </td></tr>\n",
       "\t<tr><td>Rabbit</td><td> 4    </td></tr>\n",
       "</tbody>\n",
       "</table>\n"
      ],
      "text/latex": [
       "\\begin{tabular}{r|ll}\n",
       " Species & Average\\_Weight\\\\\n",
       "\\hline\n",
       "\t Cat    & 20    \\\\\n",
       "\t Dog    & 60    \\\\\n",
       "\t Rabbit &  4    \\\\\n",
       "\\end{tabular}\n"
      ],
      "text/markdown": [
       "\n",
       "Species | Average_Weight | \n",
       "|---|---|---|\n",
       "| Cat    | 20     | \n",
       "| Dog    | 60     | \n",
       "| Rabbit |  4     | \n",
       "\n",
       "\n"
      ],
      "text/plain": [
       "  Species Average_Weight\n",
       "1 Cat     20            \n",
       "2 Dog     60            \n",
       "3 Rabbit   4            "
      ]
     },
     "metadata": {},
     "output_type": "display_data"
    }
   ],
   "source": [
    "my_pets_by_species <- group_by( my_pets, Species )\n",
    "ave_weight_by_species <- summarize( my_pets_by_species, Average_Weight = mean(Weight_lb) )\n",
    "\n",
    "ave_weight_by_species"
   ]
  },
  {
   "cell_type": "markdown",
   "metadata": {
    "slideshow": {
     "slide_type": "slide"
    }
   },
   "source": [
    "# Lesson 6: Visualizing Data\n",
    "\n",
    "Today:\n",
    "1. Bar plots, histograms, and scatterplots\n",
    "2. Creating data visualizations with R\n",
    "    + Bar plots\n",
    "    + Histograms\n",
    "    + Scatterplots"
   ]
  },
  {
   "cell_type": "markdown",
   "metadata": {
    "slideshow": {
     "slide_type": "slide"
    }
   },
   "source": [
    "## 1. Bar plots, histograms, and scatterplots"
   ]
  },
  {
   "cell_type": "markdown",
   "metadata": {
    "slideshow": {
     "slide_type": "subslide"
    }
   },
   "source": [
    "### Bar Plots"
   ]
  },
  {
   "cell_type": "markdown",
   "metadata": {
    "slideshow": {
     "slide_type": "fragment"
    }
   },
   "source": [
    "+ One categorical variable\n",
    "+ One bar for each group\n",
    "+ Bar height = how many rows belong to that group"
   ]
  },
  {
   "cell_type": "markdown",
   "metadata": {
    "slideshow": {
     "slide_type": "subslide"
    }
   },
   "source": [
    "#### Example"
   ]
  },
  {
   "cell_type": "code",
   "execution_count": 5,
   "metadata": {
    "scrolled": true
   },
   "outputs": [
    {
     "data": {
      "text/html": [
       "<table>\n",
       "<thead><tr><th scope=col>Name</th><th scope=col>Species</th><th scope=col>Weight_lb</th><th scope=col>Age</th></tr></thead>\n",
       "<tbody>\n",
       "\t<tr><td>Alex  </td><td>Cat   </td><td> 25   </td><td>8     </td></tr>\n",
       "\t<tr><td>Bert  </td><td>Cat   </td><td> 15   </td><td>3     </td></tr>\n",
       "\t<tr><td>Cate  </td><td>Dog   </td><td>100   </td><td>4     </td></tr>\n",
       "\t<tr><td>Doug  </td><td>Cat   </td><td> 20   </td><td>3     </td></tr>\n",
       "\t<tr><td>Evan  </td><td>Dog   </td><td> 20   </td><td>1     </td></tr>\n",
       "\t<tr><td>Finn  </td><td>Rabbit</td><td>  4   </td><td>2     </td></tr>\n",
       "</tbody>\n",
       "</table>\n"
      ],
      "text/latex": [
       "\\begin{tabular}{r|llll}\n",
       " Name & Species & Weight\\_lb & Age\\\\\n",
       "\\hline\n",
       "\t Alex   & Cat    &  25    & 8     \\\\\n",
       "\t Bert   & Cat    &  15    & 3     \\\\\n",
       "\t Cate   & Dog    & 100    & 4     \\\\\n",
       "\t Doug   & Cat    &  20    & 3     \\\\\n",
       "\t Evan   & Dog    &  20    & 1     \\\\\n",
       "\t Finn   & Rabbit &   4    & 2     \\\\\n",
       "\\end{tabular}\n"
      ],
      "text/markdown": [
       "\n",
       "Name | Species | Weight_lb | Age | \n",
       "|---|---|---|---|---|---|\n",
       "| Alex   | Cat    |  25    | 8      | \n",
       "| Bert   | Cat    |  15    | 3      | \n",
       "| Cate   | Dog    | 100    | 4      | \n",
       "| Doug   | Cat    |  20    | 3      | \n",
       "| Evan   | Dog    |  20    | 1      | \n",
       "| Finn   | Rabbit |   4    | 2      | \n",
       "\n",
       "\n"
      ],
      "text/plain": [
       "  Name Species Weight_lb Age\n",
       "1 Alex Cat      25       8  \n",
       "2 Bert Cat      15       3  \n",
       "3 Cate Dog     100       4  \n",
       "4 Doug Cat      20       3  \n",
       "5 Evan Dog      20       1  \n",
       "6 Finn Rabbit    4       2  "
      ]
     },
     "metadata": {},
     "output_type": "display_data"
    }
   ],
   "source": [
    "my_pets"
   ]
  },
  {
   "cell_type": "markdown",
   "metadata": {
    "slideshow": {
     "slide_type": "subslide"
    }
   },
   "source": [
    "### Histograms"
   ]
  },
  {
   "cell_type": "markdown",
   "metadata": {
    "slideshow": {
     "slide_type": "fragment"
    }
   },
   "source": [
    "+ One numerical variable\n",
    "+ Group the numbers (into \"bins\")\n",
    "+ One bar for each bin\n",
    "+ Bar height = how many rows belong to that bin"
   ]
  },
  {
   "cell_type": "markdown",
   "metadata": {
    "slideshow": {
     "slide_type": "subslide"
    }
   },
   "source": [
    "#### Example"
   ]
  },
  {
   "cell_type": "code",
   "execution_count": null,
   "metadata": {
    "scrolled": true
   },
   "outputs": [],
   "source": []
  },
  {
   "cell_type": "markdown",
   "metadata": {
    "slideshow": {
     "slide_type": "subslide"
    }
   },
   "source": [
    "### Scatterplots"
   ]
  },
  {
   "cell_type": "markdown",
   "metadata": {
    "slideshow": {
     "slide_type": "fragment"
    }
   },
   "source": [
    "+ Two numerical variables\n",
    "+ One row = one point on the scatterplot"
   ]
  },
  {
   "cell_type": "markdown",
   "metadata": {
    "slideshow": {
     "slide_type": "subslide"
    }
   },
   "source": [
    "#### Example"
   ]
  },
  {
   "cell_type": "code",
   "execution_count": null,
   "metadata": {
    "scrolled": true
   },
   "outputs": [],
   "source": [
    "my_pets"
   ]
  },
  {
   "cell_type": "markdown",
   "metadata": {
    "slideshow": {
     "slide_type": "slide"
    }
   },
   "source": [
    "## 2. Creating data visualizations with R\n",
    "\n",
    "We will use an R package called `ggplot2` to create data visualizations.  To load the package, we run the cell below.  (We need to load the package just once each time we use a Jupyter Notebook.  We will use `ggplot2` often in future notebooks.)"
   ]
  },
  {
   "cell_type": "code",
   "execution_count": null,
   "metadata": {},
   "outputs": [],
   "source": [
    "library('ggplot2')"
   ]
  },
  {
   "cell_type": "markdown",
   "metadata": {
    "slideshow": {
     "slide_type": "subslide"
    }
   },
   "source": [
    "Next, let's load the dataset that we'll use today."
   ]
  },
  {
   "cell_type": "markdown",
   "metadata": {
    "slideshow": {
     "slide_type": "skip"
    }
   },
   "source": [
    "This data is taken from the [2015 NYC Street Tree Census data, from NYC Open Data](https://data.cityofnewyork.us/Environment/2015-Street-Tree-Census-Tree-Data/pi5s-9p35).  You can find this dataset saved as `NYC_Tree_census.csv` in the `datasets` folder in `shared`.  This dataset contains more than 600,000 rows of data, and is therefore quite large.  \n",
    "\n",
    "We have included a smaller version of this dataset, `NYC_Tree_census_small.csv`, containing \"only\" 10,000 randomly chosen rows.  If you find that the large version takes a long time to work with, please use this smaller version."
   ]
  },
  {
   "cell_type": "code",
   "execution_count": null,
   "metadata": {},
   "outputs": [],
   "source": [
    "nyc_trees <- read.csv( '../../shared/datasets/NYC_Tree_Census_small.csv' )"
   ]
  },
  {
   "cell_type": "markdown",
   "metadata": {
    "slideshow": {
     "slide_type": "subslide"
    }
   },
   "source": [
    "Before we start, let's try to get a basic understanding of what this dataset is.\n",
    "+ How many observations?  How many variables?\n",
    "+ What does each observation correspond to?\n",
    "+ What types of variables are there in this dataset?"
   ]
  },
  {
   "cell_type": "code",
   "execution_count": null,
   "metadata": {},
   "outputs": [],
   "source": []
  },
  {
   "cell_type": "markdown",
   "metadata": {
    "slideshow": {
     "slide_type": "subslide"
    }
   },
   "source": [
    "### Using the `ggplot()` function to create data visualizations\n",
    "\n",
    "The `ggplot2` package comes with various functions that let us make different types of visualizations.  In general, this is how the code for creating plots using `ggplot2` look like\n",
    "\n",
    "```\n",
    "ggplot( data = DATAFRAMENAME, aes( x = VARIABLENAME, ... ) ) + geom_TYPEOFPLOT()  \n",
    "```\n",
    "(depending on the type of plots, we might replace the `...` above with further information.)\n",
    "\n",
    "Tooday, we will look at two types of plots: bar plots and histograms."
   ]
  },
  {
   "cell_type": "markdown",
   "metadata": {
    "slideshow": {
     "slide_type": "subslide"
    }
   },
   "source": [
    "### 2.1. Bar Plots\n",
    "\n",
    "We use bar plots when we work with a **categorical variable**, such as the `boroname` column in the `nyc_trees` dataset.  More specifically, we create bar plots to figure out how many observations belong to each group.\n"
   ]
  },
  {
   "cell_type": "markdown",
   "metadata": {
    "slideshow": {
     "slide_type": "fragment"
    }
   },
   "source": [
    "\n",
    "In our example, the `nyc_trees` dataset contains data of 10000 trees.  We might be interested in: whether the trees were evenly distributed across the five borough; which borough has the most/least number of trees; etc.\n",
    "\n"
   ]
  },
  {
   "cell_type": "markdown",
   "metadata": {
    "slideshow": {
     "slide_type": "fragment"
    }
   },
   "source": [
    "**To create a bar plot** using `ggplot2`, we use thefollowing command:\n",
    "```\n",
    "ggplot( data = DATAFRAMENAME, aes( x = VARIABLENAME ) ) + geom_bar() \n",
    "```\n",
    "where `VARIABLENAME` should correspond to a categorical variable."
   ]
  },
  {
   "cell_type": "markdown",
   "metadata": {
    "slideshow": {
     "slide_type": "subslide"
    }
   },
   "source": [
    "**Example**\n",
    "\n",
    "We will create a bar plot to find out the distribution of trees across the five boroughs."
   ]
  },
  {
   "cell_type": "code",
   "execution_count": null,
   "metadata": {},
   "outputs": [],
   "source": []
  },
  {
   "cell_type": "markdown",
   "metadata": {
    "slideshow": {
     "slide_type": "subslide"
    }
   },
   "source": [
    "**Exercise**\n",
    "\n",
    "Choose another categorical variable in the `nyc_trees` dataset and create a bar plot for this variable."
   ]
  },
  {
   "cell_type": "code",
   "execution_count": null,
   "metadata": {
    "slideshow": {
     "slide_type": "fragment"
    }
   },
   "outputs": [],
   "source": [
    "# create a bar plot for your chosen categorical variable\n",
    "\n",
    "ggplot( .... ) + ...\n"
   ]
  },
  {
   "cell_type": "markdown",
   "metadata": {
    "slideshow": {
     "slide_type": "slide"
    }
   },
   "source": [
    "### 2.2. Histograms\n",
    "\n",
    "We use histograms when we work with **numerical variables**, such as the `tree_dbh` column.  More specifically, we create histograms to get a sense of how the different tree diameter values are distributed: Are there equally-many thin, medium, and thick trees? Are there more thinner trees?\n",
    "\n"
   ]
  },
  {
   "cell_type": "markdown",
   "metadata": {
    "slideshow": {
     "slide_type": "fragment"
    }
   },
   "source": [
    "Histograms are similar to to bar plots in that they give us a sense of how \"frequently\" a value appear in the column."
   ]
  },
  {
   "cell_type": "markdown",
   "metadata": {
    "slideshow": {
     "slide_type": "fragment"
    }
   },
   "source": [
    "However, When our columns contain numbers, we don't necessarily want one bar for each of those numbers.  Instead, we might want to group some numbers together.  For example, maybe we want to count the number of trees whose diameters are between 0 and 5 inches, between 5 and 10 inches, etc. and plot them."
   ]
  },
  {
   "cell_type": "markdown",
   "metadata": {
    "slideshow": {
     "slide_type": "subslide"
    }
   },
   "source": [
    "To create a histogram using `ggplot2`, we use thefollowing command:\n",
    "```\n",
    "ggplot( data = DATAFRAMENAME, aes( x = VARIABLENAME ) ) + geom_histogram() \n",
    "```\n",
    "where `VARIABLENAME` should correspond to a numerical variable."
   ]
  },
  {
   "cell_type": "markdown",
   "metadata": {
    "slideshow": {
     "slide_type": "subslide"
    }
   },
   "source": [
    "**Example**\n",
    "\n",
    "We will create a histogram to find out the distribution of tree diameters (in the column `tree_dbh`)"
   ]
  },
  {
   "cell_type": "code",
   "execution_count": null,
   "metadata": {
    "slideshow": {
     "slide_type": "fragment"
    }
   },
   "outputs": [],
   "source": []
  },
  {
   "cell_type": "markdown",
   "metadata": {
    "slideshow": {
     "slide_type": "subslide"
    }
   },
   "source": [
    "The plot above shows us that even though the data claims that there is a tree whose diameter is 450 inches, the vast majority of trees are under roughly 50 inches in diameter.\n",
    "\n",
    "You might also notice a warning when the plot was produced: \n",
    "\n",
    "\" `stat_bin()` using `bins = 30`. Pick better value with `binwidth`.\"\n",
    "\n",
    "R automatically creates a histogram with 30 bars -- that is, it groups our tree diameters into 30 groups.  "
   ]
  },
  {
   "cell_type": "markdown",
   "metadata": {
    "slideshow": {
     "slide_type": "subslide"
    }
   },
   "source": [
    "If we want to change the number of \"bins\", we can add an extra input in our `ggplot2` command:\n",
    "\n",
    "```\n",
    "ggplot( data = DATAFRAMENAME, aes( x = VARIABLENAME ) ) + geom_histogram( bins = NUMBEROFBINS ) \n",
    "```\n",
    "\n",
    "For example:"
   ]
  },
  {
   "cell_type": "code",
   "execution_count": null,
   "metadata": {
    "slideshow": {
     "slide_type": "fragment"
    }
   },
   "outputs": [],
   "source": []
  },
  {
   "cell_type": "markdown",
   "metadata": {
    "slideshow": {
     "slide_type": "subslide"
    }
   },
   "source": [
    "**Exercise**\n",
    "\n",
    "Choose another numerical variable in the `nyc_tree_data` dataset and create a histogram for this variable.  Try changing the number of bins used."
   ]
  },
  {
   "cell_type": "code",
   "execution_count": null,
   "metadata": {
    "slideshow": {
     "slide_type": "fragment"
    }
   },
   "outputs": [],
   "source": [
    "# Choose another numerical variable in the `nyc_tree_data` dataset and create a histogram for this variable.  \n",
    "# Try changing the number of bins used.\n",
    "\n",
    "# ggplot( ... ) + ..."
   ]
  },
  {
   "cell_type": "markdown",
   "metadata": {
    "slideshow": {
     "slide_type": "slide"
    }
   },
   "source": [
    "### 2.3. Scatterplots\n",
    "\n",
    "We use scatterplots when we want to visualize the relationship between two numerical variables."
   ]
  },
  {
   "cell_type": "markdown",
   "metadata": {
    "slideshow": {
     "slide_type": "subslide"
    }
   },
   "source": [
    "To create a scatter using `ggplot2`, we use thefollowing command:\n",
    "```\n",
    "ggplot( data = DATAFRAMENAME, aes( x = VARIABLENAME1, y = VARIABLENAME2 ) ) + geom_point() \n",
    "```\n",
    "where `VARIABLENAME1` and `VARIABLENAME2` should correspond to numerical variables."
   ]
  },
  {
   "cell_type": "markdown",
   "metadata": {
    "slideshow": {
     "slide_type": "subslide"
    }
   },
   "source": [
    "**Example**\n",
    "\n",
    "We will create a scatterplot, plotting the x and y coordinates of the trees in this dataset"
   ]
  },
  {
   "cell_type": "code",
   "execution_count": null,
   "metadata": {
    "slideshow": {
     "slide_type": "fragment"
    }
   },
   "outputs": [],
   "source": []
  },
  {
   "cell_type": "markdown",
   "metadata": {
    "slideshow": {
     "slide_type": "subslide"
    }
   },
   "source": [
    "**Exercises**\n",
    "\n",
    "Let's try making visualizations from the other datasets we've seen previously.\n",
    "+ Create one bar plot\n",
    "+ Create one histogram\n",
    "+ Create one scatterplot."
   ]
  },
  {
   "cell_type": "code",
   "execution_count": null,
   "metadata": {
    "slideshow": {
     "slide_type": "subslide"
    }
   },
   "outputs": [],
   "source": [
    "my_pets"
   ]
  },
  {
   "cell_type": "code",
   "execution_count": null,
   "metadata": {
    "slideshow": {
     "slide_type": "subslide"
    }
   },
   "outputs": [],
   "source": [
    "\n",
    "\n"
   ]
  },
  {
   "cell_type": "code",
   "execution_count": null,
   "metadata": {
    "slideshow": {
     "slide_type": "subslide"
    }
   },
   "outputs": [],
   "source": []
  }
 ],
 "metadata": {
  "celltoolbar": "Slideshow",
  "kernelspec": {
   "display_name": "R",
   "language": "R",
   "name": "ir"
  },
  "language_info": {
   "codemirror_mode": "r",
   "file_extension": ".r",
   "mimetype": "text/x-r-source",
   "name": "R",
   "pygments_lexer": "r",
   "version": "3.5.1"
  }
 },
 "nbformat": 4,
 "nbformat_minor": 2
}
