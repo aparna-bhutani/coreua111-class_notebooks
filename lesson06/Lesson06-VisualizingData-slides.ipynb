{
 "cells": [
  {
   "cell_type": "markdown",
   "metadata": {
    "slideshow": {
     "slide_type": "slide"
    }
   },
   "source": [
    "# Warm-up Question (clicker)\n",
    "\n",
    "\n",
    "Suppose we have a data frame called `my_pets` consisting of 6 rows and 4 columns:\n",
    "\n",
    "<table>\n",
    "    <tr> \n",
    "        <th>Name</th>\n",
    "        <th>Species</th>\n",
    "        <th>Weight_lb</th>\n",
    "        <th>Age</th>\n",
    "    </tr>\n",
    "    <tr>\n",
    "        <td>Alex</td>\n",
    "        <td>Cat</td>\n",
    "        <td>25</td>\n",
    "        <td>8</td>\n",
    "    </tr>\n",
    "    <tr>\n",
    "        <td>Bert</td>\n",
    "        <td>Cat</td>\n",
    "        <td>15</td>\n",
    "        <td>3</td>\n",
    "    </tr>\n",
    "    <tr>\n",
    "        <td>Cate</td>\n",
    "        <td>Dog</td>\n",
    "        <td>100</td>\n",
    "        <td>4</td>\n",
    "    </tr>\n",
    "    <tr>\n",
    "        <td>Doug</td>\n",
    "        <td>Cat</td>\n",
    "        <td>20</td>\n",
    "        <td>3</td>\n",
    "    </tr>\n",
    "    <tr>\n",
    "        <td>Evan</td>\n",
    "        <td>Dog</td>\n",
    "        <td>20</td>\n",
    "        <td>1</td>\n",
    "    </tr>\n",
    "    <tr>\n",
    "        <td>Finn</td>\n",
    "        <td>Rabbit</td>\n",
    "        <td>4</td>\n",
    "        <td>2</td>\n",
    "    </tr>\n",
    "</table>\n",
    "\n",
    "We would like to create a summary data frame called `ave_weight_by_species`\n",
    "\n",
    "<table>\n",
    "    <tr> \n",
    "        <th>Species</th>\n",
    "        <th>Average_Weight</th>\n",
    "    </tr>\n",
    "    <tr>\n",
    "        <td>Cat</td>\n",
    "        <td>20</td>\n",
    "    </tr>\n",
    "    <tr>\n",
    "        <td>Dog</td>\n",
    "        <td>60</td>\n",
    "    </tr>\n",
    "    <tr>\n",
    "        <td>Rabbit</td>\n",
    "        <td>4</td>\n",
    "    </tr>\n",
    "</table>\n",
    "\n",
    "Which of the commands below would you use?\n",
    "\n",
    "A\n",
    "\n",
    "    my_pets_by_species <- group_by( my_pets, Average_Weight = mean(Weight_lb) )\n",
    "    ave_weight_by_species <- summarize( my_pets_by_species )\n",
    "\n",
    "B\n",
    "\n",
    "    my_pets_by_species <- group_by( my_pets, Species )\n",
    "    ave_weight_by_species <- summarize( my_pets_by_species, Average_Weight = mean(Weight_lb) )\n",
    "\n",
    "C\n",
    "\n",
    "    my_pets_by_species <- group_by( my_pets, Species )\n",
    "    ave_weight_by_species <- summarize( my_pets, Average_Weight = mean(Weight_lb) )"
   ]
  },
  {
   "cell_type": "code",
   "execution_count": 1,
   "metadata": {
    "slideshow": {
     "slide_type": "subslide"
    }
   },
   "outputs": [
    {
     "data": {
      "text/html": [
       "<table>\n",
       "<thead><tr><th scope=col>Name</th><th scope=col>Species</th><th scope=col>Weight_lb</th><th scope=col>Age</th></tr></thead>\n",
       "<tbody>\n",
       "\t<tr><td>Alex  </td><td>Cat   </td><td> 25   </td><td>8     </td></tr>\n",
       "\t<tr><td>Bert  </td><td>Cat   </td><td> 15   </td><td>3     </td></tr>\n",
       "\t<tr><td>Cate  </td><td>Dog   </td><td>100   </td><td>4     </td></tr>\n",
       "\t<tr><td>Doug  </td><td>Cat   </td><td> 20   </td><td>3     </td></tr>\n",
       "\t<tr><td>Evan  </td><td>Dog   </td><td> 20   </td><td>1     </td></tr>\n",
       "\t<tr><td>Finn  </td><td>Rabbit</td><td>  4   </td><td>2     </td></tr>\n",
       "</tbody>\n",
       "</table>\n"
      ],
      "text/latex": [
       "\\begin{tabular}{r|llll}\n",
       " Name & Species & Weight\\_lb & Age\\\\\n",
       "\\hline\n",
       "\t Alex   & Cat    &  25    & 8     \\\\\n",
       "\t Bert   & Cat    &  15    & 3     \\\\\n",
       "\t Cate   & Dog    & 100    & 4     \\\\\n",
       "\t Doug   & Cat    &  20    & 3     \\\\\n",
       "\t Evan   & Dog    &  20    & 1     \\\\\n",
       "\t Finn   & Rabbit &   4    & 2     \\\\\n",
       "\\end{tabular}\n"
      ],
      "text/markdown": [
       "\n",
       "Name | Species | Weight_lb | Age | \n",
       "|---|---|---|---|---|---|\n",
       "| Alex   | Cat    |  25    | 8      | \n",
       "| Bert   | Cat    |  15    | 3      | \n",
       "| Cate   | Dog    | 100    | 4      | \n",
       "| Doug   | Cat    |  20    | 3      | \n",
       "| Evan   | Dog    |  20    | 1      | \n",
       "| Finn   | Rabbit |   4    | 2      | \n",
       "\n",
       "\n"
      ],
      "text/plain": [
       "  Name Species Weight_lb Age\n",
       "1 Alex Cat      25       8  \n",
       "2 Bert Cat      15       3  \n",
       "3 Cate Dog     100       4  \n",
       "4 Doug Cat      20       3  \n",
       "5 Evan Dog      20       1  \n",
       "6 Finn Rabbit    4       2  "
      ]
     },
     "metadata": {},
     "output_type": "display_data"
    }
   ],
   "source": [
    "my_pets <- data.frame( Name = c('Alex', 'Bert', 'Cate', 'Doug', 'Evan', 'Finn') ,\n",
    "                       Species = c('Cat', 'Cat', 'Dog', 'Cat', 'Dog', 'Rabbit'),\n",
    "                       Weight_lb = c(25, 15, 100, 20, 20, 4),\n",
    "                       Age = c( 8, 3, 4, 3, 1, 2 ) \n",
    "                     )\n",
    "\n",
    "my_pets"
   ]
  },
  {
   "cell_type": "code",
   "execution_count": 3,
   "metadata": {},
   "outputs": [],
   "source": [
    "library('dplyr')"
   ]
  },
  {
   "cell_type": "code",
   "execution_count": 4,
   "metadata": {
    "slideshow": {
     "slide_type": "subslide"
    }
   },
   "outputs": [
    {
     "data": {
      "text/html": [
       "<table>\n",
       "<thead><tr><th scope=col>Species</th><th scope=col>Average_Weight</th></tr></thead>\n",
       "<tbody>\n",
       "\t<tr><td>Cat   </td><td>20    </td></tr>\n",
       "\t<tr><td>Dog   </td><td>60    </td></tr>\n",
       "\t<tr><td>Rabbit</td><td> 4    </td></tr>\n",
       "</tbody>\n",
       "</table>\n"
      ],
      "text/latex": [
       "\\begin{tabular}{r|ll}\n",
       " Species & Average\\_Weight\\\\\n",
       "\\hline\n",
       "\t Cat    & 20    \\\\\n",
       "\t Dog    & 60    \\\\\n",
       "\t Rabbit &  4    \\\\\n",
       "\\end{tabular}\n"
      ],
      "text/markdown": [
       "\n",
       "Species | Average_Weight | \n",
       "|---|---|---|\n",
       "| Cat    | 20     | \n",
       "| Dog    | 60     | \n",
       "| Rabbit |  4     | \n",
       "\n",
       "\n"
      ],
      "text/plain": [
       "  Species Average_Weight\n",
       "1 Cat     20            \n",
       "2 Dog     60            \n",
       "3 Rabbit   4            "
      ]
     },
     "metadata": {},
     "output_type": "display_data"
    }
   ],
   "source": [
    "my_pets_by_species <- group_by( my_pets, Species )\n",
    "ave_weight_by_species <- summarize( my_pets_by_species, Average_Weight = mean(Weight_lb) )\n",
    "\n",
    "ave_weight_by_species"
   ]
  },
  {
   "cell_type": "markdown",
   "metadata": {
    "slideshow": {
     "slide_type": "slide"
    }
   },
   "source": [
    "# Lesson 6: Visualizing Data\n",
    "\n",
    "Today:\n",
    "1. Bar plots, histograms, and scatterplots\n",
    "2. Creating data visualizations with R\n",
    "    + Bar plots\n",
    "    + Histograms\n",
    "    + Scatterplots"
   ]
  },
  {
   "cell_type": "markdown",
   "metadata": {
    "slideshow": {
     "slide_type": "slide"
    }
   },
   "source": [
    "## 1. Bar plots, histograms, and scatterplots"
   ]
  },
  {
   "cell_type": "markdown",
   "metadata": {
    "slideshow": {
     "slide_type": "subslide"
    }
   },
   "source": [
    "### Bar Plots"
   ]
  },
  {
   "cell_type": "markdown",
   "metadata": {
    "slideshow": {
     "slide_type": "fragment"
    }
   },
   "source": [
    "+ One categorical variable\n",
    "+ One bar for each group\n",
    "+ Bar height = how many rows belong to that group"
   ]
  },
  {
   "cell_type": "markdown",
   "metadata": {
    "slideshow": {
     "slide_type": "subslide"
    }
   },
   "source": [
    "#### Example"
   ]
  },
  {
   "cell_type": "code",
   "execution_count": 5,
   "metadata": {
    "scrolled": true
   },
   "outputs": [
    {
     "data": {
      "text/html": [
       "<table>\n",
       "<thead><tr><th scope=col>Name</th><th scope=col>Species</th><th scope=col>Weight_lb</th><th scope=col>Age</th></tr></thead>\n",
       "<tbody>\n",
       "\t<tr><td>Alex  </td><td>Cat   </td><td> 25   </td><td>8     </td></tr>\n",
       "\t<tr><td>Bert  </td><td>Cat   </td><td> 15   </td><td>3     </td></tr>\n",
       "\t<tr><td>Cate  </td><td>Dog   </td><td>100   </td><td>4     </td></tr>\n",
       "\t<tr><td>Doug  </td><td>Cat   </td><td> 20   </td><td>3     </td></tr>\n",
       "\t<tr><td>Evan  </td><td>Dog   </td><td> 20   </td><td>1     </td></tr>\n",
       "\t<tr><td>Finn  </td><td>Rabbit</td><td>  4   </td><td>2     </td></tr>\n",
       "</tbody>\n",
       "</table>\n"
      ],
      "text/latex": [
       "\\begin{tabular}{r|llll}\n",
       " Name & Species & Weight\\_lb & Age\\\\\n",
       "\\hline\n",
       "\t Alex   & Cat    &  25    & 8     \\\\\n",
       "\t Bert   & Cat    &  15    & 3     \\\\\n",
       "\t Cate   & Dog    & 100    & 4     \\\\\n",
       "\t Doug   & Cat    &  20    & 3     \\\\\n",
       "\t Evan   & Dog    &  20    & 1     \\\\\n",
       "\t Finn   & Rabbit &   4    & 2     \\\\\n",
       "\\end{tabular}\n"
      ],
      "text/markdown": [
       "\n",
       "Name | Species | Weight_lb | Age | \n",
       "|---|---|---|---|---|---|\n",
       "| Alex   | Cat    |  25    | 8      | \n",
       "| Bert   | Cat    |  15    | 3      | \n",
       "| Cate   | Dog    | 100    | 4      | \n",
       "| Doug   | Cat    |  20    | 3      | \n",
       "| Evan   | Dog    |  20    | 1      | \n",
       "| Finn   | Rabbit |   4    | 2      | \n",
       "\n",
       "\n"
      ],
      "text/plain": [
       "  Name Species Weight_lb Age\n",
       "1 Alex Cat      25       8  \n",
       "2 Bert Cat      15       3  \n",
       "3 Cate Dog     100       4  \n",
       "4 Doug Cat      20       3  \n",
       "5 Evan Dog      20       1  \n",
       "6 Finn Rabbit    4       2  "
      ]
     },
     "metadata": {},
     "output_type": "display_data"
    }
   ],
   "source": [
    "my_pets"
   ]
  },
  {
   "cell_type": "markdown",
   "metadata": {
    "slideshow": {
     "slide_type": "subslide"
    }
   },
   "source": [
    "### Histograms"
   ]
  },
  {
   "cell_type": "markdown",
   "metadata": {
    "slideshow": {
     "slide_type": "fragment"
    }
   },
   "source": [
    "+ One numerical variable\n",
    "+ Group the numbers (into \"bins\")\n",
    "+ One bar for each bin\n",
    "+ Bar height = how many rows belong to that bin"
   ]
  },
  {
   "cell_type": "markdown",
   "metadata": {
    "slideshow": {
     "slide_type": "subslide"
    }
   },
   "source": [
    "#### Example"
   ]
  },
  {
   "cell_type": "code",
   "execution_count": null,
   "metadata": {
    "scrolled": true
   },
   "outputs": [],
   "source": []
  },
  {
   "cell_type": "markdown",
   "metadata": {
    "slideshow": {
     "slide_type": "subslide"
    }
   },
   "source": [
    "### Scatterplots"
   ]
  },
  {
   "cell_type": "markdown",
   "metadata": {
    "slideshow": {
     "slide_type": "fragment"
    }
   },
   "source": [
    "+ Two numerical variables\n",
    "+ One row = one point on the scatterplot"
   ]
  },
  {
   "cell_type": "markdown",
   "metadata": {
    "slideshow": {
     "slide_type": "subslide"
    }
   },
   "source": [
    "#### Example"
   ]
  },
  {
   "cell_type": "code",
   "execution_count": null,
   "metadata": {
    "scrolled": true
   },
   "outputs": [],
   "source": [
    "my_pets"
   ]
  },
  {
   "cell_type": "markdown",
   "metadata": {
    "slideshow": {
     "slide_type": "slide"
    }
   },
   "source": [
    "## 2. Creating data visualizations with R\n",
    "\n",
    "We will use an R package called `ggplot2` to create data visualizations.  To load the package, we run the cell below.  (We need to load the package just once each time we use a Jupyter Notebook.  We will use `ggplot2` often in future notebooks.)"
   ]
  },
  {
   "cell_type": "code",
   "execution_count": 4,
   "metadata": {},
   "outputs": [],
   "source": [
    "library('ggplot2')\n",
    "\n",
    "# ignore the commands below; these just make sure plots fit on the screen\n",
    "library('repr')\n",
    "options(repr.plot.width=3, repr.plot.height=3)"
   ]
  },
  {
   "cell_type": "markdown",
   "metadata": {
    "slideshow": {
     "slide_type": "subslide"
    }
   },
   "source": [
    "Next, let's load the dataset that we'll use today."
   ]
  },
  {
   "cell_type": "markdown",
   "metadata": {
    "slideshow": {
     "slide_type": "skip"
    }
   },
   "source": [
    "This data is taken from the [2015 NYC Street Tree Census data, from NYC Open Data](https://data.cityofnewyork.us/Environment/2015-Street-Tree-Census-Tree-Data/pi5s-9p35).  You can find this dataset saved as `NYC_Tree_census.csv` in the `datasets` folder in `shared`.  This dataset contains more than 600,000 rows of data, and is therefore quite large.  \n",
    "\n",
    "We have included a smaller version of this dataset, `NYC_Tree_census_small.csv`, containing \"only\" 10,000 randomly chosen rows.  If you find that the large version takes a long time to work with, please use this smaller version."
   ]
  },
  {
   "cell_type": "code",
   "execution_count": 2,
   "metadata": {},
   "outputs": [],
   "source": [
    "nyc_trees <- read.csv( '../../shared/datasets/NYC_Tree_Census_small.csv' )"
   ]
  },
  {
   "cell_type": "markdown",
   "metadata": {
    "slideshow": {
     "slide_type": "subslide"
    }
   },
   "source": [
    "Before we start, let's try to get a basic understanding of what this dataset is.\n",
    "+ How many observations?  How many variables?\n",
    "+ What does each observation correspond to?\n",
    "+ What types of variables are there in this dataset?"
   ]
  },
  {
   "cell_type": "code",
   "execution_count": 11,
   "metadata": {},
   "outputs": [
    {
     "data": {
      "text/html": [
       "<table>\n",
       "<thead><tr><th scope=col>created_at</th><th scope=col>tree_id</th><th scope=col>block_id</th><th scope=col>the_geom</th><th scope=col>tree_dbh</th><th scope=col>stump_diam</th><th scope=col>curb_loc</th><th scope=col>status</th><th scope=col>health</th><th scope=col>spc_latin</th><th scope=col>⋯</th><th scope=col>st_assem</th><th scope=col>st_senate</th><th scope=col>nta</th><th scope=col>nta_name</th><th scope=col>boro_ct</th><th scope=col>state</th><th scope=col>Latitude</th><th scope=col>longitude</th><th scope=col>x_sp</th><th scope=col>y_sp</th></tr></thead>\n",
       "<tbody>\n",
       "\t<tr><td>10/29/2015                                   </td><td>395911                                       </td><td>401773                                       </td><td>POINT (-74.07416139756627 40.62079281921162) </td><td> 5                                           </td><td>0                                            </td><td>OnCurb                                       </td><td>Alive                                        </td><td>Good                                         </td><td>Cercis canadensis                            </td><td>⋯                                            </td><td>61                                           </td><td>23                                           </td><td>SI08                                         </td><td>Grymes Hill-Clifton-Fox Hills                </td><td>5004000                                      </td><td>New York                                     </td><td>40.62079                                     </td><td>-74.07416                                    </td><td> 963662.0                                    </td><td>165456.7                                     </td></tr>\n",
       "\t<tr><td>11/10/2015                                   </td><td>443025                                       </td><td>501796                                       </td><td>POINT (-73.89301179037105 40.824919471496926)</td><td>12                                           </td><td>0                                            </td><td>OnCurb                                       </td><td>Alive                                        </td><td>Good                                         </td><td>Gleditsia triacanthos var. inermis           </td><td>⋯                                            </td><td>85                                           </td><td>32                                           </td><td>BX27                                         </td><td>Hunts Point                                  </td><td>2012701                                      </td><td>New York                                     </td><td>40.82492                                     </td><td>-73.89301                                    </td><td>1013860.2                                    </td><td>239835.7                                     </td></tr>\n",
       "\t<tr><td>06/06/2016                                   </td><td>575926                                       </td><td>325008                                       </td><td>POINT (-73.75825058904266 40.675885076077165)</td><td> 2                                           </td><td>0                                            </td><td>OnCurb                                       </td><td>Alive                                        </td><td>Good                                         </td><td>Maackia amurensis                            </td><td>⋯                                            </td><td>29                                           </td><td>10                                           </td><td>QN66                                         </td><td>Laurelton                                    </td><td>4032800                                      </td><td>New York                                     </td><td>40.67589                                     </td><td>-73.75825                                    </td><td>1051306.6                                    </td><td>185612.1                                     </td></tr>\n",
       "\t<tr><td>08/10/2015                                   </td><td>134518                                       </td><td>218253                                       </td><td>POINT (-73.964263498351 40.71648243980813)   </td><td> 4                                           </td><td>0                                            </td><td>OnCurb                                       </td><td>Alive                                        </td><td>Good                                         </td><td>Zelkova serrata                              </td><td>⋯                                            </td><td>50                                           </td><td>26                                           </td><td>BK73                                         </td><td>North Side-South Side                        </td><td>3055500                                      </td><td>New York                                     </td><td>40.71648                                     </td><td>-73.96426                                    </td><td> 994156.6                                    </td><td>200312.4                                     </td></tr>\n",
       "\t<tr><td>09/29/2015                                   </td><td>268823                                       </td><td>332818                                       </td><td>POINT (-73.73214905684478 40.689224042521786)</td><td> 7                                           </td><td>0                                            </td><td>OnCurb                                       </td><td>Alive                                        </td><td>Fair                                         </td><td>Prunus virginiana                            </td><td>⋯                                            </td><td>33                                           </td><td>14                                           </td><td>QN33                                         </td><td>Cambria Heights                              </td><td>4062200                                      </td><td>New York                                     </td><td>40.68922                                     </td><td>-73.73215                                    </td><td>1058531.8                                    </td><td>190492.9                                     </td></tr>\n",
       "\t<tr><td>07/29/2015                                   </td><td>101414                                       </td><td>218342                                       </td><td>POINT (-73.95789245098955 40.71759182521193) </td><td> 6                                           </td><td>0                                            </td><td>OnCurb                                       </td><td>Dead                                         </td><td>                                             </td><td>                                             </td><td>⋯                                            </td><td>50                                           </td><td>18                                           </td><td>BK73                                         </td><td>North Side-South Side                        </td><td>3055300                                      </td><td>New York                                     </td><td>40.71759                                     </td><td>-73.95789                                    </td><td> 995922.5                                    </td><td>200717.4                                     </td></tr>\n",
       "</tbody>\n",
       "</table>\n"
      ],
      "text/latex": [
       "\\begin{tabular}{r|llllllllllllllllllllllllllllllllllllllllll}\n",
       " created\\_at & tree\\_id & block\\_id & the\\_geom & tree\\_dbh & stump\\_diam & curb\\_loc & status & health & spc\\_latin & ⋯ & st\\_assem & st\\_senate & nta & nta\\_name & boro\\_ct & state & Latitude & longitude & x\\_sp & y\\_sp\\\\\n",
       "\\hline\n",
       "\t 10/29/2015                                    & 395911                                        & 401773                                        & POINT (-74.07416139756627 40.62079281921162)  &  5                                            & 0                                             & OnCurb                                        & Alive                                         & Good                                          & Cercis canadensis                             & ⋯                                             & 61                                            & 23                                            & SI08                                          & Grymes Hill-Clifton-Fox Hills                 & 5004000                                       & New York                                      & 40.62079                                      & -74.07416                                     &  963662.0                                     & 165456.7                                     \\\\\n",
       "\t 11/10/2015                                    & 443025                                        & 501796                                        & POINT (-73.89301179037105 40.824919471496926) & 12                                            & 0                                             & OnCurb                                        & Alive                                         & Good                                          & Gleditsia triacanthos var. inermis            & ⋯                                             & 85                                            & 32                                            & BX27                                          & Hunts Point                                   & 2012701                                       & New York                                      & 40.82492                                      & -73.89301                                     & 1013860.2                                     & 239835.7                                     \\\\\n",
       "\t 06/06/2016                                    & 575926                                        & 325008                                        & POINT (-73.75825058904266 40.675885076077165) &  2                                            & 0                                             & OnCurb                                        & Alive                                         & Good                                          & Maackia amurensis                             & ⋯                                             & 29                                            & 10                                            & QN66                                          & Laurelton                                     & 4032800                                       & New York                                      & 40.67589                                      & -73.75825                                     & 1051306.6                                     & 185612.1                                     \\\\\n",
       "\t 08/10/2015                                    & 134518                                        & 218253                                        & POINT (-73.964263498351 40.71648243980813)    &  4                                            & 0                                             & OnCurb                                        & Alive                                         & Good                                          & Zelkova serrata                               & ⋯                                             & 50                                            & 26                                            & BK73                                          & North Side-South Side                         & 3055500                                       & New York                                      & 40.71648                                      & -73.96426                                     &  994156.6                                     & 200312.4                                     \\\\\n",
       "\t 09/29/2015                                    & 268823                                        & 332818                                        & POINT (-73.73214905684478 40.689224042521786) &  7                                            & 0                                             & OnCurb                                        & Alive                                         & Fair                                          & Prunus virginiana                             & ⋯                                             & 33                                            & 14                                            & QN33                                          & Cambria Heights                               & 4062200                                       & New York                                      & 40.68922                                      & -73.73215                                     & 1058531.8                                     & 190492.9                                     \\\\\n",
       "\t 07/29/2015                                    & 101414                                        & 218342                                        & POINT (-73.95789245098955 40.71759182521193)  &  6                                            & 0                                             & OnCurb                                        & Dead                                          &                                               &                                               & ⋯                                             & 50                                            & 18                                            & BK73                                          & North Side-South Side                         & 3055300                                       & New York                                      & 40.71759                                      & -73.95789                                     &  995922.5                                     & 200717.4                                     \\\\\n",
       "\\end{tabular}\n"
      ],
      "text/markdown": [
       "\n",
       "created_at | tree_id | block_id | the_geom | tree_dbh | stump_diam | curb_loc | status | health | spc_latin | ⋯ | st_assem | st_senate | nta | nta_name | boro_ct | state | Latitude | longitude | x_sp | y_sp | \n",
       "|---|---|---|---|---|---|\n",
       "| 10/29/2015                                    | 395911                                        | 401773                                        | POINT (-74.07416139756627 40.62079281921162)  |  5                                            | 0                                             | OnCurb                                        | Alive                                         | Good                                          | Cercis canadensis                             | ⋯                                             | 61                                            | 23                                            | SI08                                          | Grymes Hill-Clifton-Fox Hills                 | 5004000                                       | New York                                      | 40.62079                                      | -74.07416                                     |  963662.0                                     | 165456.7                                      | \n",
       "| 11/10/2015                                    | 443025                                        | 501796                                        | POINT (-73.89301179037105 40.824919471496926) | 12                                            | 0                                             | OnCurb                                        | Alive                                         | Good                                          | Gleditsia triacanthos var. inermis            | ⋯                                             | 85                                            | 32                                            | BX27                                          | Hunts Point                                   | 2012701                                       | New York                                      | 40.82492                                      | -73.89301                                     | 1013860.2                                     | 239835.7                                      | \n",
       "| 06/06/2016                                    | 575926                                        | 325008                                        | POINT (-73.75825058904266 40.675885076077165) |  2                                            | 0                                             | OnCurb                                        | Alive                                         | Good                                          | Maackia amurensis                             | ⋯                                             | 29                                            | 10                                            | QN66                                          | Laurelton                                     | 4032800                                       | New York                                      | 40.67589                                      | -73.75825                                     | 1051306.6                                     | 185612.1                                      | \n",
       "| 08/10/2015                                    | 134518                                        | 218253                                        | POINT (-73.964263498351 40.71648243980813)    |  4                                            | 0                                             | OnCurb                                        | Alive                                         | Good                                          | Zelkova serrata                               | ⋯                                             | 50                                            | 26                                            | BK73                                          | North Side-South Side                         | 3055500                                       | New York                                      | 40.71648                                      | -73.96426                                     |  994156.6                                     | 200312.4                                      | \n",
       "| 09/29/2015                                    | 268823                                        | 332818                                        | POINT (-73.73214905684478 40.689224042521786) |  7                                            | 0                                             | OnCurb                                        | Alive                                         | Fair                                          | Prunus virginiana                             | ⋯                                             | 33                                            | 14                                            | QN33                                          | Cambria Heights                               | 4062200                                       | New York                                      | 40.68922                                      | -73.73215                                     | 1058531.8                                     | 190492.9                                      | \n",
       "| 07/29/2015                                    | 101414                                        | 218342                                        | POINT (-73.95789245098955 40.71759182521193)  |  6                                            | 0                                             | OnCurb                                        | Dead                                          |                                               |                                               | ⋯                                             | 50                                            | 18                                            | BK73                                          | North Side-South Side                         | 3055300                                       | New York                                      | 40.71759                                      | -73.95789                                     |  995922.5                                     | 200717.4                                      | \n",
       "\n",
       "\n"
      ],
      "text/plain": [
       "  created_at tree_id block_id the_geom                                     \n",
       "1 10/29/2015 395911  401773   POINT (-74.07416139756627 40.62079281921162) \n",
       "2 11/10/2015 443025  501796   POINT (-73.89301179037105 40.824919471496926)\n",
       "3 06/06/2016 575926  325008   POINT (-73.75825058904266 40.675885076077165)\n",
       "4 08/10/2015 134518  218253   POINT (-73.964263498351 40.71648243980813)   \n",
       "5 09/29/2015 268823  332818   POINT (-73.73214905684478 40.689224042521786)\n",
       "6 07/29/2015 101414  218342   POINT (-73.95789245098955 40.71759182521193) \n",
       "  tree_dbh stump_diam curb_loc status health spc_latin                         \n",
       "1  5       0          OnCurb   Alive  Good   Cercis canadensis                 \n",
       "2 12       0          OnCurb   Alive  Good   Gleditsia triacanthos var. inermis\n",
       "3  2       0          OnCurb   Alive  Good   Maackia amurensis                 \n",
       "4  4       0          OnCurb   Alive  Good   Zelkova serrata                   \n",
       "5  7       0          OnCurb   Alive  Fair   Prunus virginiana                 \n",
       "6  6       0          OnCurb   Dead                                            \n",
       "  ⋯ st_assem st_senate nta  nta_name                      boro_ct state   \n",
       "1 ⋯ 61       23        SI08 Grymes Hill-Clifton-Fox Hills 5004000 New York\n",
       "2 ⋯ 85       32        BX27 Hunts Point                   2012701 New York\n",
       "3 ⋯ 29       10        QN66 Laurelton                     4032800 New York\n",
       "4 ⋯ 50       26        BK73 North Side-South Side         3055500 New York\n",
       "5 ⋯ 33       14        QN33 Cambria Heights               4062200 New York\n",
       "6 ⋯ 50       18        BK73 North Side-South Side         3055300 New York\n",
       "  Latitude longitude x_sp      y_sp    \n",
       "1 40.62079 -74.07416  963662.0 165456.7\n",
       "2 40.82492 -73.89301 1013860.2 239835.7\n",
       "3 40.67589 -73.75825 1051306.6 185612.1\n",
       "4 40.71648 -73.96426  994156.6 200312.4\n",
       "5 40.68922 -73.73215 1058531.8 190492.9\n",
       "6 40.71759 -73.95789  995922.5 200717.4"
      ]
     },
     "metadata": {},
     "output_type": "display_data"
    }
   ],
   "source": [
    "head(nyc_trees)"
   ]
  },
  {
   "cell_type": "markdown",
   "metadata": {
    "slideshow": {
     "slide_type": "subslide"
    }
   },
   "source": [
    "### Using the `ggplot()` function to create data visualizations\n",
    "\n",
    "The `ggplot2` package comes with various functions that let us make different types of visualizations.  In general, this is how the code for creating plots using `ggplot2` look like\n",
    "\n",
    "```\n",
    "ggplot( data = DATAFRAMENAME, aes( x = VARIABLENAME, ... ) ) + geom_TYPEOFPLOT()  \n",
    "```\n",
    "(depending on the type of plots, we might replace the `...` above with further information.)\n",
    "\n",
    "Tooday, we will look at two types of plots: bar plots and histograms."
   ]
  },
  {
   "cell_type": "markdown",
   "metadata": {
    "slideshow": {
     "slide_type": "subslide"
    }
   },
   "source": [
    "### 2.1. Bar Plots\n",
    "\n",
    "We use bar plots when we work with a **categorical variable**, such as the `boroname` column in the `nyc_trees` dataset.  More specifically, we create bar plots to figure out how many observations belong to each group.\n"
   ]
  },
  {
   "cell_type": "markdown",
   "metadata": {
    "slideshow": {
     "slide_type": "fragment"
    }
   },
   "source": [
    "\n",
    "In our example, the `nyc_trees` dataset contains data of 10000 trees.  We might be interested in: whether the trees were evenly distributed across the five borough; which borough has the most/least number of trees; etc.\n",
    "\n"
   ]
  },
  {
   "cell_type": "markdown",
   "metadata": {
    "slideshow": {
     "slide_type": "fragment"
    }
   },
   "source": [
    "**To create a bar plot** using `ggplot2`, we use thefollowing command:\n",
    "```\n",
    "ggplot( data = DATAFRAMENAME, aes( x = VARIABLENAME ) ) + geom_bar() \n",
    "```\n",
    "where `VARIABLENAME` should correspond to a categorical variable."
   ]
  },
  {
   "cell_type": "markdown",
   "metadata": {
    "slideshow": {
     "slide_type": "subslide"
    }
   },
   "source": [
    "**Example**\n",
    "\n",
    "We will create a bar plot to find out the distribution of trees across the five boroughs."
   ]
  },
  {
   "cell_type": "code",
   "execution_count": 5,
   "metadata": {},
   "outputs": [
    {
     "data": {},
     "metadata": {},
     "output_type": "display_data"
    },
    {
     "data": {
      "image/png": "[encoded data removed]",
      "text/plain": [
       "plot without title"
      ]
     },
     "metadata": {},
     "output_type": "display_data"
    }
   ],
   "source": [
    "ggplot( nyc_trees , aes( x = boroname )) + geom_bar()"
   ]
  },
  {
   "cell_type": "markdown",
   "metadata": {
    "slideshow": {
     "slide_type": "subslide"
    }
   },
   "source": [
    "**Exercise**\n",
    "\n",
    "Choose another categorical variable in the `nyc_trees` dataset and create a bar plot for this variable."
   ]
  },
  {
   "cell_type": "code",
   "execution_count": 6,
   "metadata": {
    "slideshow": {
     "slide_type": "fragment"
    }
   },
   "outputs": [
    {
     "data": {},
     "metadata": {},
     "output_type": "display_data"
    },
    {
     "data": {
      "image/png": "[encoded data removed]",
      "text/plain": [
       "plot without title"
      ]
     },
     "metadata": {},
     "output_type": "display_data"
    }
   ],
   "source": [
    "# create a bar plot for your chosen categorical variable\n",
    "\n",
    "ggplot( nyc_trees, aes( x = state ) ) + geom_bar()\n"
   ]
  },
  {
   "cell_type": "code",
   "execution_count": 7,
   "metadata": {},
   "outputs": [
    {
     "data": {},
     "metadata": {},
     "output_type": "display_data"
    },
    {
     "data": {
      "image/png": "[encoded data removed]",
      "text/plain": [
       "plot without title"
      ]
     },
     "metadata": {},
     "output_type": "display_data"
    }
   ],
   "source": [
    "ggplot( nyc_trees, aes( x = health )  ) + geom_bar()"
   ]
  },
  {
   "cell_type": "markdown",
   "metadata": {
    "slideshow": {
     "slide_type": "slide"
    }
   },
   "source": [
    "### 2.2. Histograms\n",
    "\n",
    "We use histograms when we work with **numerical variables**, such as the `tree_dbh` column.  More specifically, we create histograms to get a sense of how the different tree diameter values are distributed: Are there equally-many thin, medium, and thick trees? Are there more thinner trees?\n",
    "\n"
   ]
  },
  {
   "cell_type": "markdown",
   "metadata": {
    "slideshow": {
     "slide_type": "fragment"
    }
   },
   "source": [
    "Histograms are similar to to bar plots in that they give us a sense of how \"frequently\" a value appear in the column."
   ]
  },
  {
   "cell_type": "markdown",
   "metadata": {
    "slideshow": {
     "slide_type": "fragment"
    }
   },
   "source": [
    "However, When our columns contain numbers, we don't necessarily want one bar for each of those numbers.  Instead, we might want to group some numbers together.  For example, maybe we want to count the number of trees whose diameters are between 0 and 5 inches, between 5 and 10 inches, etc. and plot them."
   ]
  },
  {
   "cell_type": "markdown",
   "metadata": {
    "slideshow": {
     "slide_type": "subslide"
    }
   },
   "source": [
    "To create a histogram using `ggplot2`, we use thefollowing command:\n",
    "```\n",
    "ggplot( DATAFRAMENAME, aes( x = VARIABLENAME ) ) + geom_histogram() \n",
    "```\n",
    "where `VARIABLENAME` should correspond to a numerical variable."
   ]
  },
  {
   "cell_type": "markdown",
   "metadata": {
    "slideshow": {
     "slide_type": "subslide"
    }
   },
   "source": [
    "**Example**\n",
    "\n",
    "We will create a histogram to find out the distribution of tree diameters (in the column `tree_dbh`)"
   ]
  },
  {
   "cell_type": "code",
   "execution_count": 18,
   "metadata": {
    "slideshow": {
     "slide_type": "fragment"
    }
   },
   "outputs": [
    {
     "name": "stderr",
     "output_type": "stream",
     "text": [
      "`stat_bin()` using `bins = 30`. Pick better value with `binwidth`.\n"
     ]
    },
    {
     "data": {},
     "metadata": {},
     "output_type": "display_data"
    },
    {
     "data": {
      "image/png": "[encoded data removed]",
      "text/plain": [
       "plot without title"
      ]
     },
     "metadata": {},
     "output_type": "display_data"
    }
   ],
   "source": [
    "ggplot( nyc_trees,  aes( x = tree_dbh )  ) + geom_histogram( )"
   ]
  },
  {
   "cell_type": "markdown",
   "metadata": {
    "slideshow": {
     "slide_type": "subslide"
    }
   },
   "source": [
    "The plot above shows us that even though the data claims that there is a tree whose diameter is 450 inches, the vast majority of trees are under roughly 50 inches in diameter.\n",
    "\n",
    "You might also notice a warning when the plot was produced: \n",
    "\n",
    "\" `stat_bin()` using `bins = 30`. Pick better value with `binwidth`.\"\n",
    "\n",
    "R automatically creates a histogram with 30 bars -- that is, it groups our tree diameters into 30 groups.  "
   ]
  },
  {
   "cell_type": "markdown",
   "metadata": {
    "slideshow": {
     "slide_type": "subslide"
    }
   },
   "source": [
    "If we want to change the number of \"bins\", we can add an extra input in our `ggplot2` command:\n",
    "\n",
    "```\n",
    "ggplot( DATAFRAMENAME, aes( x = VARIABLENAME ) ) + geom_histogram( bins = NUMBEROFBINS ) \n",
    "```\n",
    "\n",
    "For example:"
   ]
  },
  {
   "cell_type": "code",
   "execution_count": 19,
   "metadata": {
    "slideshow": {
     "slide_type": "fragment"
    }
   },
   "outputs": [
    {
     "data": {},
     "metadata": {},
     "output_type": "display_data"
    },
    {
     "data": {
      "image/png": "[encoded data removed]",
      "text/plain": [
       "plot without title"
      ]
     },
     "metadata": {},
     "output_type": "display_data"
    }
   ],
   "source": [
    "ggplot( nyc_trees,  aes( x = tree_dbh )  ) + geom_histogram( bins = 37  )"
   ]
  },
  {
   "cell_type": "markdown",
   "metadata": {
    "slideshow": {
     "slide_type": "subslide"
    }
   },
   "source": [
    "**Exercise**\n",
    "\n",
    "Choose another numerical variable in the `nyc_tree` dataset and create a histogram for this variable.  Try changing the number of bins used."
   ]
  },
  {
   "cell_type": "code",
   "execution_count": 13,
   "metadata": {
    "slideshow": {
     "slide_type": "fragment"
    }
   },
   "outputs": [
    {
     "data": {},
     "metadata": {},
     "output_type": "display_data"
    },
    {
     "data": {
      "image/png": "[encoded data removed]",
      "text/plain": [
       "plot without title"
      ]
     },
     "metadata": {},
     "output_type": "display_data"
    }
   ],
   "source": [
    "# Choose another numerical variable in the `nyc_tree_data` dataset and create a histogram for this variable.  \n",
    "# Try changing the number of bins used.\n",
    "\n",
    "\n",
    "ggplot( nyc_trees, aes( x = zipcode) ) + geom_histogram(bins = 100)\n",
    "\n"
   ]
  },
  {
   "cell_type": "markdown",
   "metadata": {
    "slideshow": {
     "slide_type": "slide"
    }
   },
   "source": [
    "### 2.3. Scatterplots\n",
    "\n",
    "We use scatterplots when we want to visualize the relationship between two numerical variables."
   ]
  },
  {
   "cell_type": "markdown",
   "metadata": {
    "slideshow": {
     "slide_type": "subslide"
    }
   },
   "source": [
    "To create a scatter using `ggplot2`, we use thefollowing command:\n",
    "```\n",
    "ggplot( DATAFRAMENAME, aes( x = VARIABLENAME1, y = VARIABLENAME2 ) ) + geom_point() \n",
    "```\n",
    "where `VARIABLENAME1` and `VARIABLENAME2` should correspond to numerical variables."
   ]
  },
  {
   "cell_type": "markdown",
   "metadata": {
    "slideshow": {
     "slide_type": "subslide"
    }
   },
   "source": [
    "**Example**\n",
    "\n",
    "We will create a scatterplot, plotting the x and y coordinates of the trees in this dataset"
   ]
  },
  {
   "cell_type": "code",
   "execution_count": 14,
   "metadata": {},
   "outputs": [
    {
     "data": {
      "text/html": [
       "<ol class=list-inline>\n",
       "\t<li>'created_at'</li>\n",
       "\t<li>'tree_id'</li>\n",
       "\t<li>'block_id'</li>\n",
       "\t<li>'the_geom'</li>\n",
       "\t<li>'tree_dbh'</li>\n",
       "\t<li>'stump_diam'</li>\n",
       "\t<li>'curb_loc'</li>\n",
       "\t<li>'status'</li>\n",
       "\t<li>'health'</li>\n",
       "\t<li>'spc_latin'</li>\n",
       "\t<li>'spc_common'</li>\n",
       "\t<li>'steward'</li>\n",
       "\t<li>'guards'</li>\n",
       "\t<li>'sidewalk'</li>\n",
       "\t<li>'user_type'</li>\n",
       "\t<li>'problems'</li>\n",
       "\t<li>'root_stone'</li>\n",
       "\t<li>'root_grate'</li>\n",
       "\t<li>'root_other'</li>\n",
       "\t<li>'trnk_wire'</li>\n",
       "\t<li>'trnk_light'</li>\n",
       "\t<li>'trnk_other'</li>\n",
       "\t<li>'brnch_ligh'</li>\n",
       "\t<li>'brnch_shoe'</li>\n",
       "\t<li>'brnch_othe'</li>\n",
       "\t<li>'address'</li>\n",
       "\t<li>'zipcode'</li>\n",
       "\t<li>'zip_city'</li>\n",
       "\t<li>'cb_num'</li>\n",
       "\t<li>'borocode'</li>\n",
       "\t<li>'boroname'</li>\n",
       "\t<li>'cncldist'</li>\n",
       "\t<li>'st_assem'</li>\n",
       "\t<li>'st_senate'</li>\n",
       "\t<li>'nta'</li>\n",
       "\t<li>'nta_name'</li>\n",
       "\t<li>'boro_ct'</li>\n",
       "\t<li>'state'</li>\n",
       "\t<li>'Latitude'</li>\n",
       "\t<li>'longitude'</li>\n",
       "\t<li>'x_sp'</li>\n",
       "\t<li>'y_sp'</li>\n",
       "</ol>\n"
      ],
      "text/latex": [
       "\\begin{enumerate*}\n",
       "\\item 'created\\_at'\n",
       "\\item 'tree\\_id'\n",
       "\\item 'block\\_id'\n",
       "\\item 'the\\_geom'\n",
       "\\item 'tree\\_dbh'\n",
       "\\item 'stump\\_diam'\n",
       "\\item 'curb\\_loc'\n",
       "\\item 'status'\n",
       "\\item 'health'\n",
       "\\item 'spc\\_latin'\n",
       "\\item 'spc\\_common'\n",
       "\\item 'steward'\n",
       "\\item 'guards'\n",
       "\\item 'sidewalk'\n",
       "\\item 'user\\_type'\n",
       "\\item 'problems'\n",
       "\\item 'root\\_stone'\n",
       "\\item 'root\\_grate'\n",
       "\\item 'root\\_other'\n",
       "\\item 'trnk\\_wire'\n",
       "\\item 'trnk\\_light'\n",
       "\\item 'trnk\\_other'\n",
       "\\item 'brnch\\_ligh'\n",
       "\\item 'brnch\\_shoe'\n",
       "\\item 'brnch\\_othe'\n",
       "\\item 'address'\n",
       "\\item 'zipcode'\n",
       "\\item 'zip\\_city'\n",
       "\\item 'cb\\_num'\n",
       "\\item 'borocode'\n",
       "\\item 'boroname'\n",
       "\\item 'cncldist'\n",
       "\\item 'st\\_assem'\n",
       "\\item 'st\\_senate'\n",
       "\\item 'nta'\n",
       "\\item 'nta\\_name'\n",
       "\\item 'boro\\_ct'\n",
       "\\item 'state'\n",
       "\\item 'Latitude'\n",
       "\\item 'longitude'\n",
       "\\item 'x\\_sp'\n",
       "\\item 'y\\_sp'\n",
       "\\end{enumerate*}\n"
      ],
      "text/markdown": [
       "1. 'created_at'\n",
       "2. 'tree_id'\n",
       "3. 'block_id'\n",
       "4. 'the_geom'\n",
       "5. 'tree_dbh'\n",
       "6. 'stump_diam'\n",
       "7. 'curb_loc'\n",
       "8. 'status'\n",
       "9. 'health'\n",
       "10. 'spc_latin'\n",
       "11. 'spc_common'\n",
       "12. 'steward'\n",
       "13. 'guards'\n",
       "14. 'sidewalk'\n",
       "15. 'user_type'\n",
       "16. 'problems'\n",
       "17. 'root_stone'\n",
       "18. 'root_grate'\n",
       "19. 'root_other'\n",
       "20. 'trnk_wire'\n",
       "21. 'trnk_light'\n",
       "22. 'trnk_other'\n",
       "23. 'brnch_ligh'\n",
       "24. 'brnch_shoe'\n",
       "25. 'brnch_othe'\n",
       "26. 'address'\n",
       "27. 'zipcode'\n",
       "28. 'zip_city'\n",
       "29. 'cb_num'\n",
       "30. 'borocode'\n",
       "31. 'boroname'\n",
       "32. 'cncldist'\n",
       "33. 'st_assem'\n",
       "34. 'st_senate'\n",
       "35. 'nta'\n",
       "36. 'nta_name'\n",
       "37. 'boro_ct'\n",
       "38. 'state'\n",
       "39. 'Latitude'\n",
       "40. 'longitude'\n",
       "41. 'x_sp'\n",
       "42. 'y_sp'\n",
       "\n",
       "\n"
      ],
      "text/plain": [
       " [1] \"created_at\" \"tree_id\"    \"block_id\"   \"the_geom\"   \"tree_dbh\"  \n",
       " [6] \"stump_diam\" \"curb_loc\"   \"status\"     \"health\"     \"spc_latin\" \n",
       "[11] \"spc_common\" \"steward\"    \"guards\"     \"sidewalk\"   \"user_type\" \n",
       "[16] \"problems\"   \"root_stone\" \"root_grate\" \"root_other\" \"trnk_wire\" \n",
       "[21] \"trnk_light\" \"trnk_other\" \"brnch_ligh\" \"brnch_shoe\" \"brnch_othe\"\n",
       "[26] \"address\"    \"zipcode\"    \"zip_city\"   \"cb_num\"     \"borocode\"  \n",
       "[31] \"boroname\"   \"cncldist\"   \"st_assem\"   \"st_senate\"  \"nta\"       \n",
       "[36] \"nta_name\"   \"boro_ct\"    \"state\"      \"Latitude\"   \"longitude\" \n",
       "[41] \"x_sp\"       \"y_sp\"      "
      ]
     },
     "metadata": {},
     "output_type": "display_data"
    }
   ],
   "source": [
    "names(nyc_trees)"
   ]
  },
  {
   "cell_type": "code",
   "execution_count": 17,
   "metadata": {
    "slideshow": {
     "slide_type": "fragment"
    }
   },
   "outputs": [
    {
     "data": {},
     "metadata": {},
     "output_type": "display_data"
    },
    {
     "data": {
      "image/png": "[encoded data removed]",
      "text/plain": [
       "plot without title"
      ]
     },
     "metadata": {},
     "output_type": "display_data"
    }
   ],
   "source": [
    "# ignore the commands below; these just make sure plots fit on the screen\n",
    "library('repr')\n",
    "options(repr.plot.width=5, repr.plot.height=5)\n",
    "\n",
    "ggplot( nyc_trees, aes( x =  longitude, y = Latitude )) + geom_point()"
   ]
  },
  {
   "cell_type": "markdown",
   "metadata": {
    "slideshow": {
     "slide_type": "subslide"
    }
   },
   "source": [
    "**Exercises**\n",
    "\n",
    "Let's try making visualizations from the other datasets we've seen previously.\n",
    "+ Create one bar plot\n",
    "+ Create one histogram\n",
    "+ Create one scatterplot."
   ]
  },
  {
   "cell_type": "code",
   "execution_count": null,
   "metadata": {
    "slideshow": {
     "slide_type": "subslide"
    }
   },
   "outputs": [],
   "source": [
    "my_pets"
   ]
  },
  {
   "cell_type": "code",
   "execution_count": null,
   "metadata": {
    "slideshow": {
     "slide_type": "subslide"
    }
   },
   "outputs": [],
   "source": [
    "\n",
    "\n"
   ]
  },
  {
   "cell_type": "code",
   "execution_count": null,
   "metadata": {
    "slideshow": {
     "slide_type": "subslide"
    }
   },
   "outputs": [],
   "source": []
  }
 ],
 "metadata": {
  "celltoolbar": "Slideshow",
  "kernelspec": {
   "display_name": "R [conda env:r_env]",
   "language": "R",
   "name": "conda-env-r_env-r"
  },
  "language_info": {
   "codemirror_mode": "r",
   "file_extension": ".r",
   "mimetype": "text/x-r-source",
   "name": "R",
   "pygments_lexer": "r",
   "version": "3.5.1"
  }
 },
 "nbformat": 4,
 "nbformat_minor": 2
}
