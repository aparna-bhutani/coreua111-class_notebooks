{
 "cells": [
  {
   "cell_type": "markdown",
   "metadata": {
    "slideshow": {
     "slide_type": "slide"
    }
   },
   "source": [
    "# Lesson 4: Data Frames\n",
    "\n",
    "Today: Working with data frames\n",
    "+ The 'dplyr' package\n",
    "+ Adding new columns (a second way)\n",
    "+ Sorting rows\n",
    "+ Filtering rows\n",
    "+ Grouping data"
   ]
  },
  {
   "cell_type": "markdown",
   "metadata": {
    "collapsed": true,
    "slideshow": {
     "slide_type": "subslide"
    }
   },
   "source": [
    "## Working with columns and rows of data frames\n",
    "\n",
    "Yesterday, you were introduced to the R package `datasets`, which contains some built-in data that we can explore right away without having to import from an outside source.  Today, we will work with another important R package, called `dplyr`.  Unlike `datasets` which contains data, the package `dplyr` contains tools that allow us to explore data.\n",
    "\n",
    "To use `dplyr` for the first time on a jupyter notebook, you have to load it using the `library()` function.  (It's not automatically loaded like the `datasets` package.)"
   ]
  },
  {
   "cell_type": "code",
   "execution_count": 4,
   "metadata": {
    "slideshow": {
     "slide_type": "fragment"
    }
   },
   "outputs": [],
   "source": [
    "library('dplyr')"
   ]
  },
  {
   "cell_type": "markdown",
   "metadata": {
    "slideshow": {
     "slide_type": "subslide"
    }
   },
   "source": [
    "There are several important functions that come with the `dplyr` package:\n",
    "+ `mutate()`\n",
    "+ `arrange()`\n",
    "+ `filter()`\n",
    "+ `group_by()`\n",
    "+ `summarize()`"
   ]
  },
  {
   "cell_type": "markdown",
   "metadata": {
    "slideshow": {
     "slide_type": "subslide"
    }
   },
   "source": [
    "### 1. The `mutate()` function\n",
    "\n",
    "Last class, we saw one way to add a column to a data frame.\n",
    "\n",
    "**Example**\n",
    "\n",
    "(we will use the UC Berkeley 1973 Graduate Admission dataset again)"
   ]
  },
  {
   "cell_type": "code",
   "execution_count": 6,
   "metadata": {
    "slideshow": {
     "slide_type": "fragment"
    }
   },
   "outputs": [],
   "source": [
    "berkeleydata <- read.csv('../../shared/datasets/berkeley73.csv')"
   ]
  },
  {
   "cell_type": "markdown",
   "metadata": {
    "slideshow": {
     "slide_type": "subslide"
    }
   },
   "source": [
    "The `mutate()` function gives us a second way to do the same thing!\n",
    "\n",
    "`mutate( DATAFRAMENAME, NEWCOLUMNNAME = FORMULA FOR THE NEW COLUMN IN TERMS OF EXISTING COLUMNS )`\n",
    "+ inputs: a data frame and the name of the new column, with a formula for the entries in the new column in terms of existing column\n",
    "+ output: a new data frame, obtained by adding the new column to the input data frame"
   ]
  },
  {
   "cell_type": "code",
   "execution_count": 7,
   "metadata": {},
   "outputs": [
    {
     "data": {
      "text/html": [
       "<table>\n",
       "<thead><tr><th scope=col>Department</th><th scope=col>Men_Applicants</th><th scope=col>Men_Admitted</th><th scope=col>Women_Applicants</th><th scope=col>Women_Admitted</th><th scope=col>Men_AdmissionRate</th></tr></thead>\n",
       "<tbody>\n",
       "\t<tr><td>A         </td><td>825       </td><td>512       </td><td>108       </td><td> 89       </td><td>0.62060606</td></tr>\n",
       "\t<tr><td>B         </td><td>560       </td><td>353       </td><td> 25       </td><td> 17       </td><td>0.63035714</td></tr>\n",
       "\t<tr><td>C         </td><td>325       </td><td>120       </td><td>593       </td><td>202       </td><td>0.36923077</td></tr>\n",
       "\t<tr><td>D         </td><td>417       </td><td>138       </td><td>375       </td><td>131       </td><td>0.33093525</td></tr>\n",
       "\t<tr><td>E         </td><td>191       </td><td> 53       </td><td>393       </td><td> 94       </td><td>0.27748691</td></tr>\n",
       "\t<tr><td>F         </td><td>373       </td><td> 22       </td><td>341       </td><td> 24       </td><td>0.05898123</td></tr>\n",
       "</tbody>\n",
       "</table>\n"
      ],
      "text/latex": [
       "\\begin{tabular}{r|llllll}\n",
       " Department & Men\\_Applicants & Men\\_Admitted & Women\\_Applicants & Women\\_Admitted & Men\\_AdmissionRate\\\\\n",
       "\\hline\n",
       "\t A          & 825        & 512        & 108        &  89        & 0.62060606\\\\\n",
       "\t B          & 560        & 353        &  25        &  17        & 0.63035714\\\\\n",
       "\t C          & 325        & 120        & 593        & 202        & 0.36923077\\\\\n",
       "\t D          & 417        & 138        & 375        & 131        & 0.33093525\\\\\n",
       "\t E          & 191        &  53        & 393        &  94        & 0.27748691\\\\\n",
       "\t F          & 373        &  22        & 341        &  24        & 0.05898123\\\\\n",
       "\\end{tabular}\n"
      ],
      "text/markdown": [
       "\n",
       "Department | Men_Applicants | Men_Admitted | Women_Applicants | Women_Admitted | Men_AdmissionRate | \n",
       "|---|---|---|---|---|---|\n",
       "| A          | 825        | 512        | 108        |  89        | 0.62060606 | \n",
       "| B          | 560        | 353        |  25        |  17        | 0.63035714 | \n",
       "| C          | 325        | 120        | 593        | 202        | 0.36923077 | \n",
       "| D          | 417        | 138        | 375        | 131        | 0.33093525 | \n",
       "| E          | 191        |  53        | 393        |  94        | 0.27748691 | \n",
       "| F          | 373        |  22        | 341        |  24        | 0.05898123 | \n",
       "\n",
       "\n"
      ],
      "text/plain": [
       "  Department Men_Applicants Men_Admitted Women_Applicants Women_Admitted\n",
       "1 A          825            512          108               89           \n",
       "2 B          560            353           25               17           \n",
       "3 C          325            120          593              202           \n",
       "4 D          417            138          375              131           \n",
       "5 E          191             53          393               94           \n",
       "6 F          373             22          341               24           \n",
       "  Men_AdmissionRate\n",
       "1 0.62060606       \n",
       "2 0.63035714       \n",
       "3 0.36923077       \n",
       "4 0.33093525       \n",
       "5 0.27748691       \n",
       "6 0.05898123       "
      ]
     },
     "metadata": {},
     "output_type": "display_data"
    }
   ],
   "source": [
    "berkeleydata$Men_AdmissionRate <- berkeleydata$Men_Admitted / berkeleydata$Men_Applicants\n",
    "berkeleydata"
   ]
  },
  {
   "cell_type": "code",
   "execution_count": 11,
   "metadata": {},
   "outputs": [],
   "source": [
    "berkeleydata <- mutate(  berkeleydata , Women_AdmissionRate = Women_Admitted / Women_Applicants    )"
   ]
  },
  {
   "cell_type": "code",
   "execution_count": 12,
   "metadata": {},
   "outputs": [
    {
     "data": {
      "text/html": [
       "<table>\n",
       "<thead><tr><th scope=col>Department</th><th scope=col>Men_Applicants</th><th scope=col>Men_Admitted</th><th scope=col>Women_Applicants</th><th scope=col>Women_Admitted</th><th scope=col>Men_AdmissionRate</th><th scope=col>Women_AdmissionRate</th></tr></thead>\n",
       "<tbody>\n",
       "\t<tr><td>A         </td><td>825       </td><td>512       </td><td>108       </td><td> 89       </td><td>0.62060606</td><td>0.82407407</td></tr>\n",
       "\t<tr><td>B         </td><td>560       </td><td>353       </td><td> 25       </td><td> 17       </td><td>0.63035714</td><td>0.68000000</td></tr>\n",
       "\t<tr><td>C         </td><td>325       </td><td>120       </td><td>593       </td><td>202       </td><td>0.36923077</td><td>0.34064081</td></tr>\n",
       "\t<tr><td>D         </td><td>417       </td><td>138       </td><td>375       </td><td>131       </td><td>0.33093525</td><td>0.34933333</td></tr>\n",
       "\t<tr><td>E         </td><td>191       </td><td> 53       </td><td>393       </td><td> 94       </td><td>0.27748691</td><td>0.23918575</td></tr>\n",
       "\t<tr><td>F         </td><td>373       </td><td> 22       </td><td>341       </td><td> 24       </td><td>0.05898123</td><td>0.07038123</td></tr>\n",
       "</tbody>\n",
       "</table>\n"
      ],
      "text/latex": [
       "\\begin{tabular}{r|lllllll}\n",
       " Department & Men\\_Applicants & Men\\_Admitted & Women\\_Applicants & Women\\_Admitted & Men\\_AdmissionRate & Women\\_AdmissionRate\\\\\n",
       "\\hline\n",
       "\t A          & 825        & 512        & 108        &  89        & 0.62060606 & 0.82407407\\\\\n",
       "\t B          & 560        & 353        &  25        &  17        & 0.63035714 & 0.68000000\\\\\n",
       "\t C          & 325        & 120        & 593        & 202        & 0.36923077 & 0.34064081\\\\\n",
       "\t D          & 417        & 138        & 375        & 131        & 0.33093525 & 0.34933333\\\\\n",
       "\t E          & 191        &  53        & 393        &  94        & 0.27748691 & 0.23918575\\\\\n",
       "\t F          & 373        &  22        & 341        &  24        & 0.05898123 & 0.07038123\\\\\n",
       "\\end{tabular}\n"
      ],
      "text/markdown": [
       "\n",
       "Department | Men_Applicants | Men_Admitted | Women_Applicants | Women_Admitted | Men_AdmissionRate | Women_AdmissionRate | \n",
       "|---|---|---|---|---|---|\n",
       "| A          | 825        | 512        | 108        |  89        | 0.62060606 | 0.82407407 | \n",
       "| B          | 560        | 353        |  25        |  17        | 0.63035714 | 0.68000000 | \n",
       "| C          | 325        | 120        | 593        | 202        | 0.36923077 | 0.34064081 | \n",
       "| D          | 417        | 138        | 375        | 131        | 0.33093525 | 0.34933333 | \n",
       "| E          | 191        |  53        | 393        |  94        | 0.27748691 | 0.23918575 | \n",
       "| F          | 373        |  22        | 341        |  24        | 0.05898123 | 0.07038123 | \n",
       "\n",
       "\n"
      ],
      "text/plain": [
       "  Department Men_Applicants Men_Admitted Women_Applicants Women_Admitted\n",
       "1 A          825            512          108               89           \n",
       "2 B          560            353           25               17           \n",
       "3 C          325            120          593              202           \n",
       "4 D          417            138          375              131           \n",
       "5 E          191             53          393               94           \n",
       "6 F          373             22          341               24           \n",
       "  Men_AdmissionRate Women_AdmissionRate\n",
       "1 0.62060606        0.82407407         \n",
       "2 0.63035714        0.68000000         \n",
       "3 0.36923077        0.34064081         \n",
       "4 0.33093525        0.34933333         \n",
       "5 0.27748691        0.23918575         \n",
       "6 0.05898123        0.07038123         "
      ]
     },
     "metadata": {},
     "output_type": "display_data"
    }
   ],
   "source": [
    "berkeleydata"
   ]
  },
  {
   "cell_type": "markdown",
   "metadata": {
    "slideshow": {
     "slide_type": "subslide"
    }
   },
   "source": [
    "### 2. The `arrange()` function\n",
    "\n",
    "`arrange( DATAFRAMENAME, COLUMNNAME)` is used to **sort** the rows of a data frame based on the values in a particular column (ascending order).\n",
    "+ inputs: a data frame and a column name in that data frame\n",
    "+ output: a data frame that is sorted based on the values in the specified column"
   ]
  },
  {
   "cell_type": "code",
   "execution_count": 9,
   "metadata": {
    "slideshow": {
     "slide_type": "fragment"
    }
   },
   "outputs": [
    {
     "data": {
      "text/html": [
       "<table>\n",
       "<thead><tr><th scope=col>Department</th><th scope=col>Men_Applicants</th><th scope=col>Men_Admitted</th><th scope=col>Women_Applicants</th><th scope=col>Women_Admitted</th><th scope=col>Men_AdmissionRate</th></tr></thead>\n",
       "<tbody>\n",
       "\t<tr><td>B         </td><td>560       </td><td>353       </td><td> 25       </td><td> 17       </td><td>0.63035714</td></tr>\n",
       "\t<tr><td>A         </td><td>825       </td><td>512       </td><td>108       </td><td> 89       </td><td>0.62060606</td></tr>\n",
       "\t<tr><td>F         </td><td>373       </td><td> 22       </td><td>341       </td><td> 24       </td><td>0.05898123</td></tr>\n",
       "\t<tr><td>D         </td><td>417       </td><td>138       </td><td>375       </td><td>131       </td><td>0.33093525</td></tr>\n",
       "\t<tr><td>E         </td><td>191       </td><td> 53       </td><td>393       </td><td> 94       </td><td>0.27748691</td></tr>\n",
       "\t<tr><td>C         </td><td>325       </td><td>120       </td><td>593       </td><td>202       </td><td>0.36923077</td></tr>\n",
       "</tbody>\n",
       "</table>\n"
      ],
      "text/latex": [
       "\\begin{tabular}{r|llllll}\n",
       " Department & Men\\_Applicants & Men\\_Admitted & Women\\_Applicants & Women\\_Admitted & Men\\_AdmissionRate\\\\\n",
       "\\hline\n",
       "\t B          & 560        & 353        &  25        &  17        & 0.63035714\\\\\n",
       "\t A          & 825        & 512        & 108        &  89        & 0.62060606\\\\\n",
       "\t F          & 373        &  22        & 341        &  24        & 0.05898123\\\\\n",
       "\t D          & 417        & 138        & 375        & 131        & 0.33093525\\\\\n",
       "\t E          & 191        &  53        & 393        &  94        & 0.27748691\\\\\n",
       "\t C          & 325        & 120        & 593        & 202        & 0.36923077\\\\\n",
       "\\end{tabular}\n"
      ],
      "text/markdown": [
       "\n",
       "Department | Men_Applicants | Men_Admitted | Women_Applicants | Women_Admitted | Men_AdmissionRate | \n",
       "|---|---|---|---|---|---|\n",
       "| B          | 560        | 353        |  25        |  17        | 0.63035714 | \n",
       "| A          | 825        | 512        | 108        |  89        | 0.62060606 | \n",
       "| F          | 373        |  22        | 341        |  24        | 0.05898123 | \n",
       "| D          | 417        | 138        | 375        | 131        | 0.33093525 | \n",
       "| E          | 191        |  53        | 393        |  94        | 0.27748691 | \n",
       "| C          | 325        | 120        | 593        | 202        | 0.36923077 | \n",
       "\n",
       "\n"
      ],
      "text/plain": [
       "  Department Men_Applicants Men_Admitted Women_Applicants Women_Admitted\n",
       "1 B          560            353           25               17           \n",
       "2 A          825            512          108               89           \n",
       "3 F          373             22          341               24           \n",
       "4 D          417            138          375              131           \n",
       "5 E          191             53          393               94           \n",
       "6 C          325            120          593              202           \n",
       "  Men_AdmissionRate\n",
       "1 0.63035714       \n",
       "2 0.62060606       \n",
       "3 0.05898123       \n",
       "4 0.33093525       \n",
       "5 0.27748691       \n",
       "6 0.36923077       "
      ]
     },
     "metadata": {},
     "output_type": "display_data"
    }
   ],
   "source": [
    "arrange( berkeleydata, Women_Applicants )"
   ]
  },
  {
   "cell_type": "markdown",
   "metadata": {
    "slideshow": {
     "slide_type": "subslide"
    }
   },
   "source": [
    "**Question**\n",
    "\n",
    "Can we sort in **descending order**?  Yes!"
   ]
  },
  {
   "cell_type": "markdown",
   "metadata": {
    "slideshow": {
     "slide_type": "subslide"
    }
   },
   "source": [
    "`arrange( DATAFRAMENAME, desc(COLUMNNAME) )` is used to **sort** the rows of a data frame based on the values in a particular column (**descending order**)."
   ]
  },
  {
   "cell_type": "code",
   "execution_count": 10,
   "metadata": {
    "slideshow": {
     "slide_type": "fragment"
    }
   },
   "outputs": [
    {
     "data": {
      "text/html": [
       "<table>\n",
       "<thead><tr><th scope=col>Department</th><th scope=col>Men_Applicants</th><th scope=col>Men_Admitted</th><th scope=col>Women_Applicants</th><th scope=col>Women_Admitted</th><th scope=col>Men_AdmissionRate</th></tr></thead>\n",
       "<tbody>\n",
       "\t<tr><td>C         </td><td>325       </td><td>120       </td><td>593       </td><td>202       </td><td>0.36923077</td></tr>\n",
       "\t<tr><td>E         </td><td>191       </td><td> 53       </td><td>393       </td><td> 94       </td><td>0.27748691</td></tr>\n",
       "\t<tr><td>D         </td><td>417       </td><td>138       </td><td>375       </td><td>131       </td><td>0.33093525</td></tr>\n",
       "\t<tr><td>F         </td><td>373       </td><td> 22       </td><td>341       </td><td> 24       </td><td>0.05898123</td></tr>\n",
       "\t<tr><td>A         </td><td>825       </td><td>512       </td><td>108       </td><td> 89       </td><td>0.62060606</td></tr>\n",
       "\t<tr><td>B         </td><td>560       </td><td>353       </td><td> 25       </td><td> 17       </td><td>0.63035714</td></tr>\n",
       "</tbody>\n",
       "</table>\n"
      ],
      "text/latex": [
       "\\begin{tabular}{r|llllll}\n",
       " Department & Men\\_Applicants & Men\\_Admitted & Women\\_Applicants & Women\\_Admitted & Men\\_AdmissionRate\\\\\n",
       "\\hline\n",
       "\t C          & 325        & 120        & 593        & 202        & 0.36923077\\\\\n",
       "\t E          & 191        &  53        & 393        &  94        & 0.27748691\\\\\n",
       "\t D          & 417        & 138        & 375        & 131        & 0.33093525\\\\\n",
       "\t F          & 373        &  22        & 341        &  24        & 0.05898123\\\\\n",
       "\t A          & 825        & 512        & 108        &  89        & 0.62060606\\\\\n",
       "\t B          & 560        & 353        &  25        &  17        & 0.63035714\\\\\n",
       "\\end{tabular}\n"
      ],
      "text/markdown": [
       "\n",
       "Department | Men_Applicants | Men_Admitted | Women_Applicants | Women_Admitted | Men_AdmissionRate | \n",
       "|---|---|---|---|---|---|\n",
       "| C          | 325        | 120        | 593        | 202        | 0.36923077 | \n",
       "| E          | 191        |  53        | 393        |  94        | 0.27748691 | \n",
       "| D          | 417        | 138        | 375        | 131        | 0.33093525 | \n",
       "| F          | 373        |  22        | 341        |  24        | 0.05898123 | \n",
       "| A          | 825        | 512        | 108        |  89        | 0.62060606 | \n",
       "| B          | 560        | 353        |  25        |  17        | 0.63035714 | \n",
       "\n",
       "\n"
      ],
      "text/plain": [
       "  Department Men_Applicants Men_Admitted Women_Applicants Women_Admitted\n",
       "1 C          325            120          593              202           \n",
       "2 E          191             53          393               94           \n",
       "3 D          417            138          375              131           \n",
       "4 F          373             22          341               24           \n",
       "5 A          825            512          108               89           \n",
       "6 B          560            353           25               17           \n",
       "  Men_AdmissionRate\n",
       "1 0.36923077       \n",
       "2 0.27748691       \n",
       "3 0.33093525       \n",
       "4 0.05898123       \n",
       "5 0.62060606       \n",
       "6 0.63035714       "
      ]
     },
     "metadata": {},
     "output_type": "display_data"
    }
   ],
   "source": [
    "arrange( berkeleydata, desc(Women_Applicants) )"
   ]
  },
  {
   "cell_type": "markdown",
   "metadata": {
    "slideshow": {
     "slide_type": "subslide"
    }
   },
   "source": [
    "**2-minute Group Exercise**\n",
    "\n",
    "Import the NYC Dog Licenses dataset in the `shared/datasets` directory as an R data frame called `nyc_dogs`.  Then,\n",
    "+ Use `arrange()` to sort the entries by `AnimalName` column, from A to Z\n",
    "+ Sort by `AnimalName` from Z to A\n",
    "+ Pick a column (your choice) and sort it either in descending or ascending order\n",
    "+ Sort the entries by `AnimalName` column from A to Z, then by the `AnimalBirthMonth` column (which is actually birth year) in descending order"
   ]
  },
  {
   "cell_type": "code",
   "execution_count": null,
   "metadata": {},
   "outputs": [],
   "source": [
    "nyc_dogs <- read.csv( )  # first, complete this line to import the dataset\n",
    "\n"
   ]
  },
  {
   "cell_type": "code",
   "execution_count": null,
   "metadata": {},
   "outputs": [],
   "source": [
    "\n"
   ]
  },
  {
   "cell_type": "markdown",
   "metadata": {},
   "source": [
    "### 3.  The `filter()` function\n",
    "\n",
    "Suppose that we would like to only look at data of dogs of a particular breed.  We can filter the dataset using dplyr's `filter()` function."
   ]
  },
  {
   "cell_type": "markdown",
   "metadata": {
    "slideshow": {
     "slide_type": "fragment"
    }
   },
   "source": [
    "`filter( DATAFRAMENAME, CRITERIA )`\n",
    "+ inputs: the name of the data frame, and a criteria for which rows should be included\n",
    "+ output: a data frame that only includes the rows that satisfies the given criteria"
   ]
  },
  {
   "cell_type": "markdown",
   "metadata": {
    "slideshow": {
     "slide_type": "fragment"
    }
   },
   "source": [
    "In what format should the criteria be?\n",
    "+ An equality or inequality involving column name(s)"
   ]
  },
  {
   "cell_type": "markdown",
   "metadata": {
    "slideshow": {
     "slide_type": "subslide"
    }
   },
   "source": [
    "**Example**\n",
    "\n",
    "Filter the `nyc_dogs` data frame to consist only of dogs whose breed is 'Poodle'"
   ]
  },
  {
   "cell_type": "code",
   "execution_count": null,
   "metadata": {},
   "outputs": [],
   "source": []
  },
  {
   "cell_type": "code",
   "execution_count": null,
   "metadata": {},
   "outputs": [],
   "source": []
  },
  {
   "cell_type": "markdown",
   "metadata": {
    "slideshow": {
     "slide_type": "subslide"
    }
   },
   "source": [
    "**Exploration**\n",
    "1. Filter the `nyc_dogs` data frame to consist only of rows that correspond to dogs\n",
    "    + who are male\n",
    "    + who were born in 2010 or after <br><br>\n",
    "\n",
    "2. How many rows in this dataset correspond to dogs who are male and were born in 2010 or after?\n",
    "\n",
    "3. How many rows in this dataset correspond to dogs named 'OTIS'?  Do all these rows correspond to different dogs or the same dogs?  How about 'LUCY'?\n",
    "\n",
    "4. What is the percentage of rows that correspond to female dogs?"
   ]
  },
  {
   "cell_type": "code",
   "execution_count": null,
   "metadata": {},
   "outputs": [],
   "source": [
    "\n"
   ]
  },
  {
   "cell_type": "code",
   "execution_count": null,
   "metadata": {},
   "outputs": [],
   "source": []
  },
  {
   "cell_type": "code",
   "execution_count": null,
   "metadata": {},
   "outputs": [],
   "source": []
  },
  {
   "cell_type": "markdown",
   "metadata": {
    "slideshow": {
     "slide_type": "subslide"
    }
   },
   "source": [
    "### 4. `group_by()` and `summarize()`\n",
    "\n",
    "The two functions above are usually used together when we want to get a summary information about a group of rows."
   ]
  },
  {
   "cell_type": "markdown",
   "metadata": {
    "slideshow": {
     "slide_type": "subslide"
    }
   },
   "source": [
    "**Example**\n",
    "\n",
    "For example, suppose that we would like to group the rows based on the dog's gender and count how many rows there are for each group.\n",
    "\n",
    "We could do that using the `filter()` function above and the `dim()` function."
   ]
  },
  {
   "cell_type": "markdown",
   "metadata": {
    "slideshow": {
     "slide_type": "subslide"
    }
   },
   "source": [
    "Here is a second way we can do it:\n",
    "+ First group the rows by gender using `group_by()`\n",
    "+ Count how many rows there are for each group using `summarize()`"
   ]
  },
  {
   "cell_type": "code",
   "execution_count": null,
   "metadata": {},
   "outputs": [],
   "source": [
    "\n",
    "\n"
   ]
  },
  {
   "cell_type": "markdown",
   "metadata": {
    "slideshow": {
     "slide_type": "subslide"
    }
   },
   "source": [
    "`group_by( DATAFRAMENAME, COLUMNNAME)`\n",
    "+ inputs: a data frame, along with the name of a categorical variable/column\n",
    "+ output: a grouped data frame --- this data frame looks exactly the same as the input data frame (but internally, R has divide up this data based on the given categorical variable)"
   ]
  },
  {
   "cell_type": "markdown",
   "metadata": {
    "slideshow": {
     "slide_type": "fragment"
    }
   },
   "source": [
    "`summarize( DATAFRAMENAME, NEWSUMMARYCOLUMNNAME = AN AGGREGATE FUNCTION )`\n",
    "+ inputs: a grouped data frame, along with what information we want summarized about each particular group\n",
    "+ output: a summary data frame"
   ]
  },
  {
   "cell_type": "code",
   "execution_count": null,
   "metadata": {},
   "outputs": [],
   "source": []
  },
  {
   "cell_type": "markdown",
   "metadata": {
    "slideshow": {
     "slide_type": "fragment"
    }
   },
   "source": [
    "+ Some of the aggregate function that we can use:\n",
    "    + `n()`: to count the number of rows within each group\n",
    "    + `mean( COLUMNNAME )`: to compute the average of `COLUMNNAME` within each group\n",
    "    + `sum( COLUMNNAME )`: to compute the sum of `COLUMNNAME` within each group"
   ]
  },
  {
   "cell_type": "markdown",
   "metadata": {
    "slideshow": {
     "slide_type": "subslide"
    }
   },
   "source": [
    "**Example**\n",
    "\n",
    "Group the rows based on the dog's birth year and count how many rows there are for each group."
   ]
  },
  {
   "cell_type": "code",
   "execution_count": null,
   "metadata": {},
   "outputs": [],
   "source": [
    "\n"
   ]
  },
  {
   "cell_type": "code",
   "execution_count": null,
   "metadata": {},
   "outputs": [],
   "source": [
    "\n"
   ]
  },
  {
   "cell_type": "markdown",
   "metadata": {
    "slideshow": {
     "slide_type": "subslide"
    }
   },
   "source": [
    "**Exploration**\n",
    "\n",
    "1. Group the rows based on the dogs' zipcode and count how many rows there are for each group\n",
    "2. Group the rows based on the dogs' zipcode and by gender; count how many rows there are for each group\n",
    "3. Suppose we assume that each dog appears only once in this dataset, and that each dog is still alive and well today.  Find the average age within each zipcode"
   ]
  },
  {
   "cell_type": "code",
   "execution_count": null,
   "metadata": {},
   "outputs": [],
   "source": [
    "\n"
   ]
  },
  {
   "cell_type": "code",
   "execution_count": null,
   "metadata": {},
   "outputs": [],
   "source": []
  }
 ],
 "metadata": {
  "celltoolbar": "Slideshow",
  "kernelspec": {
   "display_name": "R",
   "language": "R",
   "name": "ir"
  },
  "language_info": {
   "codemirror_mode": "r",
   "file_extension": ".r",
   "mimetype": "text/x-r-source",
   "name": "R",
   "pygments_lexer": "r",
   "version": "3.5.1"
  }
 },
 "nbformat": 4,
 "nbformat_minor": 2
}
