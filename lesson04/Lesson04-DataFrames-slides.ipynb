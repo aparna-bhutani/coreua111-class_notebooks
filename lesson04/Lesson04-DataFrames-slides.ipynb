{
 "cells": [
  {
   "cell_type": "markdown",
   "metadata": {
    "slideshow": {
     "slide_type": "slide"
    }
   },
   "source": [
    "# Lesson 4: Data Frames\n",
    "\n",
    "Today: Working with data frames\n",
    "+ The 'dplyr' package\n",
    "+ Adding new columns (a second way)\n",
    "+ Sorting rows\n",
    "+ Filtering rows\n",
    "+ Grouping data"
   ]
  },
  {
   "cell_type": "markdown",
   "metadata": {
    "collapsed": true,
    "slideshow": {
     "slide_type": "subslide"
    }
   },
   "source": [
    "## Working with columns and rows of data frames\n",
    "\n",
    "Yesterday, you were introduced to the R package `datasets`, which contains some built-in data that we can explore right away without having to import from an outside source.  Today, we will work with another important R package, called `dplyr`.  Unlike `datasets` which contains data, the package `dplyr` contains tools that allow us to explore data.\n",
    "\n",
    "To use `dplyr` for the first time on a jupyter notebook, you have to load it using the `library()` function.  (It's not automatically loaded like the `datasets` package.)"
   ]
  },
  {
   "cell_type": "code",
   "execution_count": null,
   "metadata": {
    "slideshow": {
     "slide_type": "fragment"
    }
   },
   "outputs": [],
   "source": [
    "\n",
    "\n"
   ]
  },
  {
   "cell_type": "markdown",
   "metadata": {
    "slideshow": {
     "slide_type": "subslide"
    }
   },
   "source": [
    "There are several important functions that come with the `dplyr` package:\n",
    "+ `mutate()`\n",
    "+ `arrange()`\n",
    "+ `filter()`\n",
    "+ `group_by()`\n",
    "+ `summarize()`"
   ]
  },
  {
   "cell_type": "markdown",
   "metadata": {
    "slideshow": {
     "slide_type": "subslide"
    }
   },
   "source": [
    "### 1. The `mutate()` function\n",
    "\n",
    "Last class, we saw one way to add a column to a data frame.\n",
    "\n",
    "**Example**\n",
    "\n",
    "(we will use the UC Berkeley 1973 Graduate Admission dataset again)"
   ]
  },
  {
   "cell_type": "code",
   "execution_count": 2,
   "metadata": {
    "slideshow": {
     "slide_type": "fragment"
    }
   },
   "outputs": [],
   "source": [
    "berkeleydata <- read.csv('../../shared/datasets/berkeley73.csv')\n",
    "\n"
   ]
  },
  {
   "cell_type": "markdown",
   "metadata": {
    "slideshow": {
     "slide_type": "subslide"
    }
   },
   "source": [
    "The `mutate()` function gives us a second way to do the same thing!\n",
    "\n",
    "`mutate( DATAFRAMENAME, NEWCOLUMNNAME = FORMULA FOR THE NEW COLUMN IN TERMS OF EXISTING COLUMNS )`\n",
    "+ inputs: a data frame and the name of the new column, with a formula for the entries in the new column in terms of existing column\n",
    "+ output: a new data frame, obtained by adding the new column to the input data frame"
   ]
  },
  {
   "cell_type": "code",
   "execution_count": null,
   "metadata": {},
   "outputs": [],
   "source": []
  },
  {
   "cell_type": "code",
   "execution_count": null,
   "metadata": {},
   "outputs": [],
   "source": []
  },
  {
   "cell_type": "markdown",
   "metadata": {
    "slideshow": {
     "slide_type": "subslide"
    }
   },
   "source": [
    "### 2. The `arrange()` function\n",
    "\n",
    "`arrange( DATAFRAMENAME, COLUMNNAME)` is used to **sort** the rows of a data frame based on the values in a particular column (ascending order).\n",
    "+ inputs: a data frame and a column name in that data frame\n",
    "+ output: a data frame that is sorted based on the values in the specified column"
   ]
  },
  {
   "cell_type": "code",
   "execution_count": null,
   "metadata": {
    "slideshow": {
     "slide_type": "fragment"
    }
   },
   "outputs": [],
   "source": []
  },
  {
   "cell_type": "markdown",
   "metadata": {
    "slideshow": {
     "slide_type": "subslide"
    }
   },
   "source": [
    "**Question**\n",
    "\n",
    "Can we sort in **descending order**?  Yes!"
   ]
  },
  {
   "cell_type": "markdown",
   "metadata": {
    "slideshow": {
     "slide_type": "subslide"
    }
   },
   "source": [
    "`arrange( DATAFRAMENAME, desc(COLUMNNAME) )` is used to **sort** the rows of a data frame based on the values in a particular column (**descending order**)."
   ]
  },
  {
   "cell_type": "code",
   "execution_count": null,
   "metadata": {
    "slideshow": {
     "slide_type": "fragment"
    }
   },
   "outputs": [],
   "source": []
  },
  {
   "cell_type": "markdown",
   "metadata": {
    "slideshow": {
     "slide_type": "subslide"
    }
   },
   "source": [
    "**2-minute Group Exercise**\n",
    "\n",
    "Import the NYC Dog Licenses dataset in the `shared/datasets` directory as an R data frame called `nyc_dogs`.  Then,\n",
    "+ Use `arrange()` to sort the entries by `AnimalName` column, from A to Z\n",
    "+ Sort by `AnimalName` from Z to A\n",
    "+ Pick a column (your choice) and sort it either in descending or ascending order\n",
    "+ Sort the entries by `AnimalName` column from A to Z, then by the `AnimalBirthMonth` column (which is actually birth year) in descending order"
   ]
  },
  {
   "cell_type": "code",
   "execution_count": null,
   "metadata": {},
   "outputs": [],
   "source": [
    "nyc_dogs <- read.csv( )  # first, complete this line to import the dataset\n",
    "\n"
   ]
  },
  {
   "cell_type": "code",
   "execution_count": null,
   "metadata": {},
   "outputs": [],
   "source": [
    "\n"
   ]
  },
  {
   "cell_type": "markdown",
   "metadata": {},
   "source": [
    "### 3.  The `filter()` function\n",
    "\n",
    "Suppose that we would like to only look at data of dogs of a particular breed.  We can filter the dataset using dplyr's `filter()` function."
   ]
  },
  {
   "cell_type": "markdown",
   "metadata": {
    "slideshow": {
     "slide_type": "fragment"
    }
   },
   "source": [
    "`filter( DATAFRAMENAME, CRITERIA )`\n",
    "+ inputs: the name of the data frame, and a criteria for which rows should be included\n",
    "+ output: a data frame that only includes the rows that satisfies the given criteria"
   ]
  },
  {
   "cell_type": "markdown",
   "metadata": {
    "slideshow": {
     "slide_type": "fragment"
    }
   },
   "source": [
    "In what format should the criteria be?\n",
    "+ An equality or inequality involving column name(s)"
   ]
  },
  {
   "cell_type": "markdown",
   "metadata": {
    "slideshow": {
     "slide_type": "subslide"
    }
   },
   "source": [
    "**Example**\n",
    "\n",
    "Filter the `nyc_dogs` data frame to consist only of dogs whose breed is 'Poodle'"
   ]
  },
  {
   "cell_type": "code",
   "execution_count": null,
   "metadata": {},
   "outputs": [],
   "source": []
  },
  {
   "cell_type": "code",
   "execution_count": null,
   "metadata": {},
   "outputs": [],
   "source": []
  },
  {
   "cell_type": "markdown",
   "metadata": {
    "slideshow": {
     "slide_type": "subslide"
    }
   },
   "source": [
    "**Exploration**\n",
    "1. Filter the `nyc_dogs` data frame to consist only of rows that correspond to dogs\n",
    "    + who are male\n",
    "    + who were born in 2010 or after <br><br>\n",
    "\n",
    "2. How many rows in this dataset correspond to dogs who are male and were born in 2010 or after?\n",
    "\n",
    "3. How many rows in this dataset correspond to dogs named 'OTIS'?  Do all these rows correspond to different dogs or the same dogs?  How about 'LUCY'?\n",
    "\n",
    "4. What is the percentage of rows that correspond to female dogs?"
   ]
  },
  {
   "cell_type": "code",
   "execution_count": null,
   "metadata": {},
   "outputs": [],
   "source": [
    "\n"
   ]
  },
  {
   "cell_type": "code",
   "execution_count": null,
   "metadata": {},
   "outputs": [],
   "source": []
  },
  {
   "cell_type": "code",
   "execution_count": null,
   "metadata": {},
   "outputs": [],
   "source": []
  },
  {
   "cell_type": "markdown",
   "metadata": {
    "slideshow": {
     "slide_type": "subslide"
    }
   },
   "source": [
    "### 4. `group_by()` and `summarize()`\n",
    "\n",
    "The two functions above are usually used together when we want to get a summary information about a group of rows."
   ]
  },
  {
   "cell_type": "markdown",
   "metadata": {
    "slideshow": {
     "slide_type": "subslide"
    }
   },
   "source": [
    "**Example**\n",
    "\n",
    "For example, suppose that we would like to group the rows based on the dog's gender and count how many rows there are for each group.\n",
    "\n",
    "We could do that using the `filter()` function above and the `dim()` function."
   ]
  },
  {
   "cell_type": "markdown",
   "metadata": {
    "slideshow": {
     "slide_type": "subslide"
    }
   },
   "source": [
    "Here is a second way we can do it:\n",
    "+ First group the rows by gender using `group_by()`\n",
    "+ Count how many rows there are for each group using `summarize()`"
   ]
  },
  {
   "cell_type": "code",
   "execution_count": null,
   "metadata": {},
   "outputs": [],
   "source": [
    "\n",
    "\n"
   ]
  },
  {
   "cell_type": "markdown",
   "metadata": {
    "slideshow": {
     "slide_type": "subslide"
    }
   },
   "source": [
    "`group_by( DATAFRAMENAME, COLUMNNAME)`\n",
    "+ inputs: a data frame, along with the name of a categorical variable/column\n",
    "+ output: a grouped data frame --- this data frame looks exactly the same as the input data frame (but internally, R has divide up this data based on the given categorical variable)"
   ]
  },
  {
   "cell_type": "markdown",
   "metadata": {
    "slideshow": {
     "slide_type": "fragment"
    }
   },
   "source": [
    "`summarize( DATAFRAMENAME, NEWSUMMARYCOLUMNNAME = AN AGGREGATE FUNCTION )`\n",
    "+ inputs: a grouped data frame, along with what information we want summarized about each particular group\n",
    "+ output: a summary data frame"
   ]
  },
  {
   "cell_type": "code",
   "execution_count": null,
   "metadata": {},
   "outputs": [],
   "source": []
  },
  {
   "cell_type": "markdown",
   "metadata": {
    "slideshow": {
     "slide_type": "fragment"
    }
   },
   "source": [
    "+ Some of the aggregate function that we can use:\n",
    "    + `n()`: to count the number of rows within each group\n",
    "    + `mean( COLUMNNAME )`: to compute the average of `COLUMNNAME` within each group\n",
    "    + `sum( COLUMNNAME )`: to compute the sum of `COLUMNNAME` within each group"
   ]
  },
  {
   "cell_type": "markdown",
   "metadata": {
    "slideshow": {
     "slide_type": "subslide"
    }
   },
   "source": [
    "**Example**\n",
    "\n",
    "Group the rows based on the dog's birth year and count how many rows there are for each group."
   ]
  },
  {
   "cell_type": "code",
   "execution_count": null,
   "metadata": {},
   "outputs": [],
   "source": [
    "\n"
   ]
  },
  {
   "cell_type": "code",
   "execution_count": null,
   "metadata": {},
   "outputs": [],
   "source": [
    "\n"
   ]
  },
  {
   "cell_type": "markdown",
   "metadata": {
    "slideshow": {
     "slide_type": "subslide"
    }
   },
   "source": [
    "**Exploration**\n",
    "\n",
    "1. Group the rows based on the dogs' zipcode and count how many rows there are for each group\n",
    "2. Group the rows based on the dogs' zipcode and by gender; count how many rows there are for each group\n",
    "3. Suppose we assume that each dog appears only once in this dataset, and that each dog is still alive and well today.  Find the average age within each zipcode"
   ]
  },
  {
   "cell_type": "code",
   "execution_count": null,
   "metadata": {},
   "outputs": [],
   "source": [
    "\n"
   ]
  },
  {
   "cell_type": "code",
   "execution_count": null,
   "metadata": {},
   "outputs": [],
   "source": []
  }
 ],
 "metadata": {
  "celltoolbar": "Slideshow",
  "kernelspec": {
   "display_name": "R",
   "language": "R",
   "name": "ir"
  },
  "language_info": {
   "codemirror_mode": "r",
   "file_extension": ".r",
   "mimetype": "text/x-r-source",
   "name": "R",
   "pygments_lexer": "r",
   "version": "3.5.1"
  }
 },
 "nbformat": 4,
 "nbformat_minor": 2
}
