{
 "cells": [
  {
   "cell_type": "markdown",
   "metadata": {},
   "source": [
    "# My first jupyter notebook\n",
    "\n",
    "Hello!\n",
    "\n",
    "This is a quick demonstration of what a Jupyter Notebook looks like and what the process of working with data using R (a statistical programming language) looks like.\n",
    "\n",
    "In this demonstration, we work with a dataset consisting of UC Berkeley's 1973 graduate admission data for six departments, by gender.  In 1973, UC Berkeley was accused of a gender bias in its graduate admissions: that its admissions were skewed against women applicants.\n",
    "\n",
    "We hope to glean from the data whether UC Berkeley graduate admissions in 1973 were indeed biased against women.\n",
    "\n",
    "**You are not expected to understand the gory details at the moment.  The main goal today is to get a glimpse of the typical data exploration process using R that is involved in answering a question.**"
   ]
  },
  {
   "cell_type": "code",
   "execution_count": 11,
   "metadata": {},
   "outputs": [],
   "source": [
    "# load a package (a \"toolbox\") called dplyr,\n",
    "#  which is helpful for working with data tables\n",
    "\n",
    "library(dplyr)"
   ]
  },
  {
   "cell_type": "code",
   "execution_count": 12,
   "metadata": {},
   "outputs": [],
   "source": [
    "# upload dataset of UC Berkeley graduate admissions in 1973\n",
    "\n",
    "berkeleydata <- read.csv('berkeley73.csv')"
   ]
  },
  {
   "cell_type": "code",
   "execution_count": 13,
   "metadata": {},
   "outputs": [
    {
     "data": {
      "text/html": [
       "<table>\n",
       "<thead><tr><th scope=col>Department</th><th scope=col>Men_Applicants</th><th scope=col>Men_Admitted</th><th scope=col>Women_Applicants</th><th scope=col>Women_Admitted</th></tr></thead>\n",
       "<tbody>\n",
       "\t<tr><td>A  </td><td>825</td><td>512</td><td>108</td><td> 89</td></tr>\n",
       "\t<tr><td>B  </td><td>560</td><td>353</td><td> 25</td><td> 17</td></tr>\n",
       "\t<tr><td>C  </td><td>325</td><td>120</td><td>593</td><td>202</td></tr>\n",
       "\t<tr><td>D  </td><td>417</td><td>138</td><td>375</td><td>131</td></tr>\n",
       "\t<tr><td>E  </td><td>191</td><td> 53</td><td>393</td><td> 94</td></tr>\n",
       "\t<tr><td>F  </td><td>373</td><td> 22</td><td>341</td><td> 24</td></tr>\n",
       "</tbody>\n",
       "</table>\n"
      ],
      "text/latex": [
       "\\begin{tabular}{r|lllll}\n",
       " Department & Men\\_Applicants & Men\\_Admitted & Women\\_Applicants & Women\\_Admitted\\\\\n",
       "\\hline\n",
       "\t A   & 825 & 512 & 108 &  89\\\\\n",
       "\t B   & 560 & 353 &  25 &  17\\\\\n",
       "\t C   & 325 & 120 & 593 & 202\\\\\n",
       "\t D   & 417 & 138 & 375 & 131\\\\\n",
       "\t E   & 191 &  53 & 393 &  94\\\\\n",
       "\t F   & 373 &  22 & 341 &  24\\\\\n",
       "\\end{tabular}\n"
      ],
      "text/markdown": [
       "\n",
       "| Department | Men_Applicants | Men_Admitted | Women_Applicants | Women_Admitted |\n",
       "|---|---|---|---|---|\n",
       "| A   | 825 | 512 | 108 |  89 |\n",
       "| B   | 560 | 353 |  25 |  17 |\n",
       "| C   | 325 | 120 | 593 | 202 |\n",
       "| D   | 417 | 138 | 375 | 131 |\n",
       "| E   | 191 |  53 | 393 |  94 |\n",
       "| F   | 373 |  22 | 341 |  24 |\n",
       "\n"
      ],
      "text/plain": [
       "  Department Men_Applicants Men_Admitted Women_Applicants Women_Admitted\n",
       "1 A          825            512          108               89           \n",
       "2 B          560            353           25               17           \n",
       "3 C          325            120          593              202           \n",
       "4 D          417            138          375              131           \n",
       "5 E          191             53          393               94           \n",
       "6 F          373             22          341               24           "
      ]
     },
     "metadata": {},
     "output_type": "display_data"
    }
   ],
   "source": [
    "# Let's at the content of the dataset and roughly examine the numbers.\n",
    "\n",
    "berkeleydata"
   ]
  },
  {
   "cell_type": "code",
   "execution_count": 14,
   "metadata": {},
   "outputs": [
    {
     "data": {
      "text/html": [
       "<dl class=dl-horizontal>\n",
       "\t<dt>Men_Applicants</dt>\n",
       "\t\t<dd>2691</dd>\n",
       "\t<dt>Men_Admitted</dt>\n",
       "\t\t<dd>1198</dd>\n",
       "\t<dt>Women_Applicants</dt>\n",
       "\t\t<dd>1835</dd>\n",
       "\t<dt>Women_Admitted</dt>\n",
       "\t\t<dd>557</dd>\n",
       "</dl>\n"
      ],
      "text/latex": [
       "\\begin{description*}\n",
       "\\item[Men\\textbackslash{}\\_Applicants] 2691\n",
       "\\item[Men\\textbackslash{}\\_Admitted] 1198\n",
       "\\item[Women\\textbackslash{}\\_Applicants] 1835\n",
       "\\item[Women\\textbackslash{}\\_Admitted] 557\n",
       "\\end{description*}\n"
      ],
      "text/markdown": [
       "Men_Applicants\n",
       ":   2691Men_Admitted\n",
       ":   1198Women_Applicants\n",
       ":   1835Women_Admitted\n",
       ":   557\n",
       "\n"
      ],
      "text/plain": [
       "  Men_Applicants     Men_Admitted Women_Applicants   Women_Admitted \n",
       "            2691             1198             1835              557 "
      ]
     },
     "metadata": {},
     "output_type": "display_data"
    }
   ],
   "source": [
    "# compute the total number of men and women applicants and \n",
    "#  the total number of men and women who were admitted\n",
    "\n",
    "total <- apply( berkeleydata[,-1], 2, function(x){sum(x)} )\n",
    "total"
   ]
  },
  {
   "cell_type": "code",
   "execution_count": 15,
   "metadata": {},
   "outputs": [
    {
     "data": {
      "text/html": [
       "<table>\n",
       "<thead><tr><th></th><th scope=col>Applicants</th><th scope=col>Admitted</th></tr></thead>\n",
       "<tbody>\n",
       "\t<tr><th scope=row>Men</th><td>2691</td><td>1198</td></tr>\n",
       "\t<tr><th scope=row>Women</th><td>1835</td><td> 557</td></tr>\n",
       "</tbody>\n",
       "</table>\n"
      ],
      "text/latex": [
       "\\begin{tabular}{r|ll}\n",
       "  & Applicants & Admitted\\\\\n",
       "\\hline\n",
       "\tMen & 2691 & 1198\\\\\n",
       "\tWomen & 1835 &  557\\\\\n",
       "\\end{tabular}\n"
      ],
      "text/markdown": [
       "\n",
       "| <!--/--> | Applicants | Admitted |\n",
       "|---|---|---|\n",
       "| Men | 2691 | 1198 |\n",
       "| Women | 1835 |  557 |\n",
       "\n"
      ],
      "text/plain": [
       "      Applicants Admitted\n",
       "Men   2691       1198    \n",
       "Women 1835        557    "
      ]
     },
     "metadata": {},
     "output_type": "display_data"
    }
   ],
   "source": [
    "# Organize it in a nicer format\n",
    "\n",
    "berkeley_total <- data.frame( Applicants = c( total[[1]], total[[3]]), \n",
    "                              Admitted = c( total[[2]], total[[4]]) )\n",
    "rownames(berkeley_total) <- c('Men', 'Women')\n",
    "berkeley_total"
   ]
  },
  {
   "cell_type": "code",
   "execution_count": 16,
   "metadata": {},
   "outputs": [
    {
     "data": {
      "text/html": [
       "<table>\n",
       "<thead><tr><th></th><th scope=col>Applicants</th><th scope=col>Admitted</th><th scope=col>percentAdmitted</th></tr></thead>\n",
       "<tbody>\n",
       "\t<tr><th scope=row>Men</th><td>2691 </td><td>1198 </td><td>44.52</td></tr>\n",
       "\t<tr><th scope=row>Women</th><td>1835 </td><td> 557 </td><td>30.35</td></tr>\n",
       "</tbody>\n",
       "</table>\n"
      ],
      "text/latex": [
       "\\begin{tabular}{r|lll}\n",
       "  & Applicants & Admitted & percentAdmitted\\\\\n",
       "\\hline\n",
       "\tMen & 2691  & 1198  & 44.52\\\\\n",
       "\tWomen & 1835  &  557  & 30.35\\\\\n",
       "\\end{tabular}\n"
      ],
      "text/markdown": [
       "\n",
       "| <!--/--> | Applicants | Admitted | percentAdmitted |\n",
       "|---|---|---|---|\n",
       "| Men | 2691  | 1198  | 44.52 |\n",
       "| Women | 1835  |  557  | 30.35 |\n",
       "\n"
      ],
      "text/plain": [
       "      Applicants Admitted percentAdmitted\n",
       "Men   2691       1198     44.52          \n",
       "Women 1835        557     30.35          "
      ]
     },
     "metadata": {},
     "output_type": "display_data"
    }
   ],
   "source": [
    "# compute the percentage of admitted men (out of all men applicants) and\n",
    "#  that of admitted women (out of all women applicants)\n",
    "\n",
    "berkeley_total <- mutate(berkeley_total, percentAdmitted = round(Admitted/Applicants*100, 2) )\n",
    "rownames(berkeley_total) <- c('Men', 'Women')\n",
    "berkeley_total"
   ]
  },
  {
   "cell_type": "markdown",
   "metadata": {},
   "source": [
    "In the table above, we notice that the admission rate of women is only around 30% while the admission rate of men is almost 45%.  This might support the claim that there is a gender bias against women in UC Berkeley's graduate admissions in 1973.\n",
    "\n",
    "Are we done?\n",
    "\n",
    "Well, if we look at the original dataset, which we reproduce below, it seems at a glance that some departments actually admit a high percentage of women applicants."
   ]
  },
  {
   "cell_type": "code",
   "execution_count": 17,
   "metadata": {},
   "outputs": [
    {
     "data": {
      "text/html": [
       "<table>\n",
       "<thead><tr><th scope=col>Department</th><th scope=col>Men_Applicants</th><th scope=col>Men_Admitted</th><th scope=col>Women_Applicants</th><th scope=col>Women_Admitted</th></tr></thead>\n",
       "<tbody>\n",
       "\t<tr><td>A  </td><td>825</td><td>512</td><td>108</td><td> 89</td></tr>\n",
       "\t<tr><td>B  </td><td>560</td><td>353</td><td> 25</td><td> 17</td></tr>\n",
       "\t<tr><td>C  </td><td>325</td><td>120</td><td>593</td><td>202</td></tr>\n",
       "\t<tr><td>D  </td><td>417</td><td>138</td><td>375</td><td>131</td></tr>\n",
       "\t<tr><td>E  </td><td>191</td><td> 53</td><td>393</td><td> 94</td></tr>\n",
       "\t<tr><td>F  </td><td>373</td><td> 22</td><td>341</td><td> 24</td></tr>\n",
       "</tbody>\n",
       "</table>\n"
      ],
      "text/latex": [
       "\\begin{tabular}{r|lllll}\n",
       " Department & Men\\_Applicants & Men\\_Admitted & Women\\_Applicants & Women\\_Admitted\\\\\n",
       "\\hline\n",
       "\t A   & 825 & 512 & 108 &  89\\\\\n",
       "\t B   & 560 & 353 &  25 &  17\\\\\n",
       "\t C   & 325 & 120 & 593 & 202\\\\\n",
       "\t D   & 417 & 138 & 375 & 131\\\\\n",
       "\t E   & 191 &  53 & 393 &  94\\\\\n",
       "\t F   & 373 &  22 & 341 &  24\\\\\n",
       "\\end{tabular}\n"
      ],
      "text/markdown": [
       "\n",
       "| Department | Men_Applicants | Men_Admitted | Women_Applicants | Women_Admitted |\n",
       "|---|---|---|---|---|\n",
       "| A   | 825 | 512 | 108 |  89 |\n",
       "| B   | 560 | 353 |  25 |  17 |\n",
       "| C   | 325 | 120 | 593 | 202 |\n",
       "| D   | 417 | 138 | 375 | 131 |\n",
       "| E   | 191 |  53 | 393 |  94 |\n",
       "| F   | 373 |  22 | 341 |  24 |\n",
       "\n"
      ],
      "text/plain": [
       "  Department Men_Applicants Men_Admitted Women_Applicants Women_Admitted\n",
       "1 A          825            512          108               89           \n",
       "2 B          560            353           25               17           \n",
       "3 C          325            120          593              202           \n",
       "4 D          417            138          375              131           \n",
       "5 E          191             53          393               94           \n",
       "6 F          373             22          341               24           "
      ]
     },
     "metadata": {},
     "output_type": "display_data"
    }
   ],
   "source": [
    "berkeleydata"
   ]
  },
  {
   "cell_type": "markdown",
   "metadata": {},
   "source": [
    "Let's compute the admission rate of men and women, but this time for each department individually."
   ]
  },
  {
   "cell_type": "code",
   "execution_count": 18,
   "metadata": {},
   "outputs": [
    {
     "data": {
      "text/html": [
       "<table>\n",
       "<thead><tr><th scope=col>Department</th><th scope=col>Men_Applicants</th><th scope=col>Men_Admitted</th><th scope=col>Women_Applicants</th><th scope=col>Women_Admitted</th><th scope=col>Men_percentAdmitted</th><th scope=col>Women_percentAdmitted</th></tr></thead>\n",
       "<tbody>\n",
       "\t<tr><td>A        </td><td>825      </td><td>512      </td><td>108      </td><td> 89      </td><td>62.060606</td><td>82.407407</td></tr>\n",
       "\t<tr><td>B        </td><td>560      </td><td>353      </td><td> 25      </td><td> 17      </td><td>63.035714</td><td>68.000000</td></tr>\n",
       "\t<tr><td>C        </td><td>325      </td><td>120      </td><td>593      </td><td>202      </td><td>36.923077</td><td>34.064081</td></tr>\n",
       "\t<tr><td>D        </td><td>417      </td><td>138      </td><td>375      </td><td>131      </td><td>33.093525</td><td>34.933333</td></tr>\n",
       "\t<tr><td>E        </td><td>191      </td><td> 53      </td><td>393      </td><td> 94      </td><td>27.748691</td><td>23.918575</td></tr>\n",
       "\t<tr><td>F        </td><td>373      </td><td> 22      </td><td>341      </td><td> 24      </td><td> 5.898123</td><td> 7.038123</td></tr>\n",
       "</tbody>\n",
       "</table>\n"
      ],
      "text/latex": [
       "\\begin{tabular}{r|lllllll}\n",
       " Department & Men\\_Applicants & Men\\_Admitted & Women\\_Applicants & Women\\_Admitted & Men\\_percentAdmitted & Women\\_percentAdmitted\\\\\n",
       "\\hline\n",
       "\t A         & 825       & 512       & 108       &  89       & 62.060606 & 82.407407\\\\\n",
       "\t B         & 560       & 353       &  25       &  17       & 63.035714 & 68.000000\\\\\n",
       "\t C         & 325       & 120       & 593       & 202       & 36.923077 & 34.064081\\\\\n",
       "\t D         & 417       & 138       & 375       & 131       & 33.093525 & 34.933333\\\\\n",
       "\t E         & 191       &  53       & 393       &  94       & 27.748691 & 23.918575\\\\\n",
       "\t F         & 373       &  22       & 341       &  24       &  5.898123 &  7.038123\\\\\n",
       "\\end{tabular}\n"
      ],
      "text/markdown": [
       "\n",
       "| Department | Men_Applicants | Men_Admitted | Women_Applicants | Women_Admitted | Men_percentAdmitted | Women_percentAdmitted |\n",
       "|---|---|---|---|---|---|---|\n",
       "| A         | 825       | 512       | 108       |  89       | 62.060606 | 82.407407 |\n",
       "| B         | 560       | 353       |  25       |  17       | 63.035714 | 68.000000 |\n",
       "| C         | 325       | 120       | 593       | 202       | 36.923077 | 34.064081 |\n",
       "| D         | 417       | 138       | 375       | 131       | 33.093525 | 34.933333 |\n",
       "| E         | 191       |  53       | 393       |  94       | 27.748691 | 23.918575 |\n",
       "| F         | 373       |  22       | 341       |  24       |  5.898123 |  7.038123 |\n",
       "\n"
      ],
      "text/plain": [
       "  Department Men_Applicants Men_Admitted Women_Applicants Women_Admitted\n",
       "1 A          825            512          108               89           \n",
       "2 B          560            353           25               17           \n",
       "3 C          325            120          593              202           \n",
       "4 D          417            138          375              131           \n",
       "5 E          191             53          393               94           \n",
       "6 F          373             22          341               24           \n",
       "  Men_percentAdmitted Women_percentAdmitted\n",
       "1 62.060606           82.407407            \n",
       "2 63.035714           68.000000            \n",
       "3 36.923077           34.064081            \n",
       "4 33.093525           34.933333            \n",
       "5 27.748691           23.918575            \n",
       "6  5.898123            7.038123            "
      ]
     },
     "metadata": {},
     "output_type": "display_data"
    }
   ],
   "source": [
    "berkeleydata$Men_percentAdmitted <- berkeleydata$Men_Admitted / berkeleydata$Men_Applicants * 100\n",
    "berkeleydata$Women_percentAdmitted <- berkeleydata$Women_Admitted / berkeleydata$Women_Applicants * 100\n",
    "\n",
    "berkeleydata"
   ]
  },
  {
   "cell_type": "markdown",
   "metadata": {},
   "source": [
    "In fact, the admission rate for women is higher than the admission rate for men in four out of the six departments (A, B, D, and F) .  Furthermore, for the two remaining departments (C and E), the rates are comparable:\n",
    "+ In department C, 36.9% of men applicants were admitted and 34.1% of women applicants were admitted\n",
    "+ In department E, 27.7% of men applicants were admitted and 23.9% of women applicants were admitted\n",
    "It's also important to notice that department A seems to admit a much higher percentage of women than men.\n",
    "\n",
    "This seems to counter our previous observation when we look at the total numbers (as opposed to the numbers for each individual department)!!\n",
    "\n",
    "## Take-home messages from this exercise\n",
    "+ Sometimes a simple data analysis isn't enough to derive a definite conclusion.  More thorough analysis might be needed! <br><br>\n",
    "+ This dataset illustrates something called \"Simpson's Paradox\": We obtain one conclusion when we look at the dataset as a whole, but when we look at the data by group (e.g., by department), we obtain a different conclusion.\n",
    "    \n",
    "    If you are curious, see https://en.wikipedia.org/wiki/Simpson%27s_paradox for more on Simpson's Paradox!"
   ]
  },
  {
   "cell_type": "code",
   "execution_count": null,
   "metadata": {},
   "outputs": [],
   "source": []
  }
 ],
 "metadata": {
  "kernelspec": {
   "display_name": "R 3.5.1",
   "language": "R",
   "name": "r_3.5.1"
  },
  "language_info": {
   "codemirror_mode": "r",
   "file_extension": ".r",
   "mimetype": "text/x-r-source",
   "name": "R",
   "pygments_lexer": "r",
   "version": "3.5.1"
  }
 },
 "nbformat": 4,
 "nbformat_minor": 2
}
