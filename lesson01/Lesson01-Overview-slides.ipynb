{
 "cells": [
  {
   "cell_type": "markdown",
   "metadata": {
    "slideshow": {
     "slide_type": "slide"
    }
   },
   "source": [
    "# Welcome to CORE UA 111: From Data To Discovery!\n",
    "\n",
    "<b>Handout:</b> Syllabus + Calendar (pick up by the front entrance)\n",
    "\n",
    "<b>Warm-up Question \\& Icebreaker (do now!):</b><br>\n",
    "Fill out this survey: https://pollev.com/mutiarasondj275 <br><br>\n",
    "\n",
    "Then, introduce yourself to a neighbor and discuss:\n",
    "+ What is \"data\"?\n",
    "+ What is a \"model\"?\n",
    "+ Why are you taking this course?\n",
    "+ What do you think you will learn from this course that would be useful to you in, e.g. 10 years?"
   ]
  },
  {
   "cell_type": "markdown",
   "metadata": {
    "slideshow": {
     "slide_type": "slide"
    }
   },
   "source": [
    "**Mutiara (Tia) Sondjaja**<br>\n",
    "sondjaja@nyu.edu\n",
    "\n",
    "<!--\n",
    "<font color='gray' size=2>*Call me: Tia or Prof. Sondjaja (pronounced like \"Sonjaya\")*</font>\n",
    "-->\n",
    "\n",
    "Office: Warren Weaver Hall (WWH) 725<br>\n",
    "Office Hours\n",
    "+ Drop-in : W 2-3:30pm in WWH 705\n",
    "+ By appointment\n",
    "\n",
    "<img src=\"BioIntro2.png\" width=400>"
   ]
  },
  {
   "cell_type": "markdown",
   "metadata": {
    "slideshow": {
     "slide_type": "subslide"
    }
   },
   "source": [
    "### Teaching Assistant\n",
    "**Aparna Bhutani**<br>\n",
    "ab8473@nyu.edu\n",
    "\n",
    "Office Hours: TBA\n",
    "\n",
    "Lab Sections:\n",
    "+ Section 2: F 9:30-10:45AM, Tisch Hall LC19\n",
    "+ Section 3: F 11:00-12:15PM, Tisch Hall LC19"
   ]
  },
  {
   "cell_type": "markdown",
   "metadata": {
    "slideshow": {
     "slide_type": "subslide"
    }
   },
   "source": [
    "## What is this course about?  Why are you taking it?  What will you get out of it?"
   ]
  },
  {
   "cell_type": "markdown",
   "metadata": {
    "slideshow": {
     "slide_type": "fragment"
    }
   },
   "source": [
    "### Why are you taking it?\n",
    "Maybe...\n",
    "+ I'm required to take a QR course\n",
    "+ It works with my schedule\n",
    "+ It sounds interesting\n",
    "+ I want to know how data leads to discovery\n",
    "+ \"Data\", \"AI\", and \"Machine Learning\" are mentioned everywhere these days"
   ]
  },
  {
   "cell_type": "markdown",
   "metadata": {
    "slideshow": {
     "slide_type": "subslide"
    }
   },
   "source": [
    "### Why this course?\n",
    "\n",
    "1. **We are all consumers of data and technology.**  We better know something about how technology works and how our data are used.\n",
    "2. **Confidence in your ability to reason quantitatively**\n",
    "3. **Data and technology permeates all disciplines.**"
   ]
  },
  {
   "cell_type": "markdown",
   "metadata": {
    "slideshow": {
     "slide_type": "subslide"
    }
   },
   "source": [
    "### What will you get out of it?\n",
    "\n",
    "#### 1. A better understanding of how data are used to gain insights about our world\n",
    "+ being a critical consumer of quantitative information\n",
    "+ having an understanding for how data are used in technology and decision making\n",
    "+ being aware of issues surrounding technology and data: privacy, data ethics \n",
    "\n",
    "#### 2. A set of modern quantitative skills\n",
    "+ introduction to basic programming ideas\n",
    "+ working with data using R and Jupyter Notebooks\n",
    "+ reasoning with quantitative information\n",
    "\n",
    "#### In 10 years....\n",
    "+ You might be using technical skills that grow out from your interest in this course.  Great!\n",
    "+ You might be in a non-technical profession and might not have used any of the technical skills from this class.  That's great as well! but I hope you will\n",
    "    + [be quantitatively empowered]\n",
    "    + [be a critical consumer of quantitative information]"
   ]
  },
  {
   "cell_type": "markdown",
   "metadata": {
    "slideshow": {
     "slide_type": "slide"
    }
   },
   "source": [
    "## Syllabus"
   ]
  },
  {
   "cell_type": "markdown",
   "metadata": {
    "slideshow": {
     "slide_type": "slide"
    }
   },
   "source": [
    "## Lesson 01: Overview\n",
    "\n",
    "Today:\n",
    "1. How data leads to insights\n",
    "2. Other examples of data\n",
    "3. The computational tools: R and Jupyter Notebooks"
   ]
  },
  {
   "cell_type": "markdown",
   "metadata": {
    "slideshow": {
     "slide_type": "slide"
    }
   },
   "source": [
    "## How data leads to insights\n",
    "\n",
    "<img src=\"John_Snow.jpg\" width=200>"
   ]
  },
  {
   "cell_type": "markdown",
   "metadata": {
    "slideshow": {
     "slide_type": "subslide"
    }
   },
   "source": [
    "<img src=\"Snow-cholera-map-1.jpg\" width=500>"
   ]
  },
  {
   "cell_type": "markdown",
   "metadata": {
    "slideshow": {
     "slide_type": "subslide"
    }
   },
   "source": [
    "<img src=\"bigpicture.jpg\" width=500>"
   ]
  },
  {
   "cell_type": "markdown",
   "metadata": {
    "slideshow": {
     "slide_type": "slide"
    }
   },
   "source": [
    "## Examples of Data\n",
    "\n",
    "Survey data\n",
    "\n",
    "<table>\n",
    "    <tr>\n",
    "        <th>School</th>\n",
    "        <th>Year</th>\n",
    "        <th>Height</th>\n",
    "        <th>Favorite Ice Cream</th>\n",
    "        <th>Mac user?</th>\n",
    "    </tr>\n",
    "    <tr>\n",
    "        <td>CAS</td>\n",
    "        <td>First year</td>\n",
    "        <td>62</td>\n",
    "        <td>Strawberry</td>\n",
    "        <td>Yes</td>\n",
    "    </tr>\n",
    "    <tr>\n",
    "        <td>Tisch</td>\n",
    "        <td>Junior</td>\n",
    "        <td>71</td>\n",
    "        <td>Vanilla</td>\n",
    "        <td>No</td>\n",
    "    </tr>\n",
    "    <tr>\n",
    "        <td>Steinhardt</td>\n",
    "        <td>Junior</td>\n",
    "        <td>58</td>\n",
    "        <td>Cookies and creme</td>\n",
    "        <td>Yes</td>\n",
    "    </tr>\n",
    "</table>\n",
    "\n",
    "Data are often organized in table format:\n",
    "+ Each column is a **variable** (information of interest)\n",
    "+ Each row is an **observation** (or an **individual** or a **data point**)"
   ]
  },
  {
   "cell_type": "markdown",
   "metadata": {},
   "source": [
    "## Examples of Data: Polls\n",
    "\n",
    "<img src=\"polls_2016.jpg\" width=500>\n",
    "\n",
    "https://www.pewresearch.org/fact-tank/2016/11/09/why-2016-election-polls-missed-their-mark/"
   ]
  },
  {
   "cell_type": "markdown",
   "metadata": {
    "slideshow": {
     "slide_type": "slide"
    }
   },
   "source": [
    "## Examples of Data: Texts\n",
    "\n",
    "**The Word Choices That Explain Why Jane Austen Endures**<br>\n",
    "by Kathleen A. Flynn and Josh Katz\n",
    "\n",
    "<img src=\"janeausten_nytimes.png\" width=500>\n",
    "\n",
    "https://www.nytimes.com/2017/07/06/upshot/the-word-choices-that-explain-why-jane-austen-endures.html"
   ]
  },
  {
   "cell_type": "markdown",
   "metadata": {
    "slideshow": {
     "slide_type": "slide"
    }
   },
   "source": [
    "## Examples of Data: Images\n",
    "\n",
    "**Training computers to recognize handwritten digits**\n",
    "\n",
    "<img src=\"digitimageswithzenbrush-trainingset.jpg\" width=200><img src=\"digitimageswithzenbrush-testset.jpg\" width=200>\n",
    "\n",
    "https://mathematicaforprediction.wordpress.com/2013/08/26/classification-of-handwritten-digits/"
   ]
  },
  {
   "cell_type": "markdown",
   "metadata": {
    "slideshow": {
     "slide_type": "slide"
    }
   },
   "source": [
    "## Examples of Data: Images\n",
    "\n",
    "**Google (reverse) image search**\n",
    "+ Given an image, find similar images and other results related to the image"
   ]
  },
  {
   "cell_type": "markdown",
   "metadata": {
    "slideshow": {
     "slide_type": "slide"
    }
   },
   "source": [
    "## Examples of Data: Images\n",
    "\n",
    "<img src=\"npr_facebookfacialrecognition.png\" width=500>\n",
    "\n",
    "https://www.npr.org/sections/thetwo-way/2017/12/19/571954455/facebook-expands-use-of-facial-recognition-to-id-users-in-photos"
   ]
  },
  {
   "cell_type": "markdown",
   "metadata": {
    "slideshow": {
     "slide_type": "slide"
    }
   },
   "source": [
    "## Examples of Data: Consumer Information\n",
    "\n",
    "<img src=\"nyt_target.jpg\" width=500>\n",
    "\n",
    "https://www.nytimes.com/2012/02/19/magazine/shopping-habits.html"
   ]
  },
  {
   "cell_type": "markdown",
   "metadata": {
    "slideshow": {
     "slide_type": "slide"
    }
   },
   "source": [
    "## Data Privacy and Ethics\n",
    "\n",
    "<img src=\"forbes_target.jpg\" width=300>\n",
    "\n",
    "https://www.forbes.com/sites/kashmirhill/2012/02/16/how-target-figured-out-a-teen-girl-was-pregnant-before-her-father-did/\n",
    "https://www.kdnuggets.com/2014/05/target-predict-teen-pregnancy-inside-story.html"
   ]
  },
  {
   "cell_type": "markdown",
   "metadata": {
    "slideshow": {
     "slide_type": "slide"
    }
   },
   "source": [
    "## The computational tools: R and Jupyter Notebooks"
   ]
  },
  {
   "cell_type": "markdown",
   "metadata": {
    "slideshow": {
     "slide_type": "fragment"
    }
   },
   "source": [
    "+ **R is a \"statistical programming language\"**\n",
    "    + It allows us to work with data\n",
    "    + We will use it to introduce you to programming ideas\n",
    "    + (it's easier to pick up other programming languages once you know one)"
   ]
  },
  {
   "cell_type": "markdown",
   "metadata": {
    "slideshow": {
     "slide_type": "fragment"
    }
   },
   "source": [
    "+ **Jupyter Notebooks is a type of file.**\n",
    "    + It allows you to write texts/reports/slides (like a Word file or a PowerPoint file)\n",
    "    + and to write programs\n",
    "    + all in one file."
   ]
  },
  {
   "cell_type": "markdown",
   "metadata": {
    "slideshow": {
     "slide_type": "subslide"
    }
   },
   "source": [
    "#### You don't have to install anything\n",
    "\n",
    "All of your work using Jupyter Notebooks will be done \"in the cloud\" on a JupyterHub:\n",
    "\n",
    "<center><a href=\"https://fdtd.jupyter.hpc.nyu.edu\">fdtd.jupyter.hpc.nyu.edu</a></center>\n",
    "\n",
    "**Login:** Your NYU Net ID and password"
   ]
  },
  {
   "cell_type": "markdown",
   "metadata": {
    "slideshow": {
     "slide_type": "fragment"
    }
   },
   "source": [
    "Notes:\n",
    "+ Most of you have access to this site already.<br> <br>\n",
    "\n",
    "+ If you have just enrolled and do not yet have access to the site, please email me <br>with email subject \"Requesting access to FDTD Jupyter Hub\".<br> <br>\n",
    "\n",
    "+ If you later decide to drop the course, your access to the site will be also dropped.<br>"
   ]
  },
  {
   "cell_type": "markdown",
   "metadata": {
    "slideshow": {
     "slide_type": "subslide"
    }
   },
   "source": [
    "### Working with Jupyter Notebooks and R:  A Preview and Demonstration\n",
    "\n",
    "+ The files will be made available to you after class\n",
    "\n",
    "    Please see the Jupyter Notebook Lesson01-demonstration.ipynb on our JupyterHub for this demonstration file\n",
    "    \n",
    "    (Go to the folder class_share, under the lecture01 subfolder) <br><br>\n",
    "\n",
    "+ We will go through the steps in more details starting next class!"
   ]
  },
  {
   "cell_type": "code",
   "execution_count": null,
   "metadata": {},
   "outputs": [],
   "source": []
  }
 ],
 "metadata": {
  "celltoolbar": "Slideshow",
  "kernelspec": {
   "display_name": "R 3.5.1",
   "language": "R",
   "name": "r_3.5.1"
  },
  "language_info": {
   "codemirror_mode": "r",
   "file_extension": ".r",
   "mimetype": "text/x-r-source",
   "name": "R",
   "pygments_lexer": "r",
   "version": "3.5.1"
  }
 },
 "nbformat": 4,
 "nbformat_minor": 2
}
