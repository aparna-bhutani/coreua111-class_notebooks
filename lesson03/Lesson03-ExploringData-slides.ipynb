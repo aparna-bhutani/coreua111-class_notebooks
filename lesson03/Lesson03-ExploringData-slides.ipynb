{
 "cells": [
  {
   "cell_type": "markdown",
   "metadata": {
    "slideshow": {
     "slide_type": "slide"
    }
   },
   "source": [
    "# Lesson 3: Exploring Data\n",
    "\n",
    "Today:\n",
    "1. Data frames\n",
    "    + Useful functions: `dim()`, `names()`, `head()`\n",
    "    + Getting datasets: (1) built-in datasets; (2) datasets in your computer or from the internet using `read.csv()`\n",
    "    + Accessing columns of a data frame\n",
    "    + Accessing entries of a data frame\n",
    "2. Working with data frames\n",
    "    +  Arithmetic with lists and columns\n",
    "    +  More useful functions: `sum()`, `length()`, `max()`, `min()`\n",
    "    +  Finding average of a column using `sum()` and `length()`; using `mean()`\n",
    "    +  Finding proportions/percentages"
   ]
  },
  {
   "cell_type": "markdown",
   "metadata": {
    "slideshow": {
     "slide_type": "slide"
    }
   },
   "source": [
    "## 1. Data Frames\n",
    "\n",
    "Data Frames are essentially what R calls **tables of data** (similar to Excel spreadsheets)."
   ]
  },
  {
   "cell_type": "markdown",
   "metadata": {
    "slideshow": {
     "slide_type": "fragment"
    }
   },
   "source": [
    "+ Each **column** of a data frame corresponds to a **variable**\n",
    "+ Each **row** of a data frame corresponds to one **observation**/one **individual**."
   ]
  },
  {
   "cell_type": "markdown",
   "metadata": {
    "slideshow": {
     "slide_type": "subslide"
    }
   },
   "source": [
    "In our first class, we saw some examples of data.  One of our examples was the UC Berkeley 1973 graduate admissions data below.\n",
    "\n",
    "**Questions:**\n",
    "+ How many variables are there?  How many observations?\n",
    "+ What does each observation correspond to?"
   ]
  },
  {
   "cell_type": "code",
   "execution_count": null,
   "metadata": {},
   "outputs": [],
   "source": [
    "berkeleydata <- read.csv('berkeley73.csv')\n",
    "\n",
    "berkeleydata"
   ]
  },
  {
   "cell_type": "markdown",
   "metadata": {
    "slideshow": {
     "slide_type": "subslide"
    }
   },
   "source": [
    "In this example, each row corresponds to a department and each column is a variable about that department.  For example, the number of women applicants, the number men applicants, etc. are all variables."
   ]
  },
  {
   "cell_type": "markdown",
   "metadata": {
    "slideshow": {
     "slide_type": "subslide"
    }
   },
   "source": [
    "How do we get our data to be \"imported\" to R as a data frame?  Where do data frames that we work on in R come from?  "
   ]
  },
  {
   "cell_type": "markdown",
   "metadata": {
    "slideshow": {
     "slide_type": "fragment"
    }
   },
   "source": [
    "There are three basic ways we can get data frames in R.\n",
    "1. Built-in datasets that comes with R\n",
    "2. Importing a file from a directory in you computer or from the internet\n",
    "3. Entering data manually into a data frame"
   ]
  },
  {
   "cell_type": "markdown",
   "metadata": {
    "slideshow": {
     "slide_type": "skip"
    }
   },
   "source": [
    "1. Built-in datasets\n",
    "   \n",
    "   R comes with a few \"built-in\" data sets.  This makes it easier for beginners who want to start working with data sets that many people have found interesting and worth studying.  We will look at a couple of these today.\n",
    "\n",
    "\n",
    "2. Importing a file from a directory in your computer or from the internet\n",
    "\n",
    "    However, there are a lot of data out there and often the data we want to work with will not be the ones that automatically come with R.  Therefore, we would need to **import** the data as a data frame in R that we can work with.  We will learn how to do this today.\n",
    "    \n",
    "    \n",
    "3.  Entering data manually into a data frame\n",
    "\n",
    "    Ocasionally, we might want to type in our data manually into a data frame (for example, maybe you are collecting the data yourself.  We will learn how to do this next class (Lesson 4)."
   ]
  },
  {
   "cell_type": "markdown",
   "metadata": {
    "slideshow": {
     "slide_type": "subslide"
    }
   },
   "source": [
    "### 1.1. Built-In Datasets\n",
    "\n",
    "R comes with some datasets that are ready for us to explore.  They come in an R package called `datasets`.  \n",
    "\n",
    "\n",
    "\n",
    "At this point, this `datasets` package is a bit of a mystery.  What are in it?  "
   ]
  },
  {
   "cell_type": "markdown",
   "metadata": {
    "slideshow": {
     "slide_type": "fragment"
    }
   },
   "source": [
    "To find out further information about any R packages, you can type \n",
    "    \n",
    "    ? packagename\n",
    "and run the cell.  Try it below."
   ]
  },
  {
   "cell_type": "markdown",
   "metadata": {
    "slideshow": {
     "slide_type": "skip"
    }
   },
   "source": [
    "*(A note about **R packages**: People around the world develop new R packages all the time.  You can think of them as useful toolboxes that you can use when you find them convenient.  To tell your jupyter notebook that you want to use an R package, you need to type `library('packagename')` and run the cell; your package will then be loaded and ready to use.  We do not need to do this with the `datasets` package because it's built-in and already loaded automatically.)*"
   ]
  },
  {
   "cell_type": "code",
   "execution_count": null,
   "metadata": {
    "slideshow": {
     "slide_type": "-"
    }
   },
   "outputs": [],
   "source": [
    "? datasets"
   ]
  },
  {
   "cell_type": "markdown",
   "metadata": {
    "slideshow": {
     "slide_type": "subslide"
    }
   },
   "source": [
    "You should see a message that you can find the list of all data sets by typing and running \n",
    "    \n",
    "    library(help = 'datasets')\n",
    "\n",
    "Do it in the following code cell."
   ]
  },
  {
   "cell_type": "code",
   "execution_count": null,
   "metadata": {
    "slideshow": {
     "slide_type": "-"
    }
   },
   "outputs": [],
   "source": [
    "\n",
    "library( help = 'datasets' )\n"
   ]
  },
  {
   "cell_type": "markdown",
   "metadata": {
    "slideshow": {
     "slide_type": "subslide"
    }
   },
   "source": [
    "You will see that one such built-in datasets is the `faithful` dataset."
   ]
  },
  {
   "cell_type": "code",
   "execution_count": null,
   "metadata": {
    "slideshow": {
     "slide_type": "skip"
    }
   },
   "outputs": [],
   "source": [
    "faithful"
   ]
  },
  {
   "cell_type": "code",
   "execution_count": null,
   "metadata": {
    "slideshow": {
     "slide_type": "-"
    }
   },
   "outputs": [],
   "source": [
    "? faithful\n",
    "\n"
   ]
  },
  {
   "cell_type": "markdown",
   "metadata": {
    "slideshow": {
     "slide_type": "subslide"
    }
   },
   "source": [
    "### 1.2. Importing a file from a directory in your computer or from the internet\n",
    "\n"
   ]
  },
  {
   "cell_type": "markdown",
   "metadata": {},
   "source": [
    "We have seen the UC Berkeley 1973 graduate admissions dataset a few times now.  \n",
    "\n",
    "This dataset comes from a **\"comma separated file\" (CSV)** called `berkeley73.csv` that is stored in our lesson03 folder in our JupyterHub (the same folder this Jupyter notebook is in)."
   ]
  },
  {
   "cell_type": "markdown",
   "metadata": {
    "slideshow": {
     "slide_type": "subslide"
    }
   },
   "source": [
    "We use the function \n",
    "    \n",
    "    read.csv( 'FILENAME' )\n",
    "when we want R to \"read\" a csv file and store it as a data frame:\n",
    "+ input: the name of the csv file\n",
    "+ output: an R data frame"
   ]
  },
  {
   "cell_type": "code",
   "execution_count": null,
   "metadata": {
    "slideshow": {
     "slide_type": "subslide"
    }
   },
   "outputs": [],
   "source": [
    "\n",
    "read.csv('berkeley73.csv')\n"
   ]
  },
  {
   "cell_type": "markdown",
   "metadata": {
    "slideshow": {
     "slide_type": "subslide"
    }
   },
   "source": [
    "#### Working with files in a different folder\n",
    "\n",
    "You might notice that we have a copy of `berkeley73.csv` in each of the folders: lesson01, lesson02, and lesson03 folder.  This seems inefficient!\n",
    "\n",
    "From now on, datasets that we will work with will be stored in the following folder: \n",
    "    \n",
    "    /shared/datasets/FILENAME\n",
    "    \n",
    "So, we will have just that one copy of the csv file that we can refer to from anywhere else in our JupyterHub."
   ]
  },
  {
   "cell_type": "markdown",
   "metadata": {
    "slideshow": {
     "slide_type": "subslide"
    }
   },
   "source": [
    "**Exercise**\n",
    "\n",
    "In the `/shared/datasets` folder, there is a file called `NYC_Dog_Licensing_small.csv`.\n",
    "\n",
    "In the code cell below, please import that dataset into an R data frame named `nyc_dogs`."
   ]
  },
  {
   "cell_type": "code",
   "execution_count": 1,
   "metadata": {},
   "outputs": [],
   "source": [
    "nyc_dogs <- read.csv('../../shared/datasets/NYC_Dog_Licensing_small.csv' )"
   ]
  },
  {
   "cell_type": "markdown",
   "metadata": {
    "slideshow": {
     "slide_type": "skip"
    }
   },
   "source": [
    "This dataset comes from NYC Open Data, a site where the NYC government makes public data available.\n",
    "\n",
    "[The following is the description for the above dataset](https://data.cityofnewyork.us/Health/NYC-Dog-Licensing-Dataset/nu7n-tubp): \"All dog owners residing in NYC are required by law to license their dogs. The data is sourced from the DOHMH Dog Licensing System (https://a816-healthpsi.nyc.gov/DogLicense), where owners can apply for and renew dog licenses. Each record represents a unique dog license that was active during the year, but not necessarily a unique record per dog, since a license that is renewed during the year results in a separate record of an active license period. Each record stands as a unique license period for the dog over the course of the yearlong time frame.\"\n",
    "\n",
    "The original [NYC Dog Licensing dataset](https://data.cityofnewyork.us/Health/NYC-Dog-Licensing-Dataset/nu7n-tubp) datasets is very large (more than 300,000 rows of data).  The above smaller dataset contains 1000 randomly chosen rows from the original dataset."
   ]
  },
  {
   "cell_type": "markdown",
   "metadata": {
    "slideshow": {
     "slide_type": "subslide"
    }
   },
   "source": [
    "We could also import a csv file found directly from the internet using \n",
    "    \n",
    "    read.csv(  'LINK TO THE CSV FILE' )"
   ]
  },
  {
   "cell_type": "markdown",
   "metadata": {
    "slideshow": {
     "slide_type": "fragment"
    }
   },
   "source": [
    "**Example**<br>\n",
    "We will import a dataset from the NY State governement open data.  This page contains description of a dataset of a directory of criminal justice agencies: https://data.ny.gov/Public-Safety/Directory-of-Criminal-Justice-Agencies/gugp-n5ip\n",
    "\n",
    "+ Click on the above link\n",
    "+ Click on the `Export` button on that page\n",
    "+ Right click on the `CSV` button\n",
    "+ Choose \"copy link address\"\n",
    "\n",
    "Read the csv file linked from that address and store it as an R data frame called `criminal_justice_agencies`."
   ]
  },
  {
   "cell_type": "code",
   "execution_count": null,
   "metadata": {
    "slideshow": {
     "slide_type": "subslide"
    }
   },
   "outputs": [],
   "source": [
    "criminal_justice_agencies <- read.csv( 'https://data.ny.gov/api/views/gugp-n5ip/rows.csv?accessType=DOWNLOAD&sorting=true')"
   ]
  },
  {
   "cell_type": "markdown",
   "metadata": {
    "slideshow": {
     "slide_type": "subslide"
    }
   },
   "source": [
    "### 1.3. Useful functions for working with data frames\n",
    "\n",
    "As with lists, there are some basic functions that are useful for working with data frames.  These are:\n",
    "+ `dim( DATAFRAMENAME )`: to find the number of rows and columns in a data frame\n",
    "+ `names( DATAFRAMENAME )`: to find the column names of a data frame\n",
    "+ `head( DATAFRAMENAME )`: to preview the first few rows (ten) of a data frame.  \n",
    "    \n",
    "    If you want to see the first $n$ rows (where $n$ is any number of your choice), you can run `head(DATAFRAMENAME, n)`.\n",
    "\n",
    "Try these functions in the code cells below."
   ]
  },
  {
   "cell_type": "code",
   "execution_count": 2,
   "metadata": {
    "slideshow": {
     "slide_type": "subslide"
    }
   },
   "outputs": [
    {
     "data": {
      "text/html": [
       "<ol class=list-inline>\n",
       "\t<li>1000</li>\n",
       "\t<li>9</li>\n",
       "</ol>\n"
      ],
      "text/latex": [
       "\\begin{enumerate*}\n",
       "\\item 1000\n",
       "\\item 9\n",
       "\\end{enumerate*}\n"
      ],
      "text/markdown": [
       "1. 1000\n",
       "2. 9\n",
       "\n",
       "\n"
      ],
      "text/plain": [
       "[1] 1000    9"
      ]
     },
     "metadata": {},
     "output_type": "display_data"
    },
    {
     "data": {
      "text/html": [
       "<ol class=list-inline>\n",
       "\t<li>'AnimalName'</li>\n",
       "\t<li>'AnimalGender'</li>\n",
       "\t<li>'AnimalBirthMonth'</li>\n",
       "\t<li>'BreedName'</li>\n",
       "\t<li>'Borough'</li>\n",
       "\t<li>'ZipCode'</li>\n",
       "\t<li>'LicenseIssuedDate'</li>\n",
       "\t<li>'LicenseExpiredDate'</li>\n",
       "\t<li>'Extract.Year'</li>\n",
       "</ol>\n"
      ],
      "text/latex": [
       "\\begin{enumerate*}\n",
       "\\item 'AnimalName'\n",
       "\\item 'AnimalGender'\n",
       "\\item 'AnimalBirthMonth'\n",
       "\\item 'BreedName'\n",
       "\\item 'Borough'\n",
       "\\item 'ZipCode'\n",
       "\\item 'LicenseIssuedDate'\n",
       "\\item 'LicenseExpiredDate'\n",
       "\\item 'Extract.Year'\n",
       "\\end{enumerate*}\n"
      ],
      "text/markdown": [
       "1. 'AnimalName'\n",
       "2. 'AnimalGender'\n",
       "3. 'AnimalBirthMonth'\n",
       "4. 'BreedName'\n",
       "5. 'Borough'\n",
       "6. 'ZipCode'\n",
       "7. 'LicenseIssuedDate'\n",
       "8. 'LicenseExpiredDate'\n",
       "9. 'Extract.Year'\n",
       "\n",
       "\n"
      ],
      "text/plain": [
       "[1] \"AnimalName\"         \"AnimalGender\"       \"AnimalBirthMonth\"  \n",
       "[4] \"BreedName\"          \"Borough\"            \"ZipCode\"           \n",
       "[7] \"LicenseIssuedDate\"  \"LicenseExpiredDate\" \"Extract.Year\"      "
      ]
     },
     "metadata": {},
     "output_type": "display_data"
    },
    {
     "data": {
      "text/html": [
       "<table>\n",
       "<thead><tr><th scope=col>AnimalName</th><th scope=col>AnimalGender</th><th scope=col>AnimalBirthMonth</th><th scope=col>BreedName</th><th scope=col>Borough</th><th scope=col>ZipCode</th><th scope=col>LicenseIssuedDate</th><th scope=col>LicenseExpiredDate</th><th scope=col>Extract.Year</th></tr></thead>\n",
       "<tbody>\n",
       "\t<tr><td>KEIKO         </td><td>F             </td><td>2010          </td><td>Siberian Husky</td><td>NA            </td><td>10003         </td><td>09/12/2016    </td><td>10/15/2017    </td><td>2016          </td></tr>\n",
       "\t<tr><td>PITA          </td><td>M             </td><td>2009          </td><td>Havanese      </td><td>NA            </td><td>11357         </td><td>04/25/2016    </td><td>04/18/2017    </td><td>2017          </td></tr>\n",
       "</tbody>\n",
       "</table>\n"
      ],
      "text/latex": [
       "\\begin{tabular}{r|lllllllll}\n",
       " AnimalName & AnimalGender & AnimalBirthMonth & BreedName & Borough & ZipCode & LicenseIssuedDate & LicenseExpiredDate & Extract.Year\\\\\n",
       "\\hline\n",
       "\t KEIKO          & F              & 2010           & Siberian Husky & NA             & 10003          & 09/12/2016     & 10/15/2017     & 2016          \\\\\n",
       "\t PITA           & M              & 2009           & Havanese       & NA             & 11357          & 04/25/2016     & 04/18/2017     & 2017          \\\\\n",
       "\\end{tabular}\n"
      ],
      "text/markdown": [
       "\n",
       "AnimalName | AnimalGender | AnimalBirthMonth | BreedName | Borough | ZipCode | LicenseIssuedDate | LicenseExpiredDate | Extract.Year | \n",
       "|---|---|\n",
       "| KEIKO          | F              | 2010           | Siberian Husky | NA             | 10003          | 09/12/2016     | 10/15/2017     | 2016           | \n",
       "| PITA           | M              | 2009           | Havanese       | NA             | 11357          | 04/25/2016     | 04/18/2017     | 2017           | \n",
       "\n",
       "\n"
      ],
      "text/plain": [
       "  AnimalName AnimalGender AnimalBirthMonth BreedName      Borough ZipCode\n",
       "1 KEIKO      F            2010             Siberian Husky NA      10003  \n",
       "2 PITA       M            2009             Havanese       NA      11357  \n",
       "  LicenseIssuedDate LicenseExpiredDate Extract.Year\n",
       "1 09/12/2016        10/15/2017         2016        \n",
       "2 04/25/2016        04/18/2017         2017        "
      ]
     },
     "metadata": {},
     "output_type": "display_data"
    }
   ],
   "source": [
    "dim(nyc_dogs)\n",
    "names(nyc_dogs)\n",
    "\n",
    "head(nyc_dogs, 2)"
   ]
  },
  {
   "cell_type": "code",
   "execution_count": null,
   "metadata": {},
   "outputs": [],
   "source": [
    "# Explore the  criminal_justice_agencies dataset\n",
    "# (how many variables?  how many observations?  what are the variables?  what does each row/observation correspond to?)\n",
    "\n",
    "\n",
    "\n"
   ]
  },
  {
   "cell_type": "markdown",
   "metadata": {
    "slideshow": {
     "slide_type": "subslide"
    }
   },
   "source": [
    "### 1.4. Accessing a column of a data frame\n",
    "\n",
    "Each column of a data frame is simply a list!  \n",
    "\n",
    "Given a data frame, to obtain a list containing just one of its columns is easy, and there are two ways to do this.  \n",
    "1. `DATAFRAMENAME$COLUMNNAME`: Gives you a list containing all entries in the column `COLUMNNAME` of the data frame `DATAFRAMENAME`\n",
    "2. `DATAFRAMENAME[, COLNUM ]`: Gives you a list containing all entries in column number `COLNUM` of the data frame `DATAFRAMENAME`"
   ]
  },
  {
   "cell_type": "code",
   "execution_count": null,
   "metadata": {
    "slideshow": {
     "slide_type": "fragment"
    }
   },
   "outputs": [],
   "source": [
    "# First column of the nyc_dogs data frame\n",
    "\n",
    "# first method:\n",
    "nyc_dogs$AnimalName"
   ]
  },
  {
   "cell_type": "code",
   "execution_count": null,
   "metadata": {
    "scrolled": true,
    "slideshow": {
     "slide_type": "-"
    }
   },
   "outputs": [],
   "source": [
    "# First column of the nyc_dogs data frame:\n",
    "\n",
    "# second method:\n",
    "nyc_dogs[   ,  1 ]  #note: the spaces don't matter.  I put them in just to be able to visually see the format"
   ]
  },
  {
   "cell_type": "markdown",
   "metadata": {
    "slideshow": {
     "slide_type": "subslide"
    }
   },
   "source": [
    "**Example**<br>\n",
    "Two ways to access the breed (column 4) of the fifth dog in the dataset:"
   ]
  },
  {
   "cell_type": "code",
   "execution_count": null,
   "metadata": {},
   "outputs": [],
   "source": []
  },
  {
   "cell_type": "code",
   "execution_count": null,
   "metadata": {
    "slideshow": {
     "slide_type": "-"
    }
   },
   "outputs": [],
   "source": []
  },
  {
   "cell_type": "markdown",
   "metadata": {
    "slideshow": {
     "slide_type": "subslide"
    }
   },
   "source": [
    "### 1.5. Accessing an entry in a data frame\n",
    "\n",
    "There are also two ways to access an entry in a data frame\n",
    "1. `DATAFRAMENAME$COLUMNNAME[ ROWNUM ]`: To access an entry in row number `ROWNUM` and column called `COLUMNNAME`:\n",
    "2. `DATAFRAMENAME[ ROWNUM, COLNUM ]`: To access an entry in row number `ROWNUM` and column number `COLNUM`:"
   ]
  },
  {
   "cell_type": "markdown",
   "metadata": {
    "slideshow": {
     "slide_type": "subslide"
    }
   },
   "source": [
    "#### Example\n",
    "\n",
    "1. Find the name of the dog in the 327th row in the dataset\n",
    "2. Find the zipcode of the dog in the 596th row in the dataset"
   ]
  },
  {
   "cell_type": "code",
   "execution_count": null,
   "metadata": {},
   "outputs": [],
   "source": []
  },
  {
   "cell_type": "markdown",
   "metadata": {
    "slideshow": {
     "slide_type": "slide"
    }
   },
   "source": [
    "## 2. Working with data frames"
   ]
  },
  {
   "cell_type": "markdown",
   "metadata": {
    "slideshow": {
     "slide_type": "subslide"
    }
   },
   "source": [
    "### 2.1. Arithmetic with lists and columns\n",
    "\n",
    "Recall the data frame `berkeleydata` from before.  Suppose that we would like to compute the admission rates of men and women in each of the departments."
   ]
  },
  {
   "cell_type": "code",
   "execution_count": null,
   "metadata": {},
   "outputs": [],
   "source": []
  },
  {
   "cell_type": "markdown",
   "metadata": {
    "slideshow": {
     "slide_type": "skip"
    }
   },
   "source": [
    "For example, to compute the admission rate of women in each department, we want to divide each number in the `Women_Admitted` column by the corresponding number in the `Women_Applicants` column."
   ]
  },
  {
   "cell_type": "code",
   "execution_count": null,
   "metadata": {
    "slideshow": {
     "slide_type": "fragment"
    }
   },
   "outputs": [],
   "source": []
  },
  {
   "cell_type": "markdown",
   "metadata": {
    "slideshow": {
     "slide_type": "subslide"
    }
   },
   "source": [
    "### 2.2. Adding a new column to a data frame\n",
    "\n",
    "    DATAFRAMENAME$NEWCOLUMNNAME <- list containing entries for the new column\n",
    "\n",
    "**Example**\n",
    "Suppose that we would like to create a new column called `Men_AdmissionRate` in the `berkeleydata` dataframe."
   ]
  },
  {
   "cell_type": "code",
   "execution_count": null,
   "metadata": {},
   "outputs": [],
   "source": []
  },
  {
   "cell_type": "markdown",
   "metadata": {
    "slideshow": {
     "slide_type": "subslide"
    }
   },
   "source": [
    "**Exercise**<br>\n",
    "+ Create a new column called `Total_Admitted`, which consists of the total number of men and women addmitted to each department.\n",
    "+ Create a new column called `Overall_Admission_Rate`, which consists of the overal admission rate (men and women) admitted to each department."
   ]
  },
  {
   "cell_type": "code",
   "execution_count": null,
   "metadata": {},
   "outputs": [],
   "source": []
  },
  {
   "cell_type": "markdown",
   "metadata": {
    "collapsed": true,
    "slideshow": {
     "slide_type": "subslide"
    }
   },
   "source": [
    "### 2.3. Finding sums and averages of a column\n",
    "\n",
    "Recall that the function `sum( LISTNAME )` takes the sum of the numbers in the list `LISTNAME`.\n",
    "\n",
    "Since a column in a data frame is simply a list, we can use `sum()` for a column of a data frame."
   ]
  },
  {
   "cell_type": "markdown",
   "metadata": {
    "slideshow": {
     "slide_type": "fragment"
    }
   },
   "source": [
    "**Example**<br>\n",
    "Compute the total number of admitted women across the six departments."
   ]
  },
  {
   "cell_type": "code",
   "execution_count": null,
   "metadata": {
    "slideshow": {
     "slide_type": "-"
    }
   },
   "outputs": [],
   "source": []
  },
  {
   "cell_type": "markdown",
   "metadata": {
    "collapsed": true,
    "slideshow": {
     "slide_type": "subslide"
    }
   },
   "source": [
    "We can do arithmetic operations to columns of a data frame.\n",
    "\n",
    "**Example**<br>\n",
    "Compute the average number of admitted women across the six departments."
   ]
  },
  {
   "cell_type": "code",
   "execution_count": null,
   "metadata": {},
   "outputs": [],
   "source": []
  },
  {
   "cell_type": "markdown",
   "metadata": {
    "slideshow": {
     "slide_type": "subslide"
    }
   },
   "source": [
    "We can also compute averages (\"means\") using the `mean()` function, which returns the average of numbers in a list:"
   ]
  },
  {
   "cell_type": "code",
   "execution_count": null,
   "metadata": {},
   "outputs": [],
   "source": [
    "\n"
   ]
  }
 ],
 "metadata": {
  "celltoolbar": "Slideshow",
  "kernelspec": {
   "display_name": "R",
   "language": "R",
   "name": "ir"
  },
  "language_info": {
   "codemirror_mode": "r",
   "file_extension": ".r",
   "mimetype": "text/x-r-source",
   "name": "R",
   "pygments_lexer": "r",
   "version": "3.5.1"
  }
 },
 "nbformat": 4,
 "nbformat_minor": 2
}
