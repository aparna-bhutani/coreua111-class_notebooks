{
 "cells": [
  {
   "cell_type": "markdown",
   "metadata": {
    "slideshow": {
     "slide_type": "slide"
    }
   },
   "source": [
    "# Lesson 2: Introduction to Computing Using R\n",
    "\n",
    "Today:\n",
    "1. Working with Jupyter Notebooks\n",
    "2. Computing and arithmetic in R\n",
    "3. Working with \"names\"\n",
    "4. Types of Data\n",
    "5. Functions\n",
    "6. Lists"
   ]
  },
  {
   "cell_type": "markdown",
   "metadata": {
    "slideshow": {
     "slide_type": "slide"
    }
   },
   "source": [
    "## 1. Working with Jupyter Notebooks\n",
    "\n",
    "A Jupyter Notebook is a type of document that can be used for both writing text (like a Word document) and writing codes"
   ]
  },
  {
   "cell_type": "markdown",
   "metadata": {
    "slideshow": {
     "slide_type": "fragment"
    }
   },
   "source": [
    "A Jupyter Notebook consists of **cells** (places to enter our texts or codes)"
   ]
  },
  {
   "cell_type": "markdown",
   "metadata": {
    "slideshow": {
     "slide_type": "subslide"
    }
   },
   "source": [
    "There are two main types of cells:\n",
    "+ **Markdown cells\"**: for writing texts\n",
    "+ **Code cells**: for writing codes"
   ]
  },
  {
   "cell_type": "markdown",
   "metadata": {
    "slideshow": {
     "slide_type": "fragment"
    }
   },
   "source": [
    "To run a code in a current cell, we press Shift + Enter"
   ]
  },
  {
   "cell_type": "markdown",
   "metadata": {
    "slideshow": {
     "slide_type": "fragment"
    }
   },
   "source": [
    "*Side note*<br>\n",
    "In our course, we will write **R** codes, but in general we can write codes in other languages in a Jupyter Notebook (e.g. python), by specifying the \"kernel\" to use."
   ]
  },
  {
   "cell_type": "markdown",
   "metadata": {
    "slideshow": {
     "slide_type": "subslide"
    }
   },
   "source": [
    "## Demonstration\n",
    "\n",
    "If you happen to have a laptop or tablet, please follow along!  \n",
    "\n",
    "These lecture slides are in fact a Jupyter Notebook.  All notebooks we used in class (slides and demonstrations) will be available in the class_share folder on our Jupyter Hub (https://coreua-111.rcnyu.org) for your reference.\n",
    "\n",
    "(Sometimes, the lecture slides might be a pdf file, accompanied by Jupyter notebooks for demonstrations.)"
   ]
  },
  {
   "cell_type": "markdown",
   "metadata": {
    "slideshow": {
     "slide_type": "slide"
    }
   },
   "source": [
    "# 2. Computing and arithmetic in R\n",
    "\n",
    "We can do basic computations in R, such as adding, subtracting, multiplying, and dividing numbers"
   ]
  },
  {
   "cell_type": "code",
   "execution_count": null,
   "metadata": {},
   "outputs": [],
   "source": [
    "\n",
    "\n"
   ]
  },
  {
   "cell_type": "markdown",
   "metadata": {
    "slideshow": {
     "slide_type": "subslide"
    }
   },
   "source": [
    "#### Order of Operations"
   ]
  },
  {
   "cell_type": "code",
   "execution_count": null,
   "metadata": {},
   "outputs": [],
   "source": [
    "\n",
    "\n"
   ]
  },
  {
   "cell_type": "markdown",
   "metadata": {
    "slideshow": {
     "slide_type": "subslide"
    }
   },
   "source": [
    "#### Exponents"
   ]
  },
  {
   "cell_type": "code",
   "execution_count": null,
   "metadata": {},
   "outputs": [],
   "source": [
    "\n",
    "\n"
   ]
  },
  {
   "cell_type": "markdown",
   "metadata": {
    "slideshow": {
     "slide_type": "subslide"
    }
   },
   "source": [
    "#### Computing Averages\n",
    "Suppose that there are five students and their homework scores are: 100, 90, 100, 75, 80.  What is their average homework score?\n",
    "\n",
    "What should we type in the code cell below to compute their average homework score?"
   ]
  },
  {
   "cell_type": "code",
   "execution_count": null,
   "metadata": {},
   "outputs": [],
   "source": [
    "\n",
    "\n"
   ]
  },
  {
   "cell_type": "markdown",
   "metadata": {
    "slideshow": {
     "slide_type": "subslide"
    }
   },
   "source": [
    "#### Proportions and Percentages\n",
    "\n",
    "Suppose that out of 60 students, 25 are living in Manhattan, 11 in Brooklyn, 9 in Queens, 9 in the Bronx, 3 in Staten Island, 2 in New Jersey, and 1 in Westchester.  Find the fraction of students who live in Brooklyn.  How many percent is it?"
   ]
  },
  {
   "cell_type": "code",
   "execution_count": null,
   "metadata": {},
   "outputs": [],
   "source": [
    "\n",
    "\n"
   ]
  },
  {
   "cell_type": "markdown",
   "metadata": {
    "slideshow": {
     "slide_type": "subslide"
    }
   },
   "source": [
    "### A quick comment on Comments\n",
    "\n",
    "As your R code becomes more and more involved, it is important to make sure that you and others understand what exactly the code does.  To do this, we want to add additional explanation (in english) that we want R to ignore computationally.  This additional explanation can be added as \"comments\" in R.  For example:"
   ]
  },
  {
   "cell_type": "code",
   "execution_count": null,
   "metadata": {
    "slideshow": {
     "slide_type": "-"
    }
   },
   "outputs": [],
   "source": [
    "\n",
    "\n"
   ]
  },
  {
   "cell_type": "markdown",
   "metadata": {
    "slideshow": {
     "slide_type": "skip"
    }
   },
   "source": [
    "In the above cell, any text to the right of the `#` sign is ignored by R.  Any text that is preceded by `#` is a comment.\n",
    "\n",
    "It is good practice to accompany your code with comments, both for your benefit (when you revisit it in the future) and for others's benefit (other people might be interested in understanding what you did)."
   ]
  },
  {
   "cell_type": "markdown",
   "metadata": {
    "slideshow": {
     "slide_type": "slide"
    }
   },
   "source": [
    "# 3. Working with \"names\"\n",
    "\n",
    "Sometimes, we would like to give names to describe the quantities that we are working with so that we can easily refer to them."
   ]
  },
  {
   "cell_type": "code",
   "execution_count": null,
   "metadata": {},
   "outputs": [],
   "source": [
    "\n",
    "\n"
   ]
  },
  {
   "cell_type": "markdown",
   "metadata": {
    "slideshow": {
     "slide_type": "fragment"
    }
   },
   "source": [
    "To display the content/ the value stored in each name, we simply type the name."
   ]
  },
  {
   "cell_type": "markdown",
   "metadata": {
    "slideshow": {
     "slide_type": "subslide"
    }
   },
   "source": [
    "That is, names are \"labels\" or \"placeholders\" or \"storage units\".  We could store not just numbers, but also text.  Make sure to surround text to be stored by a single quotation mark:"
   ]
  },
  {
   "cell_type": "code",
   "execution_count": null,
   "metadata": {},
   "outputs": [],
   "source": [
    "\n",
    "\n"
   ]
  },
  {
   "cell_type": "markdown",
   "metadata": {
    "slideshow": {
     "slide_type": "subslide"
    }
   },
   "source": [
    "In addition to giving names to individual numbers or texts, we also give names to entire sets of data.\n",
    "\n",
    "For example, in the cell below, we load into R (part of) the UC Berkeley 1973 graduate admissions data that we briefly saw at the end of last class."
   ]
  },
  {
   "cell_type": "code",
   "execution_count": null,
   "metadata": {
    "scrolled": true
   },
   "outputs": [],
   "source": [
    "# There is a file called berkeley73.csv in the folder where this jupyter notebook file is located\n",
    "# We load this file\n",
    "\n",
    "\n",
    "\n",
    "\n",
    "\n",
    "# For now, the main thing to keep in mind is that we are giving a name to a data table \n",
    "#  so that we can easily refer to it and display it\n",
    "\n",
    "# When you type the name of the table and run the code, R displays the contents of the table\n",
    "\n",
    "\n",
    "\n"
   ]
  },
  {
   "cell_type": "code",
   "execution_count": null,
   "metadata": {
    "slideshow": {
     "slide_type": "subslide"
    }
   },
   "outputs": [],
   "source": []
  },
  {
   "cell_type": "markdown",
   "metadata": {
    "slideshow": {
     "slide_type": "subslide"
    }
   },
   "source": [
    "## Recap so far\n",
    "\n",
    "Today:\n",
    "1. Working with Jupyter Notebooks $\\checkmark$\n",
    "2. Computing and arithmetic in R $\\checkmark$\n",
    "    + A comment about comments $\\checkmark$\n",
    "3. Working with \"names\" $\\checkmark$\n",
    "4. Types of Data\n",
    "5. Functions\n",
    "6. Lists"
   ]
  },
  {
   "cell_type": "markdown",
   "metadata": {
    "slideshow": {
     "slide_type": "slide"
    }
   },
   "source": [
    "## 4. Types of Data\n",
    "\n",
    "Here is an outline of the main types of data we will work with:"
   ]
  },
  {
   "cell_type": "markdown",
   "metadata": {
    "slideshow": {
     "slide_type": "fragment"
    }
   },
   "source": [
    "##### 1. Numerical Data\n",
    "    \n",
    "These are data that are numbers!  They could be positive, negative, integer, or non-integer numbers."
   ]
  },
  {
   "cell_type": "markdown",
   "metadata": {
    "slideshow": {
     "slide_type": "subslide"
    }
   },
   "source": [
    "There are two main numerical data types that are stored differently in R:\n",
    "1. Whole Numbers (a.k.a. **integer**) <br><br>\n",
    "   \n",
    "2. Numbers that could have fractional/decimal parts \n",
    "      a.k.a. **doubles**, short for \"double precision\", which very roughly speaking indicates how many decimal places will be stored."
   ]
  },
  {
   "cell_type": "markdown",
   "metadata": {
    "slideshow": {
     "slide_type": "subslide"
    }
   },
   "source": [
    "##### 2. Text Data (a.k.a. string or **character**)"
   ]
  },
  {
   "cell_type": "markdown",
   "metadata": {
    "slideshow": {
     "slide_type": "fragment"
    }
   },
   "source": [
    "##### 3. Categorical/Group Data (a.k.a. **factor**)\n",
    "   \n",
    "These are data that indicates groups/categories/types.\n",
    "   \n"
   ]
  },
  {
   "cell_type": "markdown",
   "metadata": {
    "slideshow": {
     "slide_type": "fragment"
    }
   },
   "source": [
    "##### 4. Boolean Data (a.k.a. **logical** data)\n",
    "   \n",
    "These are \"binary\" data, which has only two possibilities: TRUE or FALSE values.  We will see their concrete use later."
   ]
  },
  {
   "cell_type": "markdown",
   "metadata": {
    "slideshow": {
     "slide_type": "subslide"
    }
   },
   "source": [
    "### Example\n",
    "\n",
    "Student survey data:\n",
    "\n",
    "<table>\n",
    "    <tr>\n",
    "        <th>School</th>\n",
    "        <th>Year</th>\n",
    "        <th>Height</th>\n",
    "        <th>Favorite Ice Cream</th>\n",
    "        <th>Mac user?</th>\n",
    "    </tr>\n",
    "    <tr>\n",
    "        <td>CAS</td>\n",
    "        <td>First year</td>\n",
    "        <td>62</td>\n",
    "        <td>Strawberry</td>\n",
    "        <td>Yes</td>\n",
    "    </tr>\n",
    "    <tr>\n",
    "        <td>Tisch</td>\n",
    "        <td>Junior</td>\n",
    "        <td>71</td>\n",
    "        <td>Vanilla</td>\n",
    "        <td>No</td>\n",
    "    </tr>\n",
    "    <tr>\n",
    "        <td>Steinhardt</td>\n",
    "        <td>Junior</td>\n",
    "        <td>58</td>\n",
    "        <td>Cookies and creme</td>\n",
    "        <td>Yes</td>\n",
    "    </tr>\n",
    "</table>"
   ]
  },
  {
   "cell_type": "markdown",
   "metadata": {
    "slideshow": {
     "slide_type": "fragment"
    }
   },
   "source": [
    "+ **School**: categorical\n",
    "+ **Year**: categorical\n",
    "+ **Height**: numerical (could be non-integer)\n",
    "+ **Favorite Ice Cream**: text \n",
    "+ **Mac user?**: boolean (since it's a yes/no question)\n",
    "\n",
    "Note: The data types sometimes depend on the intention of the survey.  For example, Favorite Ice Cream could have a categorical data (if user is prompted to select one from several option instead of free-typing their favorite ice cream flavor), etc."
   ]
  },
  {
   "cell_type": "markdown",
   "metadata": {
    "slideshow": {
     "slide_type": "slide"
    }
   },
   "source": [
    "## 5. Functions\n",
    "\n",
    "R allows us to do a lot of things using \"functions\".  \n",
    "\n",
    "We can think of functions in R as \"verbs\" which we can use to tell R to do a particular task.  \n"
   ]
  },
  {
   "cell_type": "markdown",
   "metadata": {
    "slideshow": {
     "slide_type": "fragment"
    }
   },
   "source": [
    "Just as some verbs in English must be followed by a noun (\"transitive verbs\") and some don't, some functions in R must take a particular object or input (often called an \"argument\") and some don't."
   ]
  },
  {
   "cell_type": "markdown",
   "metadata": {
    "slideshow": {
     "slide_type": "subslide"
    }
   },
   "source": [
    "You can also think of functions in R like mathematical functions.\n",
    "\n",
    "For example, when we say $$f(x) = 5x,$$"
   ]
  },
  {
   "cell_type": "markdown",
   "metadata": {
    "slideshow": {
     "slide_type": "subslide"
    }
   },
   "source": [
    "what we mean is:\n",
    "+ The function $f$ takes as an input number $x$.\n",
    "+ Then, the function $f$'s action is to multiply whatever $x$ is by 5"
   ]
  },
  {
   "cell_type": "markdown",
   "metadata": {
    "slideshow": {
     "slide_type": "fragment"
    }
   },
   "source": [
    "That is, the function $f$ is like a \"verb\" or an \"action\" that does something to the input $x$.  The action in this example is to multiply $x$ by 5."
   ]
  },
  {
   "cell_type": "markdown",
   "metadata": {
    "slideshow": {
     "slide_type": "subslide"
    }
   },
   "source": [
    "### Examples\n",
    "\n",
    "Let's start with simple function: the `print()` function.  It's use is to print the content of a name.  For example:"
   ]
  },
  {
   "cell_type": "code",
   "execution_count": null,
   "metadata": {
    "slideshow": {
     "slide_type": "fragment"
    }
   },
   "outputs": [],
   "source": [
    "\n",
    "\n",
    "\n"
   ]
  },
  {
   "cell_type": "markdown",
   "metadata": {
    "slideshow": {
     "slide_type": "skip"
    }
   },
   "source": [
    "Contrast the output above with the output of the cell below, where `print()` was not used:"
   ]
  },
  {
   "cell_type": "code",
   "execution_count": null,
   "metadata": {
    "slideshow": {
     "slide_type": "skip"
    }
   },
   "outputs": [],
   "source": [
    "\n",
    "\n"
   ]
  },
  {
   "cell_type": "markdown",
   "metadata": {
    "slideshow": {
     "slide_type": "subslide"
    }
   },
   "source": [
    "Notice that the \"noun\"/object that the function is acting upon is placed inside the pair of parenthes that come directly after the function name (without space between the function and the open parenthesis.)"
   ]
  },
  {
   "cell_type": "markdown",
   "metadata": {
    "slideshow": {
     "slide_type": "subslide"
    }
   },
   "source": [
    "Here are a couple other simple R functions that helps us does arithmetic:\n",
    "+ `sqrt()`: takes the square root of a number\n",
    "+ `abs()`: takes the absolute value of a number\n",
    "\n",
    "Try them by running and modifying the code cells below."
   ]
  },
  {
   "cell_type": "code",
   "execution_count": null,
   "metadata": {
    "slideshow": {
     "slide_type": "fragment"
    }
   },
   "outputs": [],
   "source": [
    "\n"
   ]
  },
  {
   "cell_type": "markdown",
   "metadata": {
    "slideshow": {
     "slide_type": "subslide"
    }
   },
   "source": [
    "### Function (summary)\n",
    "\n",
    "A function\n",
    "+ takes **input(s)** (or **argument(s)**) and\n",
    "+ does something according to the inputs.\n",
    "+ A function might also returns **output(s)**.\n",
    "\n",
    "Example:"
   ]
  },
  {
   "cell_type": "code",
   "execution_count": null,
   "metadata": {},
   "outputs": [],
   "source": [
    "\n",
    "\n"
   ]
  },
  {
   "cell_type": "markdown",
   "metadata": {
    "slideshow": {
     "slide_type": "subslide"
    }
   },
   "source": [
    "The function called `abs`\n",
    "+ takes the number -5 as an input, and\n",
    "+ computes the absolute value of the number.\n",
    "+ It then outputs the value 5 as the computed quantity."
   ]
  },
  {
   "cell_type": "markdown",
   "metadata": {
    "slideshow": {
     "slide_type": "fragment"
    }
   },
   "source": [
    "The function called `print`\n",
    "+ takes the name `x` as an input, and\n",
    "+ displays the value stored in `x`"
   ]
  },
  {
   "cell_type": "markdown",
   "metadata": {
    "slideshow": {
     "slide_type": "subslide"
    }
   },
   "source": [
    "Summary of useful general functions we've seen so far:\n",
    "+ `print()`: to display the value stored in a name\n",
    "+ `abs()`: to take the absolute value of a number\n",
    "+ `sqrt()`: to take the square root of a number"
   ]
  },
  {
   "cell_type": "markdown",
   "metadata": {
    "slideshow": {
     "slide_type": "slide"
    }
   },
   "source": [
    "## 6. Lists\n",
    "\n",
    "Sometimes, we need to work not just with one number but a collection of numbers; in R, these collections of numbers are called lists."
   ]
  },
  {
   "cell_type": "markdown",
   "metadata": {
    "slideshow": {
     "slide_type": "subslide"
    }
   },
   "source": [
    "### 6.1. Making a new list using the `c()` function"
   ]
  },
  {
   "cell_type": "code",
   "execution_count": null,
   "metadata": {},
   "outputs": [],
   "source": [
    "\n",
    "\n"
   ]
  },
  {
   "cell_type": "markdown",
   "metadata": {
    "slideshow": {
     "slide_type": "fragment"
    }
   },
   "source": [
    "We use the function `c()` to put together several different values into one object, a list.  See the example below, where we store the heights of the three students into one list, which we name `height`:"
   ]
  },
  {
   "cell_type": "code",
   "execution_count": null,
   "metadata": {},
   "outputs": [],
   "source": [
    "\n",
    "\n"
   ]
  },
  {
   "cell_type": "markdown",
   "metadata": {
    "slideshow": {
     "slide_type": "subslide"
    }
   },
   "source": [
    "### 6.2. Making a new list of integers (second method)\n",
    "Here is a second way to create a list containing consecutive integers: `firstInteger:lastInteger`."
   ]
  },
  {
   "cell_type": "markdown",
   "metadata": {
    "slideshow": {
     "slide_type": "skip"
    }
   },
   "source": [
    "For example, instead of using `c(1, 2, 3, 4, 5, 6, 7, 8, 9, 10)` to create a list of all integers from 1 to 10, we could have created the same list using the following command: `1:10`, which is more concise.  Try it below and name this list `my_other_list`:"
   ]
  },
  {
   "cell_type": "code",
   "execution_count": null,
   "metadata": {
    "slideshow": {
     "slide_type": "fragment"
    }
   },
   "outputs": [],
   "source": [
    "\n",
    "\n"
   ]
  },
  {
   "cell_type": "markdown",
   "metadata": {
    "slideshow": {
     "slide_type": "subslide"
    }
   },
   "source": [
    "This is particularly useful if you want to create a very long list.  For example, if we want to create a list of all integers from -100 to 100:"
   ]
  },
  {
   "cell_type": "code",
   "execution_count": null,
   "metadata": {
    "scrolled": true
   },
   "outputs": [],
   "source": [
    "\n",
    "\n"
   ]
  },
  {
   "cell_type": "markdown",
   "metadata": {
    "slideshow": {
     "slide_type": "subslide"
    }
   },
   "source": [
    "### 6.3. Lists of text data\n",
    "\n",
    "We can also create a list of text data"
   ]
  },
  {
   "cell_type": "code",
   "execution_count": null,
   "metadata": {
    "slideshow": {
     "slide_type": "fragment"
    }
   },
   "outputs": [],
   "source": [
    "\n",
    "\n"
   ]
  },
  {
   "cell_type": "markdown",
   "metadata": {
    "slideshow": {
     "slide_type": "subslide"
    }
   },
   "source": [
    "### 6.4. Arithmetic with numeric lists\n",
    "\n",
    "If we have a list containing numerical data (i.e., a list of numbers), we can in fact do arithmetic with them.  For example:"
   ]
  },
  {
   "cell_type": "code",
   "execution_count": null,
   "metadata": {
    "slideshow": {
     "slide_type": "fragment"
    }
   },
   "outputs": [],
   "source": [
    "\n",
    "\n"
   ]
  },
  {
   "cell_type": "markdown",
   "metadata": {
    "slideshow": {
     "slide_type": "subslide"
    }
   },
   "source": [
    "### 6.5. Useful functions for working with lists\n",
    "\n",
    "In addition to the function `c()`, which we use to make new lists, the following are three other useful functions that we can use to examine lists:\n",
    "+ `length()`: to find the \"length\" of a list (i.e. how many values are stored in a list \n",
    "+ `max()`: to find the largest value in a list\n",
    "+ `min()`: to find the smallest value in a list\n",
    "Try them by running and modifying the code cells below."
   ]
  },
  {
   "cell_type": "code",
   "execution_count": null,
   "metadata": {
    "slideshow": {
     "slide_type": "subslide"
    }
   },
   "outputs": [],
   "source": [
    "\n",
    "\n"
   ]
  },
  {
   "cell_type": "markdown",
   "metadata": {
    "slideshow": {
     "slide_type": "subslide"
    }
   },
   "source": [
    "**Exercise** Create a list of all integers from 1 to 10 and name this list `my_new_list`.  Then, \n",
    "1. print the contents of this list.\n",
    "2. find the sum of the integers 1, 2, ... , 10"
   ]
  },
  {
   "cell_type": "markdown",
   "metadata": {
    "slideshow": {
     "slide_type": "subslide"
    }
   },
   "source": [
    "##### 2-Minute Group Work\n",
    "How might you do the following in R as succinctly as possible?  Think about this question on your own for about 30 seconds, then discuss with at least one neighbor.\n",
    "1. Create a list containing the first 50 positive even numbers\n",
    "2. Create a list containing the first 50 positive odd numbers"
   ]
  },
  {
   "cell_type": "markdown",
   "metadata": {
    "slideshow": {
     "slide_type": "slide"
    }
   },
   "source": [
    "## Summary\n",
    "\n",
    "Today:\n",
    "1. Working with Jupyter Notebooks $\\checkmark$\n",
    "2. Computing and arithmetic in R $\\checkmark$\n",
    "    + A comment about \"comments\" $\\checkmark$\n",
    "3. Working with \"names\" $\\checkmark$\n",
    "4. Types of Data $\\checkmark$\n",
    "5. Functions $\\checkmark$\n",
    "6. Lists $\\checkmark$"
   ]
  },
  {
   "cell_type": "markdown",
   "metadata": {
    "slideshow": {
     "slide_type": "slide"
    }
   },
   "source": [
    "## Summary of new R functions\n",
    "Here's a brief summary of the new R functions we learned today.  You should be familiar with these functions and able to use them in labs and projects.\n",
    "\n",
    "You might want to add their descriptions down here as you review/study.  As you use these functions frequently in labs, projects, and homework, you will learn to remember and understand them and be more \"fluent\" in using them.\n",
    "\n",
    "+ General functions\n",
    "    + print()\n",
    "    + sqrt()\n",
    "    + abs()\n",
    "+ Functions for checking types of data\n",
    "    + typeof()\n",
    "    + class()\n",
    "+ Functions for working with lists\n",
    "    + c()\n",
    "    + length()\n",
    "    + max()\n",
    "    + min()"
   ]
  },
  {
   "cell_type": "code",
   "execution_count": null,
   "metadata": {},
   "outputs": [],
   "source": []
  }
 ],
 "metadata": {
  "celltoolbar": "Slideshow",
  "kernelspec": {
   "display_name": "R",
   "language": "R",
   "name": "ir"
  },
  "language_info": {
   "codemirror_mode": "r",
   "file_extension": ".r",
   "mimetype": "text/x-r-source",
   "name": "R",
   "pygments_lexer": "r",
   "version": "3.5.1"
  }
 },
 "nbformat": 4,
 "nbformat_minor": 2
}
