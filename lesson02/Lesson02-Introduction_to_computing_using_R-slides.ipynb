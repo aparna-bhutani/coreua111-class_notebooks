{
 "cells": [
  {
   "cell_type": "markdown",
   "metadata": {
    "slideshow": {
     "slide_type": "slide"
    }
   },
   "source": [
    "# Lesson 2: Introduction to Computing Using R\n",
    "\n",
    "Today:\n",
    "1. Working with Jupyter Notebooks\n",
    "2. Computing and arithmetic in R\n",
    "3. Working with \"names\"\n",
    "4. Types of Data\n",
    "5. Functions\n",
    "6. Lists"
   ]
  },
  {
   "cell_type": "markdown",
   "metadata": {
    "slideshow": {
     "slide_type": "slide"
    }
   },
   "source": [
    "## 1. Working with Jupyter Notebooks\n",
    "\n",
    "A Jupyter Notebook is a type of document that can be used for both writing text (like a Word document) and writing codes"
   ]
  },
  {
   "cell_type": "markdown",
   "metadata": {
    "slideshow": {
     "slide_type": "fragment"
    }
   },
   "source": [
    "A Jupyter Notebook consists of **cells** (places to enter our texts or codes)"
   ]
  },
  {
   "cell_type": "markdown",
   "metadata": {
    "slideshow": {
     "slide_type": "subslide"
    }
   },
   "source": [
    "There are two main types of cells:\n",
    "+ **Markdown cells\"**: for writing texts\n",
    "+ **Code cells**: for writing codes"
   ]
  },
  {
   "cell_type": "markdown",
   "metadata": {
    "slideshow": {
     "slide_type": "fragment"
    }
   },
   "source": [
    "To run a code in a current cell, we press Shift + Enter"
   ]
  },
  {
   "cell_type": "markdown",
   "metadata": {
    "slideshow": {
     "slide_type": "fragment"
    }
   },
   "source": [
    "*Side note*<br>\n",
    "In our course, we will write **R** codes, but in general we can write codes in other languages in a Jupyter Notebook (e.g. python), by specifying the \"kernel\" to use."
   ]
  },
  {
   "cell_type": "markdown",
   "metadata": {
    "slideshow": {
     "slide_type": "subslide"
    }
   },
   "source": [
    "## Demonstration\n",
    "\n",
    "If you happen to have a laptop or tablet, please follow along!  \n",
    "\n",
    "These lecture slides are in fact a Jupyter Notebook.  All notebooks we used in class (slides and demonstrations) will be available in the class_share folder on our Jupyter Hub (https://coreua-111.rcnyu.org) for your reference.\n",
    "\n",
    "(Sometimes, the lecture slides might be a pdf file, accompanied by Jupyter notebooks for demonstrations.)"
   ]
  },
  {
   "cell_type": "markdown",
   "metadata": {
    "slideshow": {
     "slide_type": "slide"
    }
   },
   "source": [
    "# 2. Computing and arithmetic in R\n",
    "\n",
    "We can do basic computations in R, such as adding, subtracting, multiplying, and dividing numbers"
   ]
  },
  {
   "cell_type": "code",
   "execution_count": 6,
   "metadata": {},
   "outputs": [
    {
     "data": {
      "text/html": [
       "15"
      ],
      "text/latex": [
       "15"
      ],
      "text/markdown": [
       "15"
      ],
      "text/plain": [
       "[1] 15"
      ]
     },
     "metadata": {},
     "output_type": "display_data"
    }
   ],
   "source": [
    "(12 + 3)  * 2 / 2\n",
    "\n"
   ]
  },
  {
   "cell_type": "markdown",
   "metadata": {
    "slideshow": {
     "slide_type": "subslide"
    }
   },
   "source": [
    "#### Order of Operations"
   ]
  },
  {
   "cell_type": "code",
   "execution_count": null,
   "metadata": {},
   "outputs": [],
   "source": [
    "\n",
    "\n"
   ]
  },
  {
   "cell_type": "markdown",
   "metadata": {
    "slideshow": {
     "slide_type": "subslide"
    }
   },
   "source": [
    "#### Exponents"
   ]
  },
  {
   "cell_type": "code",
   "execution_count": 11,
   "metadata": {},
   "outputs": [
    {
     "data": {
      "text/html": [
       "9"
      ],
      "text/latex": [
       "9"
      ],
      "text/markdown": [
       "9"
      ],
      "text/plain": [
       "[1] 9"
      ]
     },
     "metadata": {},
     "output_type": "display_data"
    },
    {
     "data": {
      "text/html": [
       "64"
      ],
      "text/latex": [
       "64"
      ],
      "text/markdown": [
       "64"
      ],
      "text/plain": [
       "[1] 64"
      ]
     },
     "metadata": {},
     "output_type": "display_data"
    },
    {
     "data": {
      "text/html": [
       "9"
      ],
      "text/latex": [
       "9"
      ],
      "text/markdown": [
       "9"
      ],
      "text/plain": [
       "[1] 9"
      ]
     },
     "metadata": {},
     "output_type": "display_data"
    },
    {
     "data": {
      "text/html": [
       "64"
      ],
      "text/latex": [
       "64"
      ],
      "text/markdown": [
       "64"
      ],
      "text/plain": [
       "[1] 64"
      ]
     },
     "metadata": {},
     "output_type": "display_data"
    }
   ],
   "source": [
    "3 ** 2\n",
    "\n",
    "4 ** 3\n",
    "\n",
    "3^2\n",
    "\n",
    "4^3"
   ]
  },
  {
   "cell_type": "markdown",
   "metadata": {
    "slideshow": {
     "slide_type": "subslide"
    }
   },
   "source": [
    "#### Computing Averages\n",
    "Suppose that there are five students and their homework scores are: 100, 90, 100, 75, 80.  What is their average homework score?\n",
    "\n",
    "What should we type in the code cell below to compute their average homework score?"
   ]
  },
  {
   "cell_type": "code",
   "execution_count": 12,
   "metadata": {},
   "outputs": [
    {
     "data": {
      "text/html": [
       "89"
      ],
      "text/latex": [
       "89"
      ],
      "text/markdown": [
       "89"
      ],
      "text/plain": [
       "[1] 89"
      ]
     },
     "metadata": {},
     "output_type": "display_data"
    }
   ],
   "source": [
    "\n",
    "(  100 + 90 + 100 + 75 + 80  ) /5"
   ]
  },
  {
   "cell_type": "markdown",
   "metadata": {
    "slideshow": {
     "slide_type": "subslide"
    }
   },
   "source": [
    "#### Proportions and Percentages\n",
    "\n",
    "Suppose that out of 60 students, 25 are living in Manhattan, 11 in Brooklyn, 9 in Queens, 9 in the Bronx, 3 in Staten Island, 2 in New Jersey, and 1 in Westchester.  Find the fraction of students who live in Brooklyn.  How many percent is it?"
   ]
  },
  {
   "cell_type": "code",
   "execution_count": 13,
   "metadata": {},
   "outputs": [
    {
     "data": {
      "text/html": [
       "18.3333333333333"
      ],
      "text/latex": [
       "18.3333333333333"
      ],
      "text/markdown": [
       "18.3333333333333"
      ],
      "text/plain": [
       "[1] 18.33333"
      ]
     },
     "metadata": {},
     "output_type": "display_data"
    }
   ],
   "source": [
    "\n",
    "( 100 * 11 ) / 60\n"
   ]
  },
  {
   "cell_type": "markdown",
   "metadata": {
    "slideshow": {
     "slide_type": "subslide"
    }
   },
   "source": [
    "### A quick comment on Comments\n",
    "\n",
    "As your R code becomes more and more involved, it is important to make sure that you and others understand what exactly the code does.  To do this, we want to add additional explanation (in english) that we want R to ignore computationally.  This additional explanation can be added as \"comments\" in R.  For example:"
   ]
  },
  {
   "cell_type": "code",
   "execution_count": 16,
   "metadata": {
    "slideshow": {
     "slide_type": "-"
    }
   },
   "outputs": [
    {
     "data": {
      "text/html": [
       "18.3333333333333"
      ],
      "text/latex": [
       "18.3333333333333"
      ],
      "text/markdown": [
       "18.3333333333333"
      ],
      "text/plain": [
       "[1] 18.33333"
      ]
     },
     "metadata": {},
     "output_type": "display_data"
    }
   ],
   "source": [
    "# 11 students out of 60 lives in brooklyn; \n",
    "# multiply by 100 since we are computing a percentage\n",
    "\n",
    "100 * 11/60\n",
    "\n"
   ]
  },
  {
   "cell_type": "markdown",
   "metadata": {
    "slideshow": {
     "slide_type": "skip"
    }
   },
   "source": [
    "In the above cell, any text to the right of the `#` sign is ignored by R.  Any text that is preceded by `#` is a comment.\n",
    "\n",
    "It is good practice to accompany your code with comments, both for your benefit (when you revisit it in the future) and for others's benefit (other people might be interested in understanding what you did)."
   ]
  },
  {
   "cell_type": "markdown",
   "metadata": {
    "slideshow": {
     "slide_type": "slide"
    }
   },
   "source": [
    "# 3. Working with \"names\"\n",
    "\n",
    "Sometimes, we would like to give names to describe the quantities that we are working with so that we can easily refer to them."
   ]
  },
  {
   "cell_type": "code",
   "execution_count": 24,
   "metadata": {},
   "outputs": [
    {
     "data": {
      "text/html": [
       "20"
      ],
      "text/latex": [
       "20"
      ],
      "text/markdown": [
       "20"
      ],
      "text/plain": [
       "[1] 20"
      ]
     },
     "metadata": {},
     "output_type": "display_data"
    },
    {
     "data": {
      "text/html": [
       "5"
      ],
      "text/latex": [
       "5"
      ],
      "text/markdown": [
       "5"
      ],
      "text/plain": [
       "[1] 5"
      ]
     },
     "metadata": {},
     "output_type": "display_data"
    },
    {
     "data": {
      "text/html": [
       "4"
      ],
      "text/latex": [
       "4"
      ],
      "text/markdown": [
       "4"
      ],
      "text/plain": [
       "[1] 4"
      ]
     },
     "metadata": {},
     "output_type": "display_data"
    }
   ],
   "source": [
    "price_of_pie <- 20\n",
    "number_of_people <- 5\n",
    "# display the values stored in the names:\n",
    "price_of_pie\n",
    "number_of_people\n",
    "# To compute cost per person: divide price of pie by num of people\n",
    "cost_per_person  <- price_of_pie / number_of_people\n",
    "cost_per_person"
   ]
  },
  {
   "cell_type": "markdown",
   "metadata": {
    "slideshow": {
     "slide_type": "fragment"
    }
   },
   "source": [
    "To display the content/ the value stored in each name, we simply type the name."
   ]
  },
  {
   "cell_type": "markdown",
   "metadata": {
    "slideshow": {
     "slide_type": "subslide"
    }
   },
   "source": [
    "That is, names are \"labels\" or \"placeholders\" or \"storage units\".  We could store not just numbers, but also text.  Make sure to surround text to be stored by a single quotation mark:"
   ]
  },
  {
   "cell_type": "code",
   "execution_count": 27,
   "metadata": {},
   "outputs": [
    {
     "data": {
      "text/html": [
       "'Alex Smith'"
      ],
      "text/latex": [
       "'Alex Smith'"
      ],
      "text/markdown": [
       "'Alex Smith'"
      ],
      "text/plain": [
       "[1] \"Alex Smith\""
      ]
     },
     "metadata": {},
     "output_type": "display_data"
    }
   ],
   "source": [
    "student1 <- 'Alex Smith'\n",
    "\n",
    "student1\n"
   ]
  },
  {
   "cell_type": "markdown",
   "metadata": {
    "slideshow": {
     "slide_type": "subslide"
    }
   },
   "source": [
    "In addition to giving names to individual numbers or texts, we also give names to entire sets of data.\n",
    "\n",
    "For example, in the cell below, we load into R (part of) the UC Berkeley 1973 graduate admissions data that we briefly saw at the end of last class."
   ]
  },
  {
   "cell_type": "code",
   "execution_count": 31,
   "metadata": {
    "scrolled": true
   },
   "outputs": [
    {
     "data": {
      "text/html": [
       "<table>\n",
       "<thead><tr><th scope=col>Department</th><th scope=col>Men_Applicants</th><th scope=col>Men_Admitted</th><th scope=col>Women_Applicants</th><th scope=col>Women_Admitted</th></tr></thead>\n",
       "<tbody>\n",
       "\t<tr><td>A  </td><td>825</td><td>512</td><td>108</td><td> 89</td></tr>\n",
       "\t<tr><td>B  </td><td>560</td><td>353</td><td> 25</td><td> 17</td></tr>\n",
       "\t<tr><td>C  </td><td>325</td><td>120</td><td>593</td><td>202</td></tr>\n",
       "\t<tr><td>D  </td><td>417</td><td>138</td><td>375</td><td>131</td></tr>\n",
       "\t<tr><td>E  </td><td>191</td><td> 53</td><td>393</td><td> 94</td></tr>\n",
       "\t<tr><td>F  </td><td>373</td><td> 22</td><td>341</td><td> 24</td></tr>\n",
       "</tbody>\n",
       "</table>\n"
      ],
      "text/latex": [
       "\\begin{tabular}{r|lllll}\n",
       " Department & Men\\_Applicants & Men\\_Admitted & Women\\_Applicants & Women\\_Admitted\\\\\n",
       "\\hline\n",
       "\t A   & 825 & 512 & 108 &  89\\\\\n",
       "\t B   & 560 & 353 &  25 &  17\\\\\n",
       "\t C   & 325 & 120 & 593 & 202\\\\\n",
       "\t D   & 417 & 138 & 375 & 131\\\\\n",
       "\t E   & 191 &  53 & 393 &  94\\\\\n",
       "\t F   & 373 &  22 & 341 &  24\\\\\n",
       "\\end{tabular}\n"
      ],
      "text/markdown": [
       "\n",
       "Department | Men_Applicants | Men_Admitted | Women_Applicants | Women_Admitted | \n",
       "|---|---|---|---|---|---|\n",
       "| A   | 825 | 512 | 108 |  89 | \n",
       "| B   | 560 | 353 |  25 |  17 | \n",
       "| C   | 325 | 120 | 593 | 202 | \n",
       "| D   | 417 | 138 | 375 | 131 | \n",
       "| E   | 191 |  53 | 393 |  94 | \n",
       "| F   | 373 |  22 | 341 |  24 | \n",
       "\n",
       "\n"
      ],
      "text/plain": [
       "  Department Men_Applicants Men_Admitted Women_Applicants Women_Admitted\n",
       "1 A          825            512          108               89           \n",
       "2 B          560            353           25               17           \n",
       "3 C          325            120          593              202           \n",
       "4 D          417            138          375              131           \n",
       "5 E          191             53          393               94           \n",
       "6 F          373             22          341               24           "
      ]
     },
     "metadata": {},
     "output_type": "display_data"
    }
   ],
   "source": [
    "# There is a file called berkeley73.csv in the folder where this jupyter notebook file is located\n",
    "# We load this file\n",
    "\n",
    "berkeley <- read.csv('berkeley73.csv')\n",
    "\n",
    "# For now, the main thing to keep in mind is that we are giving a name to a data table \n",
    "#  so that we can easily refer to it and display it\n",
    "\n",
    "# When you type the name of the table and run the code, R displays the contents of the table\n"
   ]
  },
  {
   "cell_type": "code",
   "execution_count": 32,
   "metadata": {
    "slideshow": {
     "slide_type": "subslide"
    }
   },
   "outputs": [
    {
     "data": {
      "text/html": [
       "<table>\n",
       "<thead><tr><th scope=col>Department</th><th scope=col>Men_Applicants</th><th scope=col>Men_Admitted</th><th scope=col>Women_Applicants</th><th scope=col>Women_Admitted</th></tr></thead>\n",
       "<tbody>\n",
       "\t<tr><td>A  </td><td>825</td><td>512</td><td>108</td><td> 89</td></tr>\n",
       "\t<tr><td>B  </td><td>560</td><td>353</td><td> 25</td><td> 17</td></tr>\n",
       "\t<tr><td>C  </td><td>325</td><td>120</td><td>593</td><td>202</td></tr>\n",
       "\t<tr><td>D  </td><td>417</td><td>138</td><td>375</td><td>131</td></tr>\n",
       "\t<tr><td>E  </td><td>191</td><td> 53</td><td>393</td><td> 94</td></tr>\n",
       "\t<tr><td>F  </td><td>373</td><td> 22</td><td>341</td><td> 24</td></tr>\n",
       "</tbody>\n",
       "</table>\n"
      ],
      "text/latex": [
       "\\begin{tabular}{r|lllll}\n",
       " Department & Men\\_Applicants & Men\\_Admitted & Women\\_Applicants & Women\\_Admitted\\\\\n",
       "\\hline\n",
       "\t A   & 825 & 512 & 108 &  89\\\\\n",
       "\t B   & 560 & 353 &  25 &  17\\\\\n",
       "\t C   & 325 & 120 & 593 & 202\\\\\n",
       "\t D   & 417 & 138 & 375 & 131\\\\\n",
       "\t E   & 191 &  53 & 393 &  94\\\\\n",
       "\t F   & 373 &  22 & 341 &  24\\\\\n",
       "\\end{tabular}\n"
      ],
      "text/markdown": [
       "\n",
       "Department | Men_Applicants | Men_Admitted | Women_Applicants | Women_Admitted | \n",
       "|---|---|---|---|---|---|\n",
       "| A   | 825 | 512 | 108 |  89 | \n",
       "| B   | 560 | 353 |  25 |  17 | \n",
       "| C   | 325 | 120 | 593 | 202 | \n",
       "| D   | 417 | 138 | 375 | 131 | \n",
       "| E   | 191 |  53 | 393 |  94 | \n",
       "| F   | 373 |  22 | 341 |  24 | \n",
       "\n",
       "\n"
      ],
      "text/plain": [
       "  Department Men_Applicants Men_Admitted Women_Applicants Women_Admitted\n",
       "1 A          825            512          108               89           \n",
       "2 B          560            353           25               17           \n",
       "3 C          325            120          593              202           \n",
       "4 D          417            138          375              131           \n",
       "5 E          191             53          393               94           \n",
       "6 F          373             22          341               24           "
      ]
     },
     "metadata": {},
     "output_type": "display_data"
    }
   ],
   "source": [
    "berkeley"
   ]
  },
  {
   "cell_type": "markdown",
   "metadata": {
    "slideshow": {
     "slide_type": "subslide"
    }
   },
   "source": [
    "## Recap so far\n",
    "\n",
    "Today:\n",
    "1. Working with Jupyter Notebooks $\\checkmark$\n",
    "2. Computing and arithmetic in R $\\checkmark$\n",
    "    + A comment about comments $\\checkmark$\n",
    "3. Working with \"names\" $\\checkmark$\n",
    "4. Types of Data\n",
    "5. Functions\n",
    "6. Lists"
   ]
  },
  {
   "cell_type": "markdown",
   "metadata": {
    "slideshow": {
     "slide_type": "slide"
    }
   },
   "source": [
    "## 4. Types of Data\n",
    "\n",
    "Here is an outline of the main types of data we will work with:"
   ]
  },
  {
   "cell_type": "markdown",
   "metadata": {
    "slideshow": {
     "slide_type": "fragment"
    }
   },
   "source": [
    "##### 1. Numerical Data\n",
    "    \n",
    "These are data that are numbers!  They could be positive, negative, integer, or non-integer numbers."
   ]
  },
  {
   "cell_type": "markdown",
   "metadata": {
    "slideshow": {
     "slide_type": "subslide"
    }
   },
   "source": [
    "There are two main numerical data types that are stored differently in R:\n",
    "1. Whole Numbers (a.k.a. **integer**) <br><br>\n",
    "   \n",
    "2. Numbers that could have fractional/decimal parts \n",
    "      a.k.a. **doubles**, short for \"double precision\", which very roughly speaking indicates how many decimal places will be stored."
   ]
  },
  {
   "cell_type": "markdown",
   "metadata": {
    "slideshow": {
     "slide_type": "subslide"
    }
   },
   "source": [
    "##### 2. Text Data (a.k.a. string or **character**)"
   ]
  },
  {
   "cell_type": "markdown",
   "metadata": {
    "slideshow": {
     "slide_type": "fragment"
    }
   },
   "source": [
    "##### 3. Categorical/Group Data (a.k.a. **factor**)\n",
    "   \n",
    "These are data that indicates groups/categories/types.\n",
    "   \n"
   ]
  },
  {
   "cell_type": "markdown",
   "metadata": {
    "slideshow": {
     "slide_type": "fragment"
    }
   },
   "source": [
    "##### 4. Boolean Data (a.k.a. **logical** data)\n",
    "   \n",
    "These are \"binary\" data, which has only two possibilities: TRUE or FALSE values.  We will see their concrete use later."
   ]
  },
  {
   "cell_type": "markdown",
   "metadata": {
    "slideshow": {
     "slide_type": "subslide"
    }
   },
   "source": [
    "### Example\n",
    "\n",
    "Student survey data:\n",
    "\n",
    "<table>\n",
    "    <tr>\n",
    "        <th>School</th>\n",
    "        <th>Year</th>\n",
    "        <th>Height</th>\n",
    "        <th>Favorite Ice Cream</th>\n",
    "        <th>Mac user?</th>\n",
    "    </tr>\n",
    "    <tr>\n",
    "        <td>CAS</td>\n",
    "        <td>First year</td>\n",
    "        <td>62</td>\n",
    "        <td>Strawberry</td>\n",
    "        <td>Yes</td>\n",
    "    </tr>\n",
    "    <tr>\n",
    "        <td>Tisch</td>\n",
    "        <td>Junior</td>\n",
    "        <td>71</td>\n",
    "        <td>Vanilla</td>\n",
    "        <td>No</td>\n",
    "    </tr>\n",
    "    <tr>\n",
    "        <td>Steinhardt</td>\n",
    "        <td>Junior</td>\n",
    "        <td>58</td>\n",
    "        <td>Cookies and creme</td>\n",
    "        <td>Yes</td>\n",
    "    </tr>\n",
    "</table>"
   ]
  },
  {
   "cell_type": "markdown",
   "metadata": {
    "slideshow": {
     "slide_type": "fragment"
    }
   },
   "source": [
    "+ **School**: categorical\n",
    "+ **Year**: categorical\n",
    "+ **Height**: numerical (could be non-integer)\n",
    "+ **Favorite Ice Cream**: text \n",
    "+ **Mac user?**: boolean (since it's a yes/no question)\n",
    "\n",
    "Note: The data types sometimes depend on the intention of the survey.  For example, Favorite Ice Cream could have a categorical data (if user is prompted to select one from several option instead of free-typing their favorite ice cream flavor), etc."
   ]
  },
  {
   "cell_type": "markdown",
   "metadata": {
    "slideshow": {
     "slide_type": "slide"
    }
   },
   "source": [
    "## 5. Functions\n",
    "\n",
    "R allows us to do a lot of things using \"functions\".  \n",
    "\n",
    "We can think of functions in R as \"verbs\" which we can use to tell R to do a particular task.  \n"
   ]
  },
  {
   "cell_type": "markdown",
   "metadata": {
    "slideshow": {
     "slide_type": "fragment"
    }
   },
   "source": [
    "Just as some verbs in English must be followed by a noun (\"transitive verbs\") and some don't, some functions in R must take a particular object or input (often called an \"argument\") and some don't."
   ]
  },
  {
   "cell_type": "markdown",
   "metadata": {
    "slideshow": {
     "slide_type": "subslide"
    }
   },
   "source": [
    "You can also think of functions in R like mathematical functions.\n",
    "\n",
    "For example, when we say $$f(x) = 5x,$$"
   ]
  },
  {
   "cell_type": "markdown",
   "metadata": {
    "slideshow": {
     "slide_type": "subslide"
    }
   },
   "source": [
    "what we mean is:\n",
    "+ The function $f$ takes as an input number $x$.\n",
    "+ Then, the function $f$'s action is to multiply whatever $x$ is by 5"
   ]
  },
  {
   "cell_type": "markdown",
   "metadata": {
    "slideshow": {
     "slide_type": "fragment"
    }
   },
   "source": [
    "That is, the function $f$ is like a \"verb\" or an \"action\" that does something to the input $x$.  The action in this example is to multiply $x$ by 5."
   ]
  },
  {
   "cell_type": "markdown",
   "metadata": {
    "slideshow": {
     "slide_type": "subslide"
    }
   },
   "source": [
    "### Examples\n",
    "\n",
    "Let's start with simple function: the `print()` function.  It's use is to print the content of a name.  For example:"
   ]
  },
  {
   "cell_type": "code",
   "execution_count": 35,
   "metadata": {
    "slideshow": {
     "slide_type": "fragment"
    }
   },
   "outputs": [
    {
     "data": {
      "text/html": [
       "20"
      ],
      "text/latex": [
       "20"
      ],
      "text/markdown": [
       "20"
      ],
      "text/plain": [
       "[1] 20"
      ]
     },
     "metadata": {},
     "output_type": "display_data"
    },
    {
     "data": {
      "text/html": [
       "'Alex Smith'"
      ],
      "text/latex": [
       "'Alex Smith'"
      ],
      "text/markdown": [
       "'Alex Smith'"
      ],
      "text/plain": [
       "[1] \"Alex Smith\""
      ]
     },
     "metadata": {},
     "output_type": "display_data"
    },
    {
     "name": "stdout",
     "output_type": "stream",
     "text": [
      "[1] 20\n",
      "[1] \"Alex Smith\"\n"
     ]
    }
   ],
   "source": [
    "price_of_pie\n",
    "student1\n",
    "print(  price_of_pie  )\n",
    "print(student1)\n",
    "\n"
   ]
  },
  {
   "cell_type": "markdown",
   "metadata": {
    "slideshow": {
     "slide_type": "skip"
    }
   },
   "source": [
    "Contrast the output above with the output of the cell below, where `print()` was not used:"
   ]
  },
  {
   "cell_type": "code",
   "execution_count": null,
   "metadata": {
    "slideshow": {
     "slide_type": "skip"
    }
   },
   "outputs": [],
   "source": [
    "\n",
    "\n"
   ]
  },
  {
   "cell_type": "markdown",
   "metadata": {
    "slideshow": {
     "slide_type": "subslide"
    }
   },
   "source": [
    "Notice that the \"noun\"/object that the function is acting upon is placed inside the pair of parenthes that come directly after the function name (without space between the function and the open parenthesis.)"
   ]
  },
  {
   "cell_type": "markdown",
   "metadata": {
    "slideshow": {
     "slide_type": "subslide"
    }
   },
   "source": [
    "Here are a couple other simple R functions that helps us does arithmetic:\n",
    "+ `sqrt()`: takes the square root of a number\n",
    "+ `abs()`: takes the absolute value of a number\n",
    "\n",
    "Try them by running and modifying the code cells below."
   ]
  },
  {
   "cell_type": "code",
   "execution_count": 37,
   "metadata": {
    "slideshow": {
     "slide_type": "fragment"
    }
   },
   "outputs": [
    {
     "data": {
      "text/html": [
       "4"
      ],
      "text/latex": [
       "4"
      ],
      "text/markdown": [
       "4"
      ],
      "text/plain": [
       "[1] 4"
      ]
     },
     "metadata": {},
     "output_type": "display_data"
    },
    {
     "data": {
      "text/html": [
       "3.1415"
      ],
      "text/latex": [
       "3.1415"
      ],
      "text/markdown": [
       "3.1415"
      ],
      "text/plain": [
       "[1] 3.1415"
      ]
     },
     "metadata": {},
     "output_type": "display_data"
    }
   ],
   "source": [
    "sqrt( 16 )\n",
    "\n",
    "abs(  -3.1415)\n"
   ]
  },
  {
   "cell_type": "markdown",
   "metadata": {
    "slideshow": {
     "slide_type": "subslide"
    }
   },
   "source": [
    "### Function (summary)\n",
    "\n",
    "A function\n",
    "+ takes **input(s)** (or **argument(s)**) and\n",
    "+ does something according to the inputs.\n",
    "+ A function might also returns **output(s)**.\n",
    "\n",
    "Example:"
   ]
  },
  {
   "cell_type": "code",
   "execution_count": 39,
   "metadata": {},
   "outputs": [
    {
     "name": "stdout",
     "output_type": "stream",
     "text": [
      "[1] 4\n"
     ]
    }
   ],
   "source": [
    "my_fave_number <- sqrt( 16 )\n",
    "\n",
    "print(my_fave_number)\n"
   ]
  },
  {
   "cell_type": "markdown",
   "metadata": {
    "slideshow": {
     "slide_type": "subslide"
    }
   },
   "source": [
    "The function called `abs`\n",
    "+ takes the number -5 as an input, and\n",
    "+ computes the absolute value of the number.\n",
    "+ It then outputs the value 5 as the computed quantity."
   ]
  },
  {
   "cell_type": "markdown",
   "metadata": {
    "slideshow": {
     "slide_type": "fragment"
    }
   },
   "source": [
    "The function called `print`\n",
    "+ takes the name `x` as an input, and\n",
    "+ displays the value stored in `x`"
   ]
  },
  {
   "cell_type": "markdown",
   "metadata": {
    "slideshow": {
     "slide_type": "subslide"
    }
   },
   "source": [
    "Summary of useful general functions we've seen so far:\n",
    "+ `print()`: to display the value stored in a name\n",
    "+ `abs()`: to take the absolute value of a number\n",
    "+ `sqrt()`: to take the square root of a number"
   ]
  },
  {
   "cell_type": "markdown",
   "metadata": {
    "slideshow": {
     "slide_type": "slide"
    }
   },
   "source": [
    "## 6. Lists\n",
    "\n",
    "Sometimes, we need to work not just with one number but a collection of numbers; in R, these collections of numbers are called lists."
   ]
  },
  {
   "cell_type": "markdown",
   "metadata": {
    "slideshow": {
     "slide_type": "subslide"
    }
   },
   "source": [
    "### 6.1. Making a new list using the `c()` function"
   ]
  },
  {
   "cell_type": "code",
   "execution_count": 3,
   "metadata": {},
   "outputs": [
    {
     "data": {
      "text/html": [
       "<ol class=list-inline>\n",
       "\t<li>72</li>\n",
       "\t<li>65</li>\n",
       "\t<li>59</li>\n",
       "</ol>\n"
      ],
      "text/latex": [
       "\\begin{enumerate*}\n",
       "\\item 72\n",
       "\\item 65\n",
       "\\item 59\n",
       "\\end{enumerate*}\n"
      ],
      "text/markdown": [
       "1. 72\n",
       "2. 65\n",
       "3. 59\n",
       "\n",
       "\n"
      ],
      "text/plain": [
       "[1] 72 65 59"
      ]
     },
     "metadata": {},
     "output_type": "display_data"
    },
    {
     "data": {
      "text/html": [
       "72"
      ],
      "text/latex": [
       "72"
      ],
      "text/markdown": [
       "72"
      ],
      "text/plain": [
       "[1] 72"
      ]
     },
     "metadata": {},
     "output_type": "display_data"
    }
   ],
   "source": [
    "height_Alex <- 72\n",
    "height_Pat <- 65\n",
    "height_Chang <- 59\n",
    "\n",
    "c( 72, 65, 59)\n",
    "\n",
    "height_Alex"
   ]
  },
  {
   "cell_type": "markdown",
   "metadata": {
    "slideshow": {
     "slide_type": "fragment"
    }
   },
   "source": [
    "We use the function `c()` to put together several different values into one object, a list.  See the example below, where we store the heights of the three students into one list, which we name `height`:"
   ]
  },
  {
   "cell_type": "code",
   "execution_count": 4,
   "metadata": {},
   "outputs": [],
   "source": [
    "heights <- c( height_Alex, height_Pat, height_Chang )\n",
    "#heights <- c( 72, 65, 59  )"
   ]
  },
  {
   "cell_type": "code",
   "execution_count": 5,
   "metadata": {},
   "outputs": [
    {
     "data": {
      "text/html": [
       "<ol class=list-inline>\n",
       "\t<li>72</li>\n",
       "\t<li>65</li>\n",
       "\t<li>59</li>\n",
       "</ol>\n"
      ],
      "text/latex": [
       "\\begin{enumerate*}\n",
       "\\item 72\n",
       "\\item 65\n",
       "\\item 59\n",
       "\\end{enumerate*}\n"
      ],
      "text/markdown": [
       "1. 72\n",
       "2. 65\n",
       "3. 59\n",
       "\n",
       "\n"
      ],
      "text/plain": [
       "[1] 72 65 59"
      ]
     },
     "metadata": {},
     "output_type": "display_data"
    }
   ],
   "source": [
    "heights"
   ]
  },
  {
   "cell_type": "markdown",
   "metadata": {
    "slideshow": {
     "slide_type": "subslide"
    }
   },
   "source": [
    "We can also create a list of text data"
   ]
  },
  {
   "cell_type": "code",
   "execution_count": 11,
   "metadata": {
    "slideshow": {
     "slide_type": "fragment"
    }
   },
   "outputs": [
    {
     "data": {
      "text/html": [
       "<ol class=list-inline>\n",
       "\t<li>'pineapple'</li>\n",
       "\t<li>'mango'</li>\n",
       "\t<li>'apple'</li>\n",
       "</ol>\n"
      ],
      "text/latex": [
       "\\begin{enumerate*}\n",
       "\\item 'pineapple'\n",
       "\\item 'mango'\n",
       "\\item 'apple'\n",
       "\\end{enumerate*}\n"
      ],
      "text/markdown": [
       "1. 'pineapple'\n",
       "2. 'mango'\n",
       "3. 'apple'\n",
       "\n",
       "\n"
      ],
      "text/plain": [
       "[1] \"pineapple\" \"mango\"     \"apple\"    "
      ]
     },
     "metadata": {},
     "output_type": "display_data"
    },
    {
     "name": "stdout",
     "output_type": "stream",
     "text": [
      "[1] \"pineapple\" \"mango\"     \"apple\"    \n"
     ]
    }
   ],
   "source": [
    "my_fave_fruits <- c(   'pineapple', 'mango', 'apple' )\n",
    "\n",
    "my_fave_fruits\n",
    "print(my_fave_fruits)"
   ]
  },
  {
   "cell_type": "markdown",
   "metadata": {
    "slideshow": {
     "slide_type": "subslide"
    }
   },
   "source": [
    "### 6.2. Making a new list of integers (second method)\n",
    "Here is a second way to create a list containing consecutive integers: `firstInteger:lastInteger`."
   ]
  },
  {
   "cell_type": "markdown",
   "metadata": {
    "slideshow": {
     "slide_type": "skip"
    }
   },
   "source": [
    "For example, instead of using `c(1, 2, 3, 4, 5, 6, 7, 8, 9, 10)` to create a list of all integers from 1 to 10, we could have created the same list using the following command: `1:10`, which is more concise.  Try it below and name this list `my_other_list`:"
   ]
  },
  {
   "cell_type": "code",
   "execution_count": 13,
   "metadata": {},
   "outputs": [
    {
     "data": {
      "text/html": [
       "<ol class=list-inline>\n",
       "\t<li>1</li>\n",
       "\t<li>2</li>\n",
       "\t<li>3</li>\n",
       "\t<li>4</li>\n",
       "\t<li>5</li>\n",
       "\t<li>6</li>\n",
       "\t<li>7</li>\n",
       "\t<li>8</li>\n",
       "\t<li>9</li>\n",
       "\t<li>10</li>\n",
       "</ol>\n"
      ],
      "text/latex": [
       "\\begin{enumerate*}\n",
       "\\item 1\n",
       "\\item 2\n",
       "\\item 3\n",
       "\\item 4\n",
       "\\item 5\n",
       "\\item 6\n",
       "\\item 7\n",
       "\\item 8\n",
       "\\item 9\n",
       "\\item 10\n",
       "\\end{enumerate*}\n"
      ],
      "text/markdown": [
       "1. 1\n",
       "2. 2\n",
       "3. 3\n",
       "4. 4\n",
       "5. 5\n",
       "6. 6\n",
       "7. 7\n",
       "8. 8\n",
       "9. 9\n",
       "10. 10\n",
       "\n",
       "\n"
      ],
      "text/plain": [
       " [1]  1  2  3  4  5  6  7  8  9 10"
      ]
     },
     "metadata": {},
     "output_type": "display_data"
    },
    {
     "data": {
      "text/html": [
       "<ol class=list-inline>\n",
       "\t<li>1</li>\n",
       "\t<li>2</li>\n",
       "\t<li>3</li>\n",
       "\t<li>4</li>\n",
       "\t<li>5</li>\n",
       "\t<li>6</li>\n",
       "\t<li>7</li>\n",
       "\t<li>8</li>\n",
       "\t<li>9</li>\n",
       "\t<li>10</li>\n",
       "</ol>\n"
      ],
      "text/latex": [
       "\\begin{enumerate*}\n",
       "\\item 1\n",
       "\\item 2\n",
       "\\item 3\n",
       "\\item 4\n",
       "\\item 5\n",
       "\\item 6\n",
       "\\item 7\n",
       "\\item 8\n",
       "\\item 9\n",
       "\\item 10\n",
       "\\end{enumerate*}\n"
      ],
      "text/markdown": [
       "1. 1\n",
       "2. 2\n",
       "3. 3\n",
       "4. 4\n",
       "5. 5\n",
       "6. 6\n",
       "7. 7\n",
       "8. 8\n",
       "9. 9\n",
       "10. 10\n",
       "\n",
       "\n"
      ],
      "text/plain": [
       " [1]  1  2  3  4  5  6  7  8  9 10"
      ]
     },
     "metadata": {},
     "output_type": "display_data"
    }
   ],
   "source": [
    "1:10\n",
    "c(1, 2, 3, 4, 5, 6, 7, 8, 9, 10)"
   ]
  },
  {
   "cell_type": "code",
   "execution_count": 49,
   "metadata": {
    "slideshow": {
     "slide_type": "fragment"
    }
   },
   "outputs": [
    {
     "data": {
      "text/html": [
       "<ol class=list-inline>\n",
       "\t<li>-4</li>\n",
       "\t<li>-3</li>\n",
       "\t<li>-2</li>\n",
       "\t<li>-1</li>\n",
       "\t<li>0</li>\n",
       "\t<li>1</li>\n",
       "\t<li>2</li>\n",
       "\t<li>3</li>\n",
       "\t<li>4</li>\n",
       "\t<li>5</li>\n",
       "\t<li>6</li>\n",
       "\t<li>7</li>\n",
       "\t<li>8</li>\n",
       "\t<li>9</li>\n",
       "\t<li>10</li>\n",
       "\t<li>11</li>\n",
       "\t<li>12</li>\n",
       "\t<li>13</li>\n",
       "\t<li>14</li>\n",
       "\t<li>15</li>\n",
       "\t<li>16</li>\n",
       "\t<li>17</li>\n",
       "\t<li>18</li>\n",
       "\t<li>19</li>\n",
       "\t<li>20</li>\n",
       "\t<li>21</li>\n",
       "\t<li>22</li>\n",
       "\t<li>23</li>\n",
       "\t<li>24</li>\n",
       "\t<li>25</li>\n",
       "\t<li>26</li>\n",
       "\t<li>27</li>\n",
       "\t<li>28</li>\n",
       "\t<li>29</li>\n",
       "\t<li>30</li>\n",
       "\t<li>31</li>\n",
       "\t<li>32</li>\n",
       "\t<li>33</li>\n",
       "\t<li>34</li>\n",
       "\t<li>35</li>\n",
       "\t<li>36</li>\n",
       "\t<li>37</li>\n",
       "\t<li>38</li>\n",
       "\t<li>39</li>\n",
       "\t<li>40</li>\n",
       "\t<li>41</li>\n",
       "\t<li>42</li>\n",
       "\t<li>43</li>\n",
       "\t<li>44</li>\n",
       "\t<li>45</li>\n",
       "\t<li>46</li>\n",
       "\t<li>47</li>\n",
       "\t<li>48</li>\n",
       "\t<li>49</li>\n",
       "\t<li>50</li>\n",
       "\t<li>51</li>\n",
       "\t<li>52</li>\n",
       "\t<li>53</li>\n",
       "\t<li>54</li>\n",
       "\t<li>55</li>\n",
       "\t<li>56</li>\n",
       "\t<li>57</li>\n",
       "\t<li>58</li>\n",
       "\t<li>59</li>\n",
       "\t<li>60</li>\n",
       "\t<li>61</li>\n",
       "\t<li>62</li>\n",
       "\t<li>63</li>\n",
       "\t<li>64</li>\n",
       "\t<li>65</li>\n",
       "\t<li>66</li>\n",
       "\t<li>67</li>\n",
       "\t<li>68</li>\n",
       "\t<li>69</li>\n",
       "\t<li>70</li>\n",
       "\t<li>71</li>\n",
       "\t<li>72</li>\n",
       "\t<li>73</li>\n",
       "\t<li>74</li>\n",
       "\t<li>75</li>\n",
       "\t<li>76</li>\n",
       "\t<li>77</li>\n",
       "\t<li>78</li>\n",
       "\t<li>79</li>\n",
       "\t<li>80</li>\n",
       "\t<li>81</li>\n",
       "\t<li>82</li>\n",
       "\t<li>83</li>\n",
       "\t<li>84</li>\n",
       "\t<li>85</li>\n",
       "\t<li>86</li>\n",
       "\t<li>87</li>\n",
       "\t<li>88</li>\n",
       "\t<li>89</li>\n",
       "\t<li>90</li>\n",
       "\t<li>91</li>\n",
       "\t<li>92</li>\n",
       "\t<li>93</li>\n",
       "\t<li>94</li>\n",
       "\t<li>95</li>\n",
       "\t<li>96</li>\n",
       "\t<li>97</li>\n",
       "\t<li>98</li>\n",
       "\t<li>99</li>\n",
       "\t<li>100</li>\n",
       "</ol>\n"
      ],
      "text/latex": [
       "\\begin{enumerate*}\n",
       "\\item -4\n",
       "\\item -3\n",
       "\\item -2\n",
       "\\item -1\n",
       "\\item 0\n",
       "\\item 1\n",
       "\\item 2\n",
       "\\item 3\n",
       "\\item 4\n",
       "\\item 5\n",
       "\\item 6\n",
       "\\item 7\n",
       "\\item 8\n",
       "\\item 9\n",
       "\\item 10\n",
       "\\item 11\n",
       "\\item 12\n",
       "\\item 13\n",
       "\\item 14\n",
       "\\item 15\n",
       "\\item 16\n",
       "\\item 17\n",
       "\\item 18\n",
       "\\item 19\n",
       "\\item 20\n",
       "\\item 21\n",
       "\\item 22\n",
       "\\item 23\n",
       "\\item 24\n",
       "\\item 25\n",
       "\\item 26\n",
       "\\item 27\n",
       "\\item 28\n",
       "\\item 29\n",
       "\\item 30\n",
       "\\item 31\n",
       "\\item 32\n",
       "\\item 33\n",
       "\\item 34\n",
       "\\item 35\n",
       "\\item 36\n",
       "\\item 37\n",
       "\\item 38\n",
       "\\item 39\n",
       "\\item 40\n",
       "\\item 41\n",
       "\\item 42\n",
       "\\item 43\n",
       "\\item 44\n",
       "\\item 45\n",
       "\\item 46\n",
       "\\item 47\n",
       "\\item 48\n",
       "\\item 49\n",
       "\\item 50\n",
       "\\item 51\n",
       "\\item 52\n",
       "\\item 53\n",
       "\\item 54\n",
       "\\item 55\n",
       "\\item 56\n",
       "\\item 57\n",
       "\\item 58\n",
       "\\item 59\n",
       "\\item 60\n",
       "\\item 61\n",
       "\\item 62\n",
       "\\item 63\n",
       "\\item 64\n",
       "\\item 65\n",
       "\\item 66\n",
       "\\item 67\n",
       "\\item 68\n",
       "\\item 69\n",
       "\\item 70\n",
       "\\item 71\n",
       "\\item 72\n",
       "\\item 73\n",
       "\\item 74\n",
       "\\item 75\n",
       "\\item 76\n",
       "\\item 77\n",
       "\\item 78\n",
       "\\item 79\n",
       "\\item 80\n",
       "\\item 81\n",
       "\\item 82\n",
       "\\item 83\n",
       "\\item 84\n",
       "\\item 85\n",
       "\\item 86\n",
       "\\item 87\n",
       "\\item 88\n",
       "\\item 89\n",
       "\\item 90\n",
       "\\item 91\n",
       "\\item 92\n",
       "\\item 93\n",
       "\\item 94\n",
       "\\item 95\n",
       "\\item 96\n",
       "\\item 97\n",
       "\\item 98\n",
       "\\item 99\n",
       "\\item 100\n",
       "\\end{enumerate*}\n"
      ],
      "text/markdown": [
       "1. -4\n",
       "2. -3\n",
       "3. -2\n",
       "4. -1\n",
       "5. 0\n",
       "6. 1\n",
       "7. 2\n",
       "8. 3\n",
       "9. 4\n",
       "10. 5\n",
       "11. 6\n",
       "12. 7\n",
       "13. 8\n",
       "14. 9\n",
       "15. 10\n",
       "16. 11\n",
       "17. 12\n",
       "18. 13\n",
       "19. 14\n",
       "20. 15\n",
       "21. 16\n",
       "22. 17\n",
       "23. 18\n",
       "24. 19\n",
       "25. 20\n",
       "26. 21\n",
       "27. 22\n",
       "28. 23\n",
       "29. 24\n",
       "30. 25\n",
       "31. 26\n",
       "32. 27\n",
       "33. 28\n",
       "34. 29\n",
       "35. 30\n",
       "36. 31\n",
       "37. 32\n",
       "38. 33\n",
       "39. 34\n",
       "40. 35\n",
       "41. 36\n",
       "42. 37\n",
       "43. 38\n",
       "44. 39\n",
       "45. 40\n",
       "46. 41\n",
       "47. 42\n",
       "48. 43\n",
       "49. 44\n",
       "50. 45\n",
       "51. 46\n",
       "52. 47\n",
       "53. 48\n",
       "54. 49\n",
       "55. 50\n",
       "56. 51\n",
       "57. 52\n",
       "58. 53\n",
       "59. 54\n",
       "60. 55\n",
       "61. 56\n",
       "62. 57\n",
       "63. 58\n",
       "64. 59\n",
       "65. 60\n",
       "66. 61\n",
       "67. 62\n",
       "68. 63\n",
       "69. 64\n",
       "70. 65\n",
       "71. 66\n",
       "72. 67\n",
       "73. 68\n",
       "74. 69\n",
       "75. 70\n",
       "76. 71\n",
       "77. 72\n",
       "78. 73\n",
       "79. 74\n",
       "80. 75\n",
       "81. 76\n",
       "82. 77\n",
       "83. 78\n",
       "84. 79\n",
       "85. 80\n",
       "86. 81\n",
       "87. 82\n",
       "88. 83\n",
       "89. 84\n",
       "90. 85\n",
       "91. 86\n",
       "92. 87\n",
       "93. 88\n",
       "94. 89\n",
       "95. 90\n",
       "96. 91\n",
       "97. 92\n",
       "98. 93\n",
       "99. 94\n",
       "100. 95\n",
       "101. 96\n",
       "102. 97\n",
       "103. 98\n",
       "104. 99\n",
       "105. 100\n",
       "\n",
       "\n"
      ],
      "text/plain": [
       "  [1]  -4  -3  -2  -1   0   1   2   3   4   5   6   7   8   9  10  11  12  13\n",
       " [19]  14  15  16  17  18  19  20  21  22  23  24  25  26  27  28  29  30  31\n",
       " [37]  32  33  34  35  36  37  38  39  40  41  42  43  44  45  46  47  48  49\n",
       " [55]  50  51  52  53  54  55  56  57  58  59  60  61  62  63  64  65  66  67\n",
       " [73]  68  69  70  71  72  73  74  75  76  77  78  79  80  81  82  83  84  85\n",
       " [91]  86  87  88  89  90  91  92  93  94  95  96  97  98  99 100"
      ]
     },
     "metadata": {},
     "output_type": "display_data"
    },
    {
     "name": "stdout",
     "output_type": "stream",
     "text": [
      "  [1]  -4  -3  -2  -1   0   1   2   3   4   5   6   7   8   9  10  11  12  13\n",
      " [19]  14  15  16  17  18  19  20  21  22  23  24  25  26  27  28  29  30  31\n",
      " [37]  32  33  34  35  36  37  38  39  40  41  42  43  44  45  46  47  48  49\n",
      " [55]  50  51  52  53  54  55  56  57  58  59  60  61  62  63  64  65  66  67\n",
      " [73]  68  69  70  71  72  73  74  75  76  77  78  79  80  81  82  83  84  85\n",
      " [91]  86  87  88  89  90  91  92  93  94  95  96  97  98  99 100\n"
     ]
    }
   ],
   "source": [
    "my_other_list <- -4:100\n",
    "my_other_list\n",
    "\n",
    "print(my_other_list)"
   ]
  },
  {
   "cell_type": "markdown",
   "metadata": {
    "slideshow": {
     "slide_type": "subslide"
    }
   },
   "source": [
    "This is particularly useful if you want to create a very long list.  For example, if we want to create a list of all integers from -100 to 100:"
   ]
  },
  {
   "cell_type": "code",
   "execution_count": null,
   "metadata": {
    "scrolled": true
   },
   "outputs": [],
   "source": []
  },
  {
   "cell_type": "markdown",
   "metadata": {
    "slideshow": {
     "slide_type": "subslide"
    }
   },
   "source": [
    "### 6.4. Arithmetic with numeric lists\n",
    "\n",
    "If we have a list containing numerical data (i.e., a list of numbers), we can in fact do arithmetic with them.  For example:"
   ]
  },
  {
   "cell_type": "code",
   "execution_count": 17,
   "metadata": {
    "slideshow": {
     "slide_type": "fragment"
    }
   },
   "outputs": [
    {
     "data": {
      "text/html": [
       "<ol class=list-inline>\n",
       "\t<li>182.88</li>\n",
       "\t<li>165.1</li>\n",
       "\t<li>149.86</li>\n",
       "</ol>\n"
      ],
      "text/latex": [
       "\\begin{enumerate*}\n",
       "\\item 182.88\n",
       "\\item 165.1\n",
       "\\item 149.86\n",
       "\\end{enumerate*}\n"
      ],
      "text/markdown": [
       "1. 182.88\n",
       "2. 165.1\n",
       "3. 149.86\n",
       "\n",
       "\n"
      ],
      "text/plain": [
       "[1] 182.88 165.10 149.86"
      ]
     },
     "metadata": {},
     "output_type": "display_data"
    }
   ],
   "source": [
    "# convert heights from inches to cm\n",
    "heights * 2.54\n"
   ]
  },
  {
   "cell_type": "code",
   "execution_count": 18,
   "metadata": {},
   "outputs": [
    {
     "data": {
      "text/html": [
       "<ol class=list-inline>\n",
       "\t<li>7.5</li>\n",
       "\t<li>11.75</li>\n",
       "\t<li>9.91666666666667</li>\n",
       "</ol>\n"
      ],
      "text/latex": [
       "\\begin{enumerate*}\n",
       "\\item 7.5\n",
       "\\item 11.75\n",
       "\\item 9.91666666666667\n",
       "\\end{enumerate*}\n"
      ],
      "text/markdown": [
       "1. 7.5\n",
       "2. 11.75\n",
       "3. 9.91666666666667\n",
       "\n",
       "\n"
      ],
      "text/plain": [
       "[1]  7.500000 11.750000  9.916667"
      ]
     },
     "metadata": {},
     "output_type": "display_data"
    }
   ],
   "source": [
    "prices_of_pies <- c( 15, 47, 29.75 )\n",
    "num_of_roommates <- c(2 , 4 , 3 )\n",
    "\n",
    "prices_of_pies / num_of_roommates"
   ]
  },
  {
   "cell_type": "markdown",
   "metadata": {
    "slideshow": {
     "slide_type": "subslide"
    }
   },
   "source": [
    "### 6.5. Useful functions for working with lists\n",
    "\n",
    "In addition to the function `c()`, which we use to make new lists, the following are three other useful functions that we can use to examine lists:\n",
    "+ `length()`: to find the \"length\" of a list (i.e. how many values are stored in a list \n",
    "+ `max()`: to find the largest value in a list\n",
    "+ `min()`: to find the smallest value in a list\n",
    "\n",
    "Try them by running and modifying the code cells below."
   ]
  },
  {
   "cell_type": "code",
   "execution_count": 27,
   "metadata": {
    "slideshow": {
     "slide_type": "subslide"
    }
   },
   "outputs": [
    {
     "data": {
      "text/html": [
       "3"
      ],
      "text/latex": [
       "3"
      ],
      "text/markdown": [
       "3"
      ],
      "text/plain": [
       "[1] 3"
      ]
     },
     "metadata": {},
     "output_type": "display_data"
    },
    {
     "data": {
      "text/html": [
       "47"
      ],
      "text/latex": [
       "47"
      ],
      "text/markdown": [
       "47"
      ],
      "text/plain": [
       "[1] 47"
      ]
     },
     "metadata": {},
     "output_type": "display_data"
    },
    {
     "data": {
      "text/html": [
       "15"
      ],
      "text/latex": [
       "15"
      ],
      "text/markdown": [
       "15"
      ],
      "text/plain": [
       "[1] 15"
      ]
     },
     "metadata": {},
     "output_type": "display_data"
    },
    {
     "data": {
      "text/html": [
       "30.5833333333333"
      ],
      "text/latex": [
       "30.5833333333333"
      ],
      "text/markdown": [
       "30.5833333333333"
      ],
      "text/plain": [
       "[1] 30.58333"
      ]
     },
     "metadata": {},
     "output_type": "display_data"
    },
    {
     "data": {
      "text/html": [
       "30.5833333333333"
      ],
      "text/latex": [
       "30.5833333333333"
      ],
      "text/markdown": [
       "30.5833333333333"
      ],
      "text/plain": [
       "[1] 30.58333"
      ]
     },
     "metadata": {},
     "output_type": "display_data"
    }
   ],
   "source": [
    "length(prices_of_pies)\n",
    "\n",
    "max(prices_of_pies)\n",
    "\n",
    "min(prices_of_pies)\n",
    "\n",
    "# average of numbers in the list prices_of_pies\n",
    "sum(prices_of_pies) / length(prices_of_pies)\n",
    "\n",
    "mean(prices_of_pies)"
   ]
  },
  {
   "cell_type": "markdown",
   "metadata": {
    "slideshow": {
     "slide_type": "subslide"
    }
   },
   "source": [
    "**Exercise** Create a list of all integers from 1 to 10 and name this list `my_new_list`.  Then, \n",
    "1. print the contents of this list.\n",
    "2. find the sum of the integers 1, 2, ... , 10"
   ]
  },
  {
   "cell_type": "code",
   "execution_count": 30,
   "metadata": {},
   "outputs": [
    {
     "data": {
      "text/html": [
       "55"
      ],
      "text/latex": [
       "55"
      ],
      "text/markdown": [
       "55"
      ],
      "text/plain": [
       "[1] 55"
      ]
     },
     "metadata": {},
     "output_type": "display_data"
    },
    {
     "data": {
      "text/html": [
       "55"
      ],
      "text/latex": [
       "55"
      ],
      "text/markdown": [
       "55"
      ],
      "text/plain": [
       "[1] 55"
      ]
     },
     "metadata": {},
     "output_type": "display_data"
    }
   ],
   "source": [
    "sum(1:10)\n",
    "\n",
    "my_new_list <- 1:10\n",
    "sum(my_new_list)\n",
    "\n",
    "#print(my_new_list)"
   ]
  },
  {
   "cell_type": "markdown",
   "metadata": {
    "slideshow": {
     "slide_type": "subslide"
    }
   },
   "source": [
    "##### 2-Minute Group Work\n",
    "How might you do the following in R as succinctly as possible?  Think about this question on your own for about 30 seconds, then discuss with at least one neighbor.\n",
    "1. Create a list containing the first 50 positive even numbers\n",
    "2. Create a list containing the first 50 positive odd numbers"
   ]
  },
  {
   "cell_type": "code",
   "execution_count": 34,
   "metadata": {},
   "outputs": [
    {
     "data": {
      "text/html": [
       "<ol class=list-inline>\n",
       "\t<li>2</li>\n",
       "\t<li>4</li>\n",
       "\t<li>6</li>\n",
       "\t<li>8</li>\n",
       "\t<li>10</li>\n",
       "\t<li>12</li>\n",
       "\t<li>14</li>\n",
       "\t<li>16</li>\n",
       "\t<li>18</li>\n",
       "\t<li>20</li>\n",
       "\t<li>22</li>\n",
       "\t<li>24</li>\n",
       "\t<li>26</li>\n",
       "\t<li>28</li>\n",
       "\t<li>30</li>\n",
       "\t<li>32</li>\n",
       "\t<li>34</li>\n",
       "\t<li>36</li>\n",
       "\t<li>38</li>\n",
       "\t<li>40</li>\n",
       "\t<li>42</li>\n",
       "\t<li>44</li>\n",
       "\t<li>46</li>\n",
       "\t<li>48</li>\n",
       "\t<li>50</li>\n",
       "\t<li>52</li>\n",
       "\t<li>54</li>\n",
       "\t<li>56</li>\n",
       "\t<li>58</li>\n",
       "\t<li>60</li>\n",
       "\t<li>62</li>\n",
       "\t<li>64</li>\n",
       "\t<li>66</li>\n",
       "\t<li>68</li>\n",
       "\t<li>70</li>\n",
       "\t<li>72</li>\n",
       "\t<li>74</li>\n",
       "\t<li>76</li>\n",
       "\t<li>78</li>\n",
       "\t<li>80</li>\n",
       "\t<li>82</li>\n",
       "\t<li>84</li>\n",
       "\t<li>86</li>\n",
       "\t<li>88</li>\n",
       "\t<li>90</li>\n",
       "\t<li>92</li>\n",
       "\t<li>94</li>\n",
       "\t<li>96</li>\n",
       "\t<li>98</li>\n",
       "\t<li>100</li>\n",
       "</ol>\n"
      ],
      "text/latex": [
       "\\begin{enumerate*}\n",
       "\\item 2\n",
       "\\item 4\n",
       "\\item 6\n",
       "\\item 8\n",
       "\\item 10\n",
       "\\item 12\n",
       "\\item 14\n",
       "\\item 16\n",
       "\\item 18\n",
       "\\item 20\n",
       "\\item 22\n",
       "\\item 24\n",
       "\\item 26\n",
       "\\item 28\n",
       "\\item 30\n",
       "\\item 32\n",
       "\\item 34\n",
       "\\item 36\n",
       "\\item 38\n",
       "\\item 40\n",
       "\\item 42\n",
       "\\item 44\n",
       "\\item 46\n",
       "\\item 48\n",
       "\\item 50\n",
       "\\item 52\n",
       "\\item 54\n",
       "\\item 56\n",
       "\\item 58\n",
       "\\item 60\n",
       "\\item 62\n",
       "\\item 64\n",
       "\\item 66\n",
       "\\item 68\n",
       "\\item 70\n",
       "\\item 72\n",
       "\\item 74\n",
       "\\item 76\n",
       "\\item 78\n",
       "\\item 80\n",
       "\\item 82\n",
       "\\item 84\n",
       "\\item 86\n",
       "\\item 88\n",
       "\\item 90\n",
       "\\item 92\n",
       "\\item 94\n",
       "\\item 96\n",
       "\\item 98\n",
       "\\item 100\n",
       "\\end{enumerate*}\n"
      ],
      "text/markdown": [
       "1. 2\n",
       "2. 4\n",
       "3. 6\n",
       "4. 8\n",
       "5. 10\n",
       "6. 12\n",
       "7. 14\n",
       "8. 16\n",
       "9. 18\n",
       "10. 20\n",
       "11. 22\n",
       "12. 24\n",
       "13. 26\n",
       "14. 28\n",
       "15. 30\n",
       "16. 32\n",
       "17. 34\n",
       "18. 36\n",
       "19. 38\n",
       "20. 40\n",
       "21. 42\n",
       "22. 44\n",
       "23. 46\n",
       "24. 48\n",
       "25. 50\n",
       "26. 52\n",
       "27. 54\n",
       "28. 56\n",
       "29. 58\n",
       "30. 60\n",
       "31. 62\n",
       "32. 64\n",
       "33. 66\n",
       "34. 68\n",
       "35. 70\n",
       "36. 72\n",
       "37. 74\n",
       "38. 76\n",
       "39. 78\n",
       "40. 80\n",
       "41. 82\n",
       "42. 84\n",
       "43. 86\n",
       "44. 88\n",
       "45. 90\n",
       "46. 92\n",
       "47. 94\n",
       "48. 96\n",
       "49. 98\n",
       "50. 100\n",
       "\n",
       "\n"
      ],
      "text/plain": [
       " [1]   2   4   6   8  10  12  14  16  18  20  22  24  26  28  30  32  34  36  38\n",
       "[20]  40  42  44  46  48  50  52  54  56  58  60  62  64  66  68  70  72  74  76\n",
       "[39]  78  80  82  84  86  88  90  92  94  96  98 100"
      ]
     },
     "metadata": {},
     "output_type": "display_data"
    },
    {
     "data": {
      "text/html": [
       "<ol class=list-inline>\n",
       "\t<li>1</li>\n",
       "\t<li>3</li>\n",
       "\t<li>5</li>\n",
       "\t<li>7</li>\n",
       "\t<li>9</li>\n",
       "\t<li>11</li>\n",
       "\t<li>13</li>\n",
       "\t<li>15</li>\n",
       "\t<li>17</li>\n",
       "\t<li>19</li>\n",
       "\t<li>21</li>\n",
       "\t<li>23</li>\n",
       "\t<li>25</li>\n",
       "\t<li>27</li>\n",
       "\t<li>29</li>\n",
       "\t<li>31</li>\n",
       "\t<li>33</li>\n",
       "\t<li>35</li>\n",
       "\t<li>37</li>\n",
       "\t<li>39</li>\n",
       "\t<li>41</li>\n",
       "\t<li>43</li>\n",
       "\t<li>45</li>\n",
       "\t<li>47</li>\n",
       "\t<li>49</li>\n",
       "\t<li>51</li>\n",
       "\t<li>53</li>\n",
       "\t<li>55</li>\n",
       "\t<li>57</li>\n",
       "\t<li>59</li>\n",
       "\t<li>61</li>\n",
       "\t<li>63</li>\n",
       "\t<li>65</li>\n",
       "\t<li>67</li>\n",
       "\t<li>69</li>\n",
       "\t<li>71</li>\n",
       "\t<li>73</li>\n",
       "\t<li>75</li>\n",
       "\t<li>77</li>\n",
       "\t<li>79</li>\n",
       "\t<li>81</li>\n",
       "\t<li>83</li>\n",
       "\t<li>85</li>\n",
       "\t<li>87</li>\n",
       "\t<li>89</li>\n",
       "\t<li>91</li>\n",
       "\t<li>93</li>\n",
       "\t<li>95</li>\n",
       "\t<li>97</li>\n",
       "\t<li>99</li>\n",
       "</ol>\n"
      ],
      "text/latex": [
       "\\begin{enumerate*}\n",
       "\\item 1\n",
       "\\item 3\n",
       "\\item 5\n",
       "\\item 7\n",
       "\\item 9\n",
       "\\item 11\n",
       "\\item 13\n",
       "\\item 15\n",
       "\\item 17\n",
       "\\item 19\n",
       "\\item 21\n",
       "\\item 23\n",
       "\\item 25\n",
       "\\item 27\n",
       "\\item 29\n",
       "\\item 31\n",
       "\\item 33\n",
       "\\item 35\n",
       "\\item 37\n",
       "\\item 39\n",
       "\\item 41\n",
       "\\item 43\n",
       "\\item 45\n",
       "\\item 47\n",
       "\\item 49\n",
       "\\item 51\n",
       "\\item 53\n",
       "\\item 55\n",
       "\\item 57\n",
       "\\item 59\n",
       "\\item 61\n",
       "\\item 63\n",
       "\\item 65\n",
       "\\item 67\n",
       "\\item 69\n",
       "\\item 71\n",
       "\\item 73\n",
       "\\item 75\n",
       "\\item 77\n",
       "\\item 79\n",
       "\\item 81\n",
       "\\item 83\n",
       "\\item 85\n",
       "\\item 87\n",
       "\\item 89\n",
       "\\item 91\n",
       "\\item 93\n",
       "\\item 95\n",
       "\\item 97\n",
       "\\item 99\n",
       "\\end{enumerate*}\n"
      ],
      "text/markdown": [
       "1. 1\n",
       "2. 3\n",
       "3. 5\n",
       "4. 7\n",
       "5. 9\n",
       "6. 11\n",
       "7. 13\n",
       "8. 15\n",
       "9. 17\n",
       "10. 19\n",
       "11. 21\n",
       "12. 23\n",
       "13. 25\n",
       "14. 27\n",
       "15. 29\n",
       "16. 31\n",
       "17. 33\n",
       "18. 35\n",
       "19. 37\n",
       "20. 39\n",
       "21. 41\n",
       "22. 43\n",
       "23. 45\n",
       "24. 47\n",
       "25. 49\n",
       "26. 51\n",
       "27. 53\n",
       "28. 55\n",
       "29. 57\n",
       "30. 59\n",
       "31. 61\n",
       "32. 63\n",
       "33. 65\n",
       "34. 67\n",
       "35. 69\n",
       "36. 71\n",
       "37. 73\n",
       "38. 75\n",
       "39. 77\n",
       "40. 79\n",
       "41. 81\n",
       "42. 83\n",
       "43. 85\n",
       "44. 87\n",
       "45. 89\n",
       "46. 91\n",
       "47. 93\n",
       "48. 95\n",
       "49. 97\n",
       "50. 99\n",
       "\n",
       "\n"
      ],
      "text/plain": [
       " [1]  1  3  5  7  9 11 13 15 17 19 21 23 25 27 29 31 33 35 37 39 41 43 45 47 49\n",
       "[26] 51 53 55 57 59 61 63 65 67 69 71 73 75 77 79 81 83 85 87 89 91 93 95 97 99"
      ]
     },
     "metadata": {},
     "output_type": "display_data"
    }
   ],
   "source": [
    "# first 50 even numbers\n",
    "\n",
    "even_numbers <- 1:50 *2 \n",
    "\n",
    "even_numbers\n",
    "\n",
    "odd_numbers <- 1:50 * 2 - 1\n",
    "\n",
    "odd_numbers"
   ]
  },
  {
   "cell_type": "markdown",
   "metadata": {
    "slideshow": {
     "slide_type": "slide"
    }
   },
   "source": [
    "## Summary\n",
    "\n",
    "Today:\n",
    "1. Working with Jupyter Notebooks $\\checkmark$\n",
    "2. Computing and arithmetic in R $\\checkmark$\n",
    "    + A comment about \"comments\" $\\checkmark$\n",
    "3. Working with \"names\" $\\checkmark$\n",
    "4. Types of Data $\\checkmark$\n",
    "5. Functions $\\checkmark$\n",
    "6. Lists $\\checkmark$"
   ]
  },
  {
   "cell_type": "markdown",
   "metadata": {
    "slideshow": {
     "slide_type": "slide"
    }
   },
   "source": [
    "## Summary of new R functions\n",
    "Here's a brief summary of the new R functions we learned today.  You should be familiar with these functions and able to use them in labs and projects.\n",
    "\n",
    "You might want to add their descriptions down here as you review/study.  As you use these functions frequently in labs, projects, and homework, you will learn to remember and understand them and be more \"fluent\" in using them.\n",
    "\n",
    "+ General functions\n",
    "    + print()\n",
    "    + sqrt()\n",
    "    + abs()\n",
    "+ Functions for checking types of data\n",
    "    + typeof()\n",
    "    + class()\n",
    "+ Functions for working with lists\n",
    "    + c()\n",
    "    + length()\n",
    "    + max()\n",
    "    + min()\n",
    "    + sum()\n",
    "    + mean()"
   ]
  },
  {
   "cell_type": "code",
   "execution_count": null,
   "metadata": {},
   "outputs": [],
   "source": []
  }
 ],
 "metadata": {
  "celltoolbar": "Slideshow",
  "kernelspec": {
   "display_name": "R",
   "language": "R",
   "name": "ir"
  },
  "language_info": {
   "codemirror_mode": "r",
   "file_extension": ".r",
   "mimetype": "text/x-r-source",
   "name": "R",
   "pygments_lexer": "r",
   "version": "3.5.1"
  }
 },
 "nbformat": 4,
 "nbformat_minor": 2
}
